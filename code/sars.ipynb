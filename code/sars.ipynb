{
 "nbformat": 4,
 "nbformat_minor": 2,
 "metadata": {
  "language_info": {
   "name": "python",
   "codemirror_mode": {
    "name": "ipython",
    "version": 3
   },
   "version": "3.8.2-final"
  },
  "orig_nbformat": 2,
  "file_extension": ".py",
  "mimetype": "text/x-python",
  "name": "python",
  "npconvert_exporter": "python",
  "pygments_lexer": "ipython3",
  "version": 3,
  "kernelspec": {
   "name": "python38264bit6d4e81537cef469fb146b8ff1dba8dc1",
   "display_name": "Python 3.8.2 64-bit"
  }
 },
 "cells": [
  {
   "cell_type": "code",
   "execution_count": 1,
   "metadata": {},
   "outputs": [],
   "source": [
    "# import liabries\n",
    "import requests\n",
    "from bs4 import BeautifulSoup as bs\n",
    "import re\n",
    "import pandas as pd\n",
    "pd.set_option('display.max_columns',None)\n",
    "pd.set_option('display.max_rows',None)"
   ]
  },
  {
   "cell_type": "code",
   "execution_count": 2,
   "metadata": {},
   "outputs": [],
   "source": [
    "#  src url and initial soup\n",
    "# get url list for data scraping\n",
    "url = 'https://www.who.int/csr/sars/country/en/'\n",
    "bs0 = bs(requests.get(url).content,'html')\n",
    "bs1 = bs0.find_all('a')\n",
    "lst = list(map(lambda x: x if '/csr/sars/country/' in str(x) else 0, bs1))\n",
    "who_main = 'http://www.who.int'\n",
    "url_lst = list(map(lambda x: who_main+x,[lst[i]['href'] for i in range(len(lst)) if lst[i]!=0] ))\n",
    "\n",
    "# url list to use for scraping\n",
    "url_use = [i for i in url_lst if len(bs(requests.get(i).content,'html').find_all('tr'))!=0]"
   ]
  },
  {
   "cell_type": "code",
   "execution_count": 3,
   "metadata": {},
   "outputs": [],
   "source": [
    "# normalize and retrieve list of date for df date column \n",
    "data_date = list(map(lambda x:re.findall('\\d+_\\d+_\\d+',x)[0],url_use[3:]))\n",
    "date_lst = ['2003_03_17','2003_03_18','2003_03_19']\n",
    "\n",
    "#df date col data\n",
    "data_date = date_lst+data_date\n"
   ]
  },
  {
   "cell_type": "code",
   "execution_count": 4,
   "metadata": {},
   "outputs": [],
   "source": [
    "# define function to scrap data using url\n",
    "\n",
    "def get_data(url,date):\n",
    "    try:\n",
    "        soup_table = bs(requests.get(url).content,'html').find_all('tr')\n",
    "        rows = []\n",
    "        for i in range(len(soup_table)):\n",
    "            if '/b' in str(soup_table[i]):\n",
    "                rows.append([j.text.replace(u'\\xa0',u' ').strip('\\n') for j in soup_table[i].find_all('b')])\n",
    "            elif '/p' in str(soup_table[i]):\n",
    "                rows.append([j.text.replace(u'\\xa0',u' ').strip('\\n') for j in soup_table[i].find_all('p')])\n",
    "            elif '/td' in str(soup_table[i]):\n",
    "                rows.append([j.text.replace(u'\\xa0',u' ').strip('\\n') for j in soup_table[i].find_all('td')]) \n",
    "        \n",
    "        df = pd.DataFrame(data = rows[1:], columns=rows[0])\n",
    "        df['Date'] = date\n",
    "        result = [rows, df['Date']]\n",
    "        return result\n",
    "                # df.to_csv('/c/Users/sfy/Documents/Ironhack/Personal_Projects/data/%s')\n",
    "    except:\n",
    "        print('ValueError! Check source.',url)\n",
    "        # raise ValueError('Check Column List Length')\n",
    "        \n"
   ]
  },
  {
   "cell_type": "code",
   "execution_count": 132,
   "metadata": {},
   "outputs": [],
   "source": [
    "# define function to clean data\n",
    "def clean_col(x):\n",
    "    cln_lst = x\n",
    "    if type(cln_lst) == list:\n",
    "        if len(cln_lst) != 0:\n",
    "            for i in range(len(cln_lst[0])):\n",
    "                if 'transmission' in cln_lst[0][i]:\n",
    "                    cln_lst[0][i] = 'Local_Chain(s)_of_Transmission'\n",
    "                elif 'Country' in cln_lst[0][i]:\n",
    "                    cln_lst[0][i] = 'Country'\n",
    "                elif ('Cumulative number' in cln_lst[0][i]) & ('Date for which cumulative number of cases is current' not in cln_lst[0][i]) == True:\n",
    "                    cln_lst[0][i] = 'Cumulative_Number_Of_Case(s)'\n",
    "                elif ('Number of deaths' in cln_lst[0][i]) & ('Final Status/ Number of deaths' not in cln_lst[0][i]) == True:\n",
    "                    cln_lst[0][i] = 'Number_Of_Deaths'\n",
    "                elif ('Number recovered' in cln_lst[0][i]) & ('Final Status/ Number recovered' not in cln_lst[0][i]) == True:\n",
    "                    cln_lst[0][i] = 'Number_Recovered'\n",
    "\n",
    "    return cln_lst\n",
    "\n",
    "def cln_trans(x):\n",
    "    if 'None' in str(x):\n",
    "        x = 'N'\n",
    "    elif 'Yes' in str(x):\n",
    "        x = 'Y'\n",
    "    else:\n",
    "        x = 'To be determined'\n",
    "    return x\n",
    "\n",
    "def cln_num_col(x):\n",
    "    x = str(x).replace(' ','').replace('§','').replace('*','')\n",
    "    if x == '':\n",
    "        x = '0'\n",
    "    return x\n",
    "\n",
    "def cln_Country(x):\n",
    "    x = x.lstrip().rstrip().split('^')[0]\n",
    "    return x\n",
    "\n",
    "# # define function to get df\n",
    "def get_df(data,date):\n",
    "    df = pd.DataFrame(data=data[1:],columns=data[0])\n",
    "    df['Date'] = date\n",
    "    return df\n",
    "\n"
   ]
  },
  {
   "cell_type": "code",
   "execution_count": 6,
   "metadata": {},
   "outputs": [
    {
     "name": "stdout",
     "output_type": "stream",
     "text": "ValueError! Check source. http://www.who.int/csr/sars/country/table/en/\nValueError! Check source. http://www.who.int/csr/sars/country/2003_04_10/en/\nValueError! Check source. http://www.who.int/csr/sars/country/2003_04_11/en/\nValueError! Check source. http://www.who.int/csr/sars/country/2003_04_12/en/\nValueError! Check source. http://www.who.int/csr/sars/country/2003_04_14/en/\nValueError! Check source. http://www.who.int/csr/sars/country/2003_04_15/en/\nValueError! Check source. http://www.who.int/csr/sars/country/2003_04_16/en/\nValueError! Check source. http://www.who.int/csr/sars/country/2003_04_17/en/\nValueError! Check source. http://www.who.int/csr/sars/country/2003_04_18/en/\nValueError! Check source. http://www.who.int/csr/sars/country/2003_04_19/en/\nValueError! Check source. http://www.who.int/csr/sars/country/2003_04_21/en/\nValueError! Check source. http://www.who.int/csr/sars/country/2003_04_22/en/\nValueError! Check source. http://www.who.int/csr/sars/country/2003_04_23/en/\nValueError! Check source. http://www.who.int/csr/sars/country/table2003_09_23/en/\nValueError! Check source. http://www.who.int/csr/sars/country/table2004_04_21/en/\n"
    }
   ],
   "source": [
    "origin = list(map(get_data,url_use,data_date))"
   ]
  },
  {
   "cell_type": "code",
   "execution_count": 7,
   "metadata": {},
   "outputs": [],
   "source": [
    "data_origin = [origin[i][0] for i in range(len(origin)) if type(origin[i])==list]\n",
    "data_df = list(map(clean_col,data_origin))"
   ]
  },
  {
   "cell_type": "code",
   "execution_count": 221,
   "metadata": {},
   "outputs": [],
   "source": [
    "date_df = [origin[i][1] for i in range(len(origin)) if type(origin[i])==list]\n",
    "lista = list(map(get_df, data_df, date_df))"
   ]
  },
  {
   "cell_type": "code",
   "execution_count": 357,
   "metadata": {},
   "outputs": [],
   "source": [
    "dfa = pd.concat(lista)\n",
    "dfb = dfa[dfa.columns[:5]]\n",
    "dfb['Cumulative_Number_Of_Case(s)'] = list(map(cln_num_col,dfb['Cumulative_Number_Of_Case(s)']))\n",
    "dfb['Number_Of_Deaths'] = list(map(cln_num_col,dfb['Number_Of_Deaths']))\n",
    "dfb['Local_Chain(s)_of_Transmission'] = list(map(cln_trans,dfb['Local_Chain(s)_of_Transmission']))\n",
    "dfb['Cumulative_Number_Of_Case(s)']=dfb['Cumulative_Number_Of_Case(s)'].astype(int)\n",
    "dfb['Number_Of_Deaths']=pd.Series(list(map(lambda x: '0' if x =='nan' else x, dfb['Number_Of_Deaths']))).astype(int)\n",
    "dfb['Country'] = list(map(cln_Country,dfb['Country']))\n",
    "dfb['Country'] = list(map(lambda x: 'China' if 'China' in x else x, dfb['Country']))\n",
    "dfb.reset_index(inplace=True)\n",
    "dfb.drop(columns='index',inplace=True)\n",
    "dfb.drop(dfb.index[[1585,1586]],inplace=True)\n",
    "# dfb"
   ]
  },
  {
   "cell_type": "code",
   "execution_count": 356,
   "metadata": {},
   "outputs": [],
   "source": [
    "dfc=dfb\n",
    "totalindex = dfc[dfc.Country=='Total'].index\n",
    "dfc.drop(totalindex , inplace=True)\n",
    "# dfc # without total num\n",
    "# totalindex = dfb[dfb.Country=='Total'].index\n",
    "# totalindex"
   ]
  },
  {
   "cell_type": "code",
   "execution_count": 355,
   "metadata": {},
   "outputs": [],
   "source": [
    "# dfc['Local_Chain(s)_of_Transmission'].value_counts() # column to be dropped"
   ]
  },
  {
   "cell_type": "code",
   "execution_count": 354,
   "metadata": {},
   "outputs": [],
   "source": [
    "ts = dfc.groupby(['Date','Country']).agg('sum')\n",
    "# ts"
   ]
  },
  {
   "cell_type": "code",
   "execution_count": 351,
   "metadata": {},
   "outputs": [],
   "source": [
    "date = []\n",
    "country = []\n",
    "positive = []\n",
    "death = []\n",
    "for i in range(len(ts.index)):\n",
    "    date.append(ts.index[i][0])\n",
    "    country.append(ts.index[i][1])\n",
    "    positive.append(ts.values[i][0])\n",
    "    death.append(ts.values[i][1])\n",
    "data = [date,country,positive,death]"
   ]
  },
  {
   "cell_type": "code",
   "execution_count": 353,
   "metadata": {},
   "outputs": [],
   "source": [
    "new_df = pd.DataFrame(data=data,index=['Date','Country', 'Cumulative_Number_Of_Case(s)', 'Number_Of_Deaths']).T\n",
    "# new_df.groupby('Date').agg('sum')"
   ]
  },
  {
   "cell_type": "code",
   "execution_count": 358,
   "metadata": {},
   "outputs": [
    {
     "data": {
      "text/plain": "Index(['Date', 'Country', 'Cumulative_Number_Of_Case(s)', 'Number_Of_Deaths'], dtype='object')"
     },
     "execution_count": 358,
     "metadata": {},
     "output_type": "execute_result"
    }
   ],
   "source": [
    "new_df.columns"
   ]
  },
  {
   "cell_type": "code",
   "execution_count": 360,
   "metadata": {},
   "outputs": [
    {
     "data": {
      "text/plain": "(2071, 4)"
     },
     "execution_count": 360,
     "metadata": {},
     "output_type": "execute_result"
    }
   ],
   "source": [
    "new_df.shape"
   ]
  },
  {
   "cell_type": "code",
   "execution_count": 361,
   "metadata": {},
   "outputs": [],
   "source": [
    "# debug for urls raised error \n",
    "url_lst_structure2 = ['http://www.who.int/csr/sars/country/table/en/','http://www.who.int/csr/sars/country/2003_04_10/en','http://www.who.int/csr/sars/country/2003_04_11/en','http://www.who.int/csr/sars/country/2003_04_12/en','http://www.who.int/csr/sars/country/2003_04_14/en','http://www.who.int/csr/sars/country/2003_04_15/en','http://www.who.int/csr/sars/country/2003_04_16/en','http://www.who.int/csr/sars/country/2003_04_17/en','http://www.who.int/csr/sars/country/2003_04_18/en','http://www.who.int/csr/sars/country/2003_04_19/en','http://www.who.int/csr/sars/country/2003_04_21/en','http://www.who.int/csr/sars/country/2003_04_22/en','http://www.who.int/csr/sars/country/2003_04_23/en','http://www.who.int/csr/sars/country/table2003_09_23/en','http://www.who.int/csr/sars/country/table2004_04_21/en/']\n",
    "url_use2 = [i for i in url_lst_structure2 if len(bs(requests.get(i).content,'html').find_all('tr'))!=0]\n",
    "data_date2 = list(map(lambda x:re.findall('\\d+_\\d+_\\d+',x)[0],url_use2[3:]))\n",
    "date_lst2 = ['2003_03_17','2003_03_18','2003_03_19']\n",
    "\n",
    "#df date col data\n",
    "data_date2 = date_lst2+data_date2"
   ]
  },
  {
   "cell_type": "code",
   "execution_count": 771,
   "metadata": {},
   "outputs": [],
   "source": [
    "# functions\n",
    "def get_data2(url,date):\n",
    "    soup_table2 = bs(requests.get(url).content,'html').find_all('tr')\n",
    "    rows2 = []\n",
    "    for row in soup_table2:\n",
    "        rows2.append([item.text.replace(u'\\xa0',u' ').strip('\\n') for item in row.find_all('td')]) \n",
    "        df2 = pd.DataFrame(rows2)\n",
    "        df2.rename(columns=pd.Series(df2.iloc[0].values),inplace=True)\n",
    "        df2 = df2[1:]\n",
    "        df2['Date'] = date\n",
    "        result = [df2.values,df2.columns]\n",
    "    return result\n",
    "    \n",
    "def cln_col2(x):\n",
    "    cln_lst = list(x[1])\n",
    "    for i in range(len(cln_lst)):\n",
    "        if cln_lst[i] != None:\n",
    "            if 'transmission' in cln_lst[i]:\n",
    "                cln_lst[i] = 'Local_Chain(s)_of_Transmission'\n",
    "            elif 'Country' in cln_lst[i]:\n",
    "                cln_lst[i] = 'Country'\n",
    "            elif ('Cumulative number' in cln_lst[i]) & ('Date for which cumulative number of cases is current' not in cln_lst[i]) == True:\n",
    "                cln_lst[i] = 'Cumulative_Number_Of_Case(s)'\n",
    "            elif ('Number of deaths' in cln_lst[i]) & ('Final Status/ Number of deaths' not in cln_lst[i]) == True:\n",
    "                cln_lst[i] = 'Number_Of_Deaths'\n",
    "            elif ('Number recovered' in cln_lst[i]) & ('Final Status/ Number recovered' not in cln_lst[i]) == True:\n",
    "                cln_lst[i] = 'Number_Recovered'\n",
    "        else:\n",
    "            str(cln_lst[i])\n",
    "\n",
    "    return cln_lst\n",
    "\n",
    "def rmvNone(x):\n",
    "    y = x\n",
    "    for i in range(len(y)):\n",
    "        if y[i] is None:\n",
    "            y[i] = '0'\n",
    "        elif y[i] == '':\n",
    "            y[i] = '0'\n",
    "    return y"
   ]
  },
  {
   "cell_type": "code",
   "execution_count": 774,
   "metadata": {},
   "outputs": [],
   "source": [
    "origin2 = list(map(get_data2,url_use2,data_date2))\n",
    "\n",
    "col_df2 = list(map(rmvNone, list(map(cln_col2, origin2))))\n",
    "# [clean_col(origin2[i][1]) for i in range(len(origin2))]# if type(origin2[i])==list]\n"
   ]
  },
  {
   "cell_type": "code",
   "execution_count": 613,
   "metadata": {},
   "outputs": [],
   "source": [
    "\n",
    "# col_df2 = list(map(clean_col,col_df2))\n",
    "data_df2 = [origin2[i][0] for i in range(len(origin2))]# if type(origin2[i])==list]\n",
    "# a_lst2 = [origin2[i][2] for i in range(len(origin2))]\n",
    "# for i in range(len(data_df2)):\n",
    "#     a_lst2.append(pd.DataFrame(data_df2[i]))\n",
    "#     a_lst2[i]['Date'] = date_df2[i]\n",
    "# dfa2 = pd.concat(a_lst2)"
   ]
  },
  {
   "cell_type": "code",
   "execution_count": 777,
   "metadata": {},
   "outputs": [],
   "source": [
    "df2a = pd.concat([pd.DataFrame(data_df2[i]) for i in range(len(data_df2))])\n",
    "df2a = df2a[df2a.columns[:5]]#.rename(columns=col_df2)\n",
    "# col_df2"
   ]
  },
  {
   "cell_type": "code",
   "execution_count": 378,
   "metadata": {},
   "outputs": [
    {
     "name": "stdout",
     "output_type": "stream",
     "text": "in data_origin (index),  0 len not equals to 1\nin data_origin (index),  1 len not equals to 2\nin data_origin (index),  3 len not equals to 4\nin data_origin (index),  4 len not equals to 5\nin data_origin (index),  6 len not equals to 7\nin data_origin (index),  12 len not equals to 13\n"
    },
    {
     "ename": "IndexError",
     "evalue": "list index out of range",
     "output_type": "error",
     "traceback": [
      "\u001b[1;31m---------------------------------------------------------------------------\u001b[0m",
      "\u001b[1;31mIndexError\u001b[0m                                Traceback (most recent call last)",
      "\u001b[1;32m<ipython-input-378-d1fe95d4734d>\u001b[0m in \u001b[0;36m<module>\u001b[1;34m\u001b[0m\n\u001b[0;32m      2\u001b[0m \u001b[1;32mwhile\u001b[0m \u001b[0mi\u001b[0m\u001b[1;33m+\u001b[0m\u001b[1;36m1\u001b[0m \u001b[1;33m<=\u001b[0m \u001b[0mlen\u001b[0m\u001b[1;33m(\u001b[0m\u001b[0mdata_origin2\u001b[0m\u001b[1;33m)\u001b[0m\u001b[1;33m:\u001b[0m\u001b[1;33m\u001b[0m\u001b[1;33m\u001b[0m\u001b[0m\n\u001b[0;32m      3\u001b[0m     \u001b[1;32mfor\u001b[0m \u001b[0mi\u001b[0m \u001b[1;32min\u001b[0m \u001b[0mrange\u001b[0m\u001b[1;33m(\u001b[0m\u001b[0mlen\u001b[0m\u001b[1;33m(\u001b[0m\u001b[0mdata_origin2\u001b[0m\u001b[1;33m)\u001b[0m\u001b[1;33m)\u001b[0m\u001b[1;33m:\u001b[0m\u001b[1;33m\u001b[0m\u001b[1;33m\u001b[0m\u001b[0m\n\u001b[1;32m----> 4\u001b[1;33m         \u001b[1;32mif\u001b[0m \u001b[0mlen\u001b[0m\u001b[1;33m(\u001b[0m\u001b[0mdata_origin2\u001b[0m\u001b[1;33m[\u001b[0m\u001b[0mi\u001b[0m\u001b[1;33m]\u001b[0m\u001b[1;33m)\u001b[0m\u001b[1;33m!=\u001b[0m\u001b[0mlen\u001b[0m\u001b[1;33m(\u001b[0m\u001b[0mdata_origin2\u001b[0m\u001b[1;33m[\u001b[0m\u001b[0mi\u001b[0m\u001b[1;33m+\u001b[0m\u001b[1;36m1\u001b[0m\u001b[1;33m]\u001b[0m\u001b[1;33m)\u001b[0m\u001b[1;33m:\u001b[0m\u001b[1;33m\u001b[0m\u001b[1;33m\u001b[0m\u001b[0m\n\u001b[0m\u001b[0;32m      5\u001b[0m             \u001b[0mprint\u001b[0m\u001b[1;33m(\u001b[0m\u001b[1;34m'in data_origin (index),  %s len not equals to %s'\u001b[0m \u001b[1;33m%\u001b[0m \u001b[1;33m(\u001b[0m\u001b[0mi\u001b[0m\u001b[1;33m,\u001b[0m \u001b[0mi\u001b[0m\u001b[1;33m+\u001b[0m\u001b[1;36m1\u001b[0m\u001b[1;33m)\u001b[0m\u001b[1;33m)\u001b[0m\u001b[1;33m\u001b[0m\u001b[1;33m\u001b[0m\u001b[0m\n\u001b[0;32m      6\u001b[0m         \u001b[1;32melse\u001b[0m\u001b[1;33m:\u001b[0m\u001b[1;33m\u001b[0m\u001b[1;33m\u001b[0m\u001b[0m\n",
      "\u001b[1;31mIndexError\u001b[0m: list index out of range"
     ]
    }
   ],
   "source": [
    "run = []\n",
    "while i+1 <= len(data_origin2):\n",
    "    for i in range(len(data_origin2)):\n",
    "        if len(data_origin2[i])!=len(data_origin2[i+1]):\n",
    "            print('in data_origin (index),  %s len not equals to %s' % (i, i+1))\n",
    "        else: \n",
    "            run.append(i)"
   ]
  },
  {
   "cell_type": "code",
   "execution_count": 785,
   "metadata": {},
   "outputs": [
    {
     "data": {
      "text/html": "<div>\n<style scoped>\n    .dataframe tbody tr th:only-of-type {\n        vertical-align: middle;\n    }\n\n    .dataframe tbody tr th {\n        vertical-align: top;\n    }\n\n    .dataframe thead th {\n        text-align: right;\n    }\n</style>\n<table border=\"1\" class=\"dataframe\">\n  <thead>\n    <tr style=\"text-align: right;\">\n      <th></th>\n      <th>0</th>\n      <th>1</th>\n      <th>2</th>\n      <th>3</th>\n      <th>4</th>\n    </tr>\n  </thead>\n  <tbody>\n    <tr>\n      <th>0</th>\n      <td>Germany</td>\n      <td>1</td>\n      <td>0</td>\n      <td>None*</td>\n      <td>2003_03_17</td>\n    </tr>\n    <tr>\n      <th>1</th>\n      <td>Canada</td>\n      <td>8</td>\n      <td>2</td>\n      <td>Yes</td>\n      <td>2003_03_17</td>\n    </tr>\n    <tr>\n      <th>2</th>\n      <td>Singapore</td>\n      <td>20</td>\n      <td>0</td>\n      <td>Yes</td>\n      <td>2003_03_17</td>\n    </tr>\n    <tr>\n      <th>3</th>\n      <td>Hong Kong Special Administrative Region of Ch...</td>\n      <td>95</td>\n      <td>1**</td>\n      <td>Yes</td>\n      <td>2003_03_17</td>\n    </tr>\n    <tr>\n      <th>4</th>\n      <td>Switzerland</td>\n      <td>2</td>\n      <td>0</td>\n      <td>To be determined</td>\n      <td>2003_03_17</td>\n    </tr>\n    <tr>\n      <th>5</th>\n      <td>Thailand</td>\n      <td>1</td>\n      <td>0</td>\n      <td>None*</td>\n      <td>2003_03_17</td>\n    </tr>\n    <tr>\n      <th>6</th>\n      <td>Viet Nam</td>\n      <td>40</td>\n      <td>1</td>\n      <td>Yes</td>\n      <td>2003_03_17</td>\n    </tr>\n    <tr>\n      <th>7</th>\n      <td>Total</td>\n      <td>167</td>\n      <td>4</td>\n      <td></td>\n      <td>2003_03_17</td>\n    </tr>\n    <tr>\n      <th>0</th>\n      <td>Number of deaths</td>\n      <td>Number recovered</td>\n      <td>None</td>\n      <td>None</td>\n      <td>None</td>\n    </tr>\n    <tr>\n      <th>1</th>\n      <td>Brazil</td>\n      <td>2</td>\n      <td>1</td>\n      <td>0</td>\n      <td>0</td>\n    </tr>\n    <tr>\n      <th>2</th>\n      <td>Canada</td>\n      <td>\\n     97</td>\n      <td>3</td>\n      <td>10</td>\n      <td>22</td>\n    </tr>\n    <tr>\n      <th>3</th>\n      <td>China</td>\n      <td>1290</td>\n      <td>10</td>\n      <td>55</td>\n      <td>1025</td>\n    </tr>\n    <tr>\n      <th>4</th>\n      <td>China, Hong Kong Special Administrative Region...</td>\n      <td>998</td>\n      <td>28</td>\n      <td>30</td>\n      <td>154</td>\n    </tr>\n    <tr>\n      <th>5</th>\n      <td>China, Taiwan</td>\n      <td>19</td>\n      <td>0</td>\n      <td>0</td>\n      <td>5</td>\n    </tr>\n    <tr>\n      <th>6</th>\n      <td>France</td>\n      <td>4</td>\n      <td>0</td>\n      <td>0</td>\n      <td>0</td>\n    </tr>\n    <tr>\n      <th>7</th>\n      <td>Germany</td>\n      <td>6</td>\n      <td>1</td>\n      <td>0</td>\n      <td>2</td>\n    </tr>\n    <tr>\n      <th>8</th>\n      <td>Italy</td>\n      <td>3</td>\n      <td>0</td>\n      <td>0</td>\n      <td>1</td>\n    </tr>\n    <tr>\n      <th>9</th>\n      <td>Kuwait</td>\n      <td>1</td>\n      <td>1</td>\n      <td>0</td>\n      <td>0</td>\n    </tr>\n    <tr>\n      <th>10</th>\n      <td>Malaysia</td>\n      <td>3</td>\n      <td>2</td>\n      <td>1</td>\n      <td>0</td>\n    </tr>\n    <tr>\n      <th>11</th>\n      <td>Republic of Ireland</td>\n      <td>1</td>\n      <td>0</td>\n      <td>0</td>\n      <td>1</td>\n    </tr>\n    <tr>\n      <th>12</th>\n      <td>Romania</td>\n      <td>1</td>\n      <td>0</td>\n      <td>0</td>\n      <td>not available</td>\n    </tr>\n    <tr>\n      <th>13</th>\n      <td>Singapore</td>\n      <td>\\n     126</td>\n      <td>8</td>\n      <td>9</td>\n      <td>75</td>\n    </tr>\n    <tr>\n      <th>14</th>\n      <td>Spain</td>\n      <td>1</td>\n      <td>0</td>\n      <td>0</td>\n      <td>0</td>\n    </tr>\n    <tr>\n      <th>15</th>\n      <td>Switzerland</td>\n      <td>1</td>\n      <td>0</td>\n      <td>0</td>\n      <td>1</td>\n    </tr>\n    <tr>\n      <th>16</th>\n      <td>Thailand</td>\n      <td>7</td>\n      <td>0</td>\n      <td>2</td>\n      <td>5</td>\n    </tr>\n    <tr>\n      <th>17</th>\n      <td>United Kingdom</td>\n      <td>5</td>\n      <td>0</td>\n      <td>0</td>\n      <td>3</td>\n    </tr>\n    <tr>\n      <th>18</th>\n      <td>United States</td>\n      <td>154</td>\n      <td>5</td>\n      <td>0</td>\n      <td>not \\n    available</td>\n    </tr>\n    <tr>\n      <th>19</th>\n      <td>Viet Nam</td>\n      <td>62</td>\n      <td>0</td>\n      <td>4</td>\n      <td>43</td>\n    </tr>\n    <tr>\n      <th>20</th>\n      <td>Total</td>\n      <td>2781</td>\n      <td>59</td>\n      <td>111</td>\n      <td>\\n    1337</td>\n    </tr>\n    <tr>\n      <th>0</th>\n      <td>Number of deaths</td>\n      <td>Number recovered</td>\n      <td>None</td>\n      <td>None</td>\n      <td>None</td>\n    </tr>\n    <tr>\n      <th>1</th>\n      <td>Brazil</td>\n      <td>2</td>\n      <td>0</td>\n      <td>0</td>\n      <td>0</td>\n    </tr>\n    <tr>\n      <th>2</th>\n      <td>Canada</td>\n      <td>98</td>\n      <td>1</td>\n      <td>10</td>\n      <td>25</td>\n    </tr>\n    <tr>\n      <th>3</th>\n      <td>China</td>\n      <td>1309</td>\n      <td>19</td>\n      <td>58</td>\n      <td>1037</td>\n    </tr>\n    <tr>\n      <th>4</th>\n      <td>China, Hong Kong Special Administrative Region 4</td>\n      <td>1059</td>\n      <td>61</td>\n      <td>32</td>\n      <td>169</td>\n    </tr>\n    <tr>\n      <th>5</th>\n      <td>China, Taiwan</td>\n      <td>21</td>\n      <td>2</td>\n      <td>0</td>\n      <td>6</td>\n    </tr>\n    <tr>\n      <th>6</th>\n      <td>France</td>\n      <td>5</td>\n      <td>1</td>\n      <td>0</td>\n      <td>0</td>\n    </tr>\n    <tr>\n      <th>7</th>\n      <td>Germany</td>\n      <td>6</td>\n      <td>0</td>\n      <td>0</td>\n      <td>4</td>\n    </tr>\n    <tr>\n      <th>8</th>\n      <td>Italy</td>\n      <td>3</td>\n      <td>0</td>\n      <td>0</td>\n      <td>2</td>\n    </tr>\n    <tr>\n      <th>9</th>\n      <td>Japan</td>\n      <td>4</td>\n      <td>4</td>\n      <td>0</td>\n      <td>0</td>\n    </tr>\n    <tr>\n      <th>10</th>\n      <td>Kuwait</td>\n      <td>1</td>\n      <td>0</td>\n      <td>0</td>\n      <td>0</td>\n    </tr>\n    <tr>\n      <th>11</th>\n      <td>Malaysia</td>\n      <td>4</td>\n      <td>1</td>\n      <td>1</td>\n      <td>0</td>\n    </tr>\n    <tr>\n      <th>12</th>\n      <td>Republic of Ireland</td>\n      <td>1</td>\n      <td>0</td>\n      <td>0</td>\n      <td>1</td>\n    </tr>\n    <tr>\n      <th>13</th>\n      <td>Romania</td>\n      <td>1</td>\n      <td>0</td>\n      <td>0</td>\n      <td>not available</td>\n    </tr>\n    <tr>\n      <th>14</th>\n      <td>Singapore</td>\n      <td>133</td>\n      <td>7</td>\n      <td>9</td>\n      <td>77</td>\n    </tr>\n    <tr>\n      <th>15</th>\n      <td>South Africa</td>\n      <td>1</td>\n      <td>1</td>\n      <td>0</td>\n      <td>0</td>\n    </tr>\n    <tr>\n      <th>16</th>\n      <td>Spain</td>\n      <td>1</td>\n      <td>0</td>\n      <td>0</td>\n      <td>0</td>\n    </tr>\n    <tr>\n      <th>17</th>\n      <td>Switzerland</td>\n      <td>1</td>\n      <td>0</td>\n      <td>0</td>\n      <td>1</td>\n    </tr>\n    <tr>\n      <th>18</th>\n      <td>Thailand</td>\n      <td>7</td>\n      <td>0</td>\n      <td>2</td>\n      <td>5</td>\n    </tr>\n    <tr>\n      <th>19</th>\n      <td>United Kingdom</td>\n      <td>5</td>\n      <td>0</td>\n      <td>0</td>\n      <td>3</td>\n    </tr>\n    <tr>\n      <th>20</th>\n      <td>United States</td>\n      <td>166</td>\n      <td>12</td>\n      <td>0</td>\n      <td>not available</td>\n    </tr>\n    <tr>\n      <th>21</th>\n      <td>Viet Nam</td>\n      <td>62</td>\n      <td>0</td>\n      <td>4</td>\n      <td>43</td>\n    </tr>\n    <tr>\n      <th>22</th>\n      <td>Total</td>\n      <td>2890</td>\n      <td>109</td>\n      <td>116</td>\n      <td>1373</td>\n    </tr>\n    <tr>\n      <th>0</th>\n      <td>Number of deaths</td>\n      <td>Number recovered</td>\n      <td>None</td>\n      <td>None</td>\n      <td>None</td>\n    </tr>\n    <tr>\n      <th>1</th>\n      <td>Brazil</td>\n      <td>2</td>\n      <td>0</td>\n      <td>0</td>\n      <td>0</td>\n    </tr>\n    <tr>\n      <th>2</th>\n      <td>Canada</td>\n      <td>101</td>\n      <td>3</td>\n      <td>10</td>\n      <td>26</td>\n    </tr>\n    <tr>\n      <th>3</th>\n      <td>China</td>\n      <td>1309</td>\n      <td>0</td>\n      <td>58</td>\n      <td>1037</td>\n    </tr>\n    <tr>\n      <th>4</th>\n      <td>China, Hong Kong Special Administrative Region 4</td>\n      <td>1108</td>\n      <td>49</td>\n      <td>35</td>\n      <td>215</td>\n    </tr>\n    <tr>\n      <th>5</th>\n      <td>China, Taiwan</td>\n      <td>23</td>\n      <td>2</td>\n      <td>0</td>\n      <td>7</td>\n    </tr>\n    <tr>\n      <th>6</th>\n      <td>France</td>\n      <td>5</td>\n      <td>0</td>\n      <td>0</td>\n      <td>1</td>\n    </tr>\n    <tr>\n      <th>7</th>\n      <td>Germany</td>\n      <td>6</td>\n      <td>0</td>\n      <td>0</td>\n      <td>4</td>\n    </tr>\n    <tr>\n      <th>8</th>\n      <td>Italy</td>\n      <td>3</td>\n      <td>0</td>\n      <td>0</td>\n      <td>2</td>\n    </tr>\n    <tr>\n      <th>9</th>\n      <td>Japan</td>\n      <td>4</td>\n      <td>0</td>\n      <td>0</td>\n      <td>0</td>\n    </tr>\n    <tr>\n      <th>10</th>\n      <td>Kuwait</td>\n      <td>1</td>\n      <td>0</td>\n      <td>0</td>\n      <td>0</td>\n    </tr>\n    <tr>\n      <th>11</th>\n      <td>Malaysia</td>\n      <td>4</td>\n      <td>0</td>\n      <td>1</td>\n      <td>0</td>\n    </tr>\n    <tr>\n      <th>12</th>\n      <td>Republic of Ireland</td>\n      <td>1</td>\n      <td>0</td>\n      <td>0</td>\n      <td>1</td>\n    </tr>\n    <tr>\n      <th>13</th>\n      <td>Romania</td>\n      <td>1</td>\n      <td>0</td>\n      <td>0</td>\n      <td>not available</td>\n    </tr>\n    <tr>\n      <th>14</th>\n      <td>Singapore</td>\n      <td>147</td>\n      <td>14</td>\n      <td>9</td>\n      <td>77</td>\n    </tr>\n    <tr>\n      <th>15</th>\n      <td>South Africa</td>\n      <td>1</td>\n      <td>0</td>\n      <td>0</td>\n      <td>0</td>\n    </tr>\n    <tr>\n      <th>16</th>\n      <td>Spain</td>\n      <td>1</td>\n      <td>0</td>\n      <td>0</td>\n      <td>0</td>\n    </tr>\n    <tr>\n      <th>17</th>\n      <td>Switzerland</td>\n      <td>1</td>\n      <td>0</td>\n      <td>0</td>\n      <td>1</td>\n    </tr>\n    <tr>\n      <th>18</th>\n      <td>Thailand</td>\n      <td>8</td>\n      <td>1</td>\n      <td>2</td>\n      <td>5</td>\n    </tr>\n    <tr>\n      <th>19</th>\n      <td>United Kingdom</td>\n      <td>6</td>\n      <td>1</td>\n      <td>0</td>\n      <td>3</td>\n    </tr>\n    <tr>\n      <th>20</th>\n      <td>United States</td>\n      <td>166</td>\n      <td>0</td>\n      <td>0</td>\n      <td>not available</td>\n    </tr>\n    <tr>\n      <th>21</th>\n      <td>Viet Nam 5</td>\n      <td>62</td>\n      <td>0</td>\n      <td>4</td>\n      <td>46</td>\n    </tr>\n    <tr>\n      <th>22</th>\n      <td>Total</td>\n      <td>2960</td>\n      <td>70</td>\n      <td>119</td>\n      <td>1425</td>\n    </tr>\n    <tr>\n      <th>0</th>\n      <td>Number of deaths</td>\n      <td>Number recovered</td>\n      <td>None</td>\n      <td>None</td>\n      <td>None</td>\n    </tr>\n    <tr>\n      <th>1</th>\n      <td>Brazil</td>\n      <td>2</td>\n      <td>0</td>\n      <td>0</td>\n      <td>0</td>\n    </tr>\n    <tr>\n      <th>2</th>\n      <td>Canada</td>\n      <td>100</td>\n      <td>-1</td>\n      <td>13</td>\n      <td>27</td>\n    </tr>\n    <tr>\n      <th>3</th>\n      <td>China</td>\n      <td>1418</td>\n      <td>109</td>\n      <td>64</td>\n      <td>1088</td>\n    </tr>\n    <tr>\n      <th>4</th>\n      <td>China, Hong Kong Special Administrative Region 4</td>\n      <td>1190</td>\n      <td>82</td>\n      <td>47</td>\n      <td>229</td>\n    </tr>\n    <tr>\n      <th>5</th>\n      <td>China, Taiwan</td>\n      <td>23</td>\n      <td>0</td>\n      <td>0</td>\n      <td>7</td>\n    </tr>\n    <tr>\n      <th>6</th>\n      <td>France</td>\n      <td>5</td>\n      <td>0</td>\n      <td>0</td>\n      <td>1</td>\n    </tr>\n    <tr>\n      <th>7</th>\n      <td>Germany</td>\n      <td>6</td>\n      <td>0</td>\n      <td>0</td>\n      <td>4</td>\n    </tr>\n    <tr>\n      <th>8</th>\n      <td>Indonesia</td>\n      <td>1</td>\n      <td>1</td>\n      <td>0</td>\n      <td>0</td>\n    </tr>\n    <tr>\n      <th>9</th>\n      <td>Italy</td>\n      <td>3</td>\n      <td>0</td>\n      <td>0</td>\n      <td>2</td>\n    </tr>\n    <tr>\n      <th>10</th>\n      <td>Kuwait</td>\n      <td>1</td>\n      <td>0</td>\n      <td>0</td>\n      <td>0</td>\n    </tr>\n    <tr>\n      <th>11</th>\n      <td>Malaysia</td>\n      <td>4</td>\n      <td>0</td>\n      <td>1</td>\n      <td>0</td>\n    </tr>\n    <tr>\n      <th>12</th>\n      <td>Philippines</td>\n      <td>1</td>\n      <td>1</td>\n      <td>0</td>\n      <td>1</td>\n    </tr>\n    <tr>\n      <th>13</th>\n      <td>Republic of Ireland</td>\n      <td>1</td>\n      <td>0</td>\n      <td>0</td>\n      <td>1</td>\n    </tr>\n    <tr>\n      <th>14</th>\n      <td>Romania</td>\n      <td>1</td>\n      <td>0</td>\n      <td>0</td>\n      <td>not available</td>\n    </tr>\n    <tr>\n      <th>15</th>\n      <td>Singapore</td>\n      <td>158</td>\n      <td>11</td>\n      <td>12</td>\n      <td>84</td>\n    </tr>\n    <tr>\n      <th>16</th>\n      <td>South Africa</td>\n      <td>1</td>\n      <td>0</td>\n      <td>0</td>\n      <td>0</td>\n    </tr>\n    <tr>\n      <th>17</th>\n      <td>Spain</td>\n      <td>1</td>\n      <td>0</td>\n      <td>0</td>\n      <td>0</td>\n    </tr>\n    <tr>\n      <th>18</th>\n      <td>Sweden</td>\n      <td>1</td>\n      <td>1</td>\n      <td>0</td>\n      <td>0</td>\n    </tr>\n    <tr>\n      <th>19</th>\n      <td>Switzerland</td>\n      <td>1</td>\n      <td>0</td>\n      <td>0</td>\n      <td>1</td>\n    </tr>\n    <tr>\n      <th>20</th>\n      <td>Thailand</td>\n      <td>8</td>\n      <td>0</td>\n      <td>2</td>\n      <td>5</td>\n    </tr>\n    <tr>\n      <th>21</th>\n      <td>United Kingdom</td>\n      <td>6</td>\n      <td>0</td>\n      <td>0</td>\n      <td>3</td>\n    </tr>\n    <tr>\n      <th>22</th>\n      <td>United States</td>\n      <td>174</td>\n      <td>8</td>\n      <td>0</td>\n      <td>not available</td>\n    </tr>\n    <tr>\n      <th>23</th>\n      <td>Viet Nam</td>\n      <td>63</td>\n      <td>1</td>\n      <td>5</td>\n      <td>46</td>\n    </tr>\n    <tr>\n      <th>24</th>\n      <td>Total</td>\n      <td>3169</td>\n      <td>213</td>\n      <td>144</td>\n      <td>1499</td>\n    </tr>\n    <tr>\n      <th>0</th>\n      <td>Number of deaths</td>\n      <td>Number recovered3</td>\n      <td>None</td>\n      <td>None</td>\n      <td>None</td>\n    </tr>\n    <tr>\n      <th>1</th>\n      <td>Brazil</td>\n      <td>2</td>\n      <td>0</td>\n      <td>0</td>\n      <td>0</td>\n    </tr>\n    <tr>\n      <th>2</th>\n      <td>Canada</td>\n      <td>100</td>\n      <td>0</td>\n      <td>13</td>\n      <td>27</td>\n    </tr>\n    <tr>\n      <th>3</th>\n      <td>China</td>\n      <td>1418</td>\n      <td>0</td>\n      <td>64</td>\n      <td>1088</td>\n    </tr>\n    <tr>\n      <th>4</th>\n      <td>China, Hong Kong Special Administrative Region 5</td>\n      <td>1232</td>\n      <td>42</td>\n      <td>56</td>\n      <td>243</td>\n    </tr>\n    <tr>\n      <th>5</th>\n      <td>China, Taiwan</td>\n      <td>23</td>\n      <td>0</td>\n      <td>0</td>\n      <td>7</td>\n    </tr>\n    <tr>\n      <th>6</th>\n      <td>France</td>\n      <td>5</td>\n      <td>0</td>\n      <td>0</td>\n      <td>1</td>\n    </tr>\n    <tr>\n      <th>7</th>\n      <td>Germany</td>\n      <td>6</td>\n      <td>0</td>\n      <td>0</td>\n      <td>4</td>\n    </tr>\n    <tr>\n      <th>8</th>\n      <td>Indonesia</td>\n      <td>1</td>\n      <td>0</td>\n      <td>0</td>\n      <td>0</td>\n    </tr>\n    <tr>\n      <th>9</th>\n      <td>Italy</td>\n      <td>3</td>\n      <td>0</td>\n      <td>0</td>\n      <td>2</td>\n    </tr>\n    <tr>\n      <th>10</th>\n      <td>Japan</td>\n      <td>1</td>\n      <td>1</td>\n      <td>0</td>\n      <td>0</td>\n    </tr>\n    <tr>\n      <th>11</th>\n      <td>Kuwait</td>\n      <td>1</td>\n      <td>0</td>\n      <td>0</td>\n      <td>0</td>\n    </tr>\n    <tr>\n      <th>12</th>\n      <td>Malaysia</td>\n      <td>4</td>\n      <td>0</td>\n      <td>1</td>\n      <td>0</td>\n    </tr>\n    <tr>\n      <th>13</th>\n      <td>Philippines</td>\n      <td>1</td>\n      <td>0</td>\n      <td>0</td>\n      <td>1</td>\n    </tr>\n    <tr>\n      <th>14</th>\n      <td>Republic of Ireland</td>\n      <td>1</td>\n      <td>0</td>\n      <td>0</td>\n      <td>1</td>\n    </tr>\n    <tr>\n      <th>15</th>\n      <td>Romania</td>\n      <td>1</td>\n      <td>0</td>\n      <td>0</td>\n      <td>1</td>\n    </tr>\n    <tr>\n      <th>16</th>\n      <td>Singapore</td>\n      <td>162</td>\n      <td>4</td>\n      <td>13</td>\n      <td>85</td>\n    </tr>\n    <tr>\n      <th>17</th>\n      <td>South Africa</td>\n      <td>1</td>\n      <td>0</td>\n      <td>0</td>\n      <td>0</td>\n    </tr>\n    <tr>\n      <th>18</th>\n      <td>Spain</td>\n      <td>1</td>\n      <td>0</td>\n      <td>0</td>\n      <td>0</td>\n    </tr>\n    <tr>\n      <th>19</th>\n      <td>Sweden</td>\n      <td>1</td>\n      <td>0</td>\n      <td>0</td>\n      <td>0</td>\n    </tr>\n    <tr>\n      <th>20</th>\n      <td>Switzerland</td>\n      <td>1</td>\n      <td>0</td>\n      <td>0</td>\n      <td>1</td>\n    </tr>\n    <tr>\n      <th>21</th>\n      <td>Thailand</td>\n      <td>8</td>\n      <td>0</td>\n      <td>2</td>\n      <td>5</td>\n    </tr>\n    <tr>\n      <th>22</th>\n      <td>United Kingdom</td>\n      <td>6</td>\n      <td>0</td>\n      <td>0</td>\n      <td>3</td>\n    </tr>\n    <tr>\n      <th>23</th>\n      <td>United States</td>\n      <td>193</td>\n      <td>19</td>\n      <td>0</td>\n      <td>not available</td>\n    </tr>\n    <tr>\n      <th>24</th>\n      <td>Viet Nam</td>\n      <td>63</td>\n      <td>0</td>\n      <td>5</td>\n      <td>46</td>\n    </tr>\n    <tr>\n      <th>25</th>\n      <td>Total</td>\n      <td>3235</td>\n      <td>66</td>\n      <td>154</td>\n      <td>1515</td>\n    </tr>\n    <tr>\n      <th>0</th>\n      <td>Number of deaths</td>\n      <td>Number recovered3</td>\n      <td>None</td>\n      <td>None</td>\n      <td>None</td>\n    </tr>\n    <tr>\n      <th>1</th>\n      <td>Brazil</td>\n      <td>2</td>\n      <td>0</td>\n      <td>0</td>\n      <td>0</td>\n    </tr>\n    <tr>\n      <th>2</th>\n      <td>Canada</td>\n      <td>103</td>\n      <td>3</td>\n      <td>13</td>\n      <td>37</td>\n    </tr>\n    <tr>\n      <th>3</th>\n      <td>China</td>\n      <td>1432</td>\n      <td>14</td>\n      <td>64</td>\n      <td>1094</td>\n    </tr>\n    <tr>\n      <th>4</th>\n      <td>China, Hong Kong Special Administrative Region 5</td>\n      <td>1268</td>\n      <td>36</td>\n      <td>61</td>\n      <td>257</td>\n    </tr>\n    <tr>\n      <th>5</th>\n      <td>China, Taiwan</td>\n      <td>27</td>\n      <td>4</td>\n      <td>0</td>\n      <td>10</td>\n    </tr>\n    <tr>\n      <th>6</th>\n      <td>France</td>\n      <td>5</td>\n      <td>0</td>\n      <td>0</td>\n      <td>1</td>\n    </tr>\n    <tr>\n      <th>7</th>\n      <td>Germany</td>\n      <td>6</td>\n      <td>0</td>\n      <td>0</td>\n      <td>4</td>\n    </tr>\n    <tr>\n      <th>8</th>\n      <td>Indonesia</td>\n      <td>1</td>\n      <td>0</td>\n      <td>0</td>\n      <td>0</td>\n    </tr>\n    <tr>\n      <th>9</th>\n      <td>Italy</td>\n      <td>3</td>\n      <td>0</td>\n      <td>0</td>\n      <td>2</td>\n    </tr>\n    <tr>\n      <th>10</th>\n      <td>Japan</td>\n      <td>1</td>\n      <td>0</td>\n      <td>0</td>\n      <td>0</td>\n    </tr>\n    <tr>\n      <th>11</th>\n      <td>Kuwait</td>\n      <td>1</td>\n      <td>0</td>\n      <td>0</td>\n      <td>0</td>\n    </tr>\n    <tr>\n      <th>12</th>\n      <td>Malaysia</td>\n      <td>5</td>\n      <td>1</td>\n      <td>1</td>\n      <td>0</td>\n    </tr>\n    <tr>\n      <th>13</th>\n      <td>Philippines</td>\n      <td>1</td>\n      <td>0</td>\n      <td>0</td>\n      <td>1</td>\n    </tr>\n    <tr>\n      <th>14</th>\n      <td>Republic of Ireland</td>\n      <td>1</td>\n      <td>0</td>\n      <td>0</td>\n      <td>1</td>\n    </tr>\n    <tr>\n      <th>15</th>\n      <td>Romania</td>\n      <td>1</td>\n      <td>0</td>\n      <td>0</td>\n      <td>1</td>\n    </tr>\n    <tr>\n      <th>16</th>\n      <td>Singapore</td>\n      <td>162</td>\n      <td>0</td>\n      <td>13</td>\n      <td>85</td>\n    </tr>\n    <tr>\n      <th>17</th>\n      <td>South Africa</td>\n      <td>1</td>\n      <td>0</td>\n      <td>0</td>\n      <td>0</td>\n    </tr>\n    <tr>\n      <th>18</th>\n      <td>Spain</td>\n      <td>1</td>\n      <td>0</td>\n      <td>0</td>\n      <td>0</td>\n    </tr>\n    <tr>\n      <th>19</th>\n      <td>Sweden</td>\n      <td>1</td>\n      <td>0</td>\n      <td>0</td>\n      <td>0</td>\n    </tr>\n    <tr>\n      <th>20</th>\n      <td>Switzerland</td>\n      <td>1</td>\n      <td>0</td>\n      <td>0</td>\n      <td>1</td>\n    </tr>\n    <tr>\n      <th>21</th>\n      <td>Thailand</td>\n      <td>8</td>\n      <td>0</td>\n      <td>2</td>\n      <td>5</td>\n    </tr>\n    <tr>\n      <th>22</th>\n      <td>United Kingdom</td>\n      <td>6</td>\n      <td>0</td>\n      <td>0</td>\n      <td>3</td>\n    </tr>\n    <tr>\n      <th>23</th>\n      <td>United States</td>\n      <td>193</td>\n      <td>0</td>\n      <td>0</td>\n      <td>not available</td>\n    </tr>\n    <tr>\n      <th>24</th>\n      <td>Viet Nam</td>\n      <td>63</td>\n      <td>0</td>\n      <td>5</td>\n      <td>46</td>\n    </tr>\n    <tr>\n      <th>25</th>\n      <td>Total</td>\n      <td>3293</td>\n      <td>58</td>\n      <td>159</td>\n      <td>1548</td>\n    </tr>\n    <tr>\n      <th>0</th>\n      <td>Number of deaths</td>\n      <td>Number recovered3</td>\n      <td>None</td>\n      <td>None</td>\n      <td>None</td>\n    </tr>\n    <tr>\n      <th>1</th>\n      <td>Australia</td>\n      <td>3</td>\n      <td>3</td>\n      <td>0</td>\n      <td>3</td>\n    </tr>\n    <tr>\n      <th>2</th>\n      <td>Brazil</td>\n      <td>2</td>\n      <td>0</td>\n      <td>0</td>\n      <td>0</td>\n    </tr>\n    <tr>\n      <th>3</th>\n      <td>Canada</td>\n      <td>126</td>\n      <td>23</td>\n      <td>12</td>\n      <td>46</td>\n    </tr>\n    <tr>\n      <th>4</th>\n      <td>China</td>\n      <td>1457</td>\n      <td>25</td>\n      <td>65</td>\n      <td>1107</td>\n    </tr>\n    <tr>\n      <th>5</th>\n      <td>China, Hong Kong Special Administrative Region 5</td>\n      <td>1297</td>\n      <td>29</td>\n      <td>65</td>\n      <td>272</td>\n    </tr>\n    <tr>\n      <th>6</th>\n      <td>China, Taiwan</td>\n      <td>27</td>\n      <td>0</td>\n      <td>0</td>\n      <td>10</td>\n    </tr>\n    <tr>\n      <th>7</th>\n      <td>France</td>\n      <td>5</td>\n      <td>0</td>\n      <td>0</td>\n      <td>1</td>\n    </tr>\n    <tr>\n      <th>8</th>\n      <td>Germany</td>\n      <td>6</td>\n      <td>0</td>\n      <td>0</td>\n      <td>4</td>\n    </tr>\n    <tr>\n      <th>9</th>\n      <td>India</td>\n      <td>1</td>\n      <td>1</td>\n      <td>0</td>\n      <td>0</td>\n    </tr>\n    <tr>\n      <th>10</th>\n      <td>Indonesia</td>\n      <td>1</td>\n      <td>0</td>\n      <td>0</td>\n      <td>0</td>\n    </tr>\n    <tr>\n      <th>11</th>\n      <td>Italy</td>\n      <td>3</td>\n      <td>0</td>\n      <td>0</td>\n      <td>2</td>\n    </tr>\n    <tr>\n      <th>12</th>\n      <td>Japan</td>\n      <td>2</td>\n      <td>1</td>\n      <td>0</td>\n      <td>0</td>\n    </tr>\n    <tr>\n      <th>13</th>\n      <td>Kuwait</td>\n      <td>1</td>\n      <td>0</td>\n      <td>0</td>\n      <td>0</td>\n    </tr>\n    <tr>\n      <th>14</th>\n      <td>Malaysia</td>\n      <td>5</td>\n      <td>0</td>\n      <td>1</td>\n      <td>0</td>\n    </tr>\n    <tr>\n      <th>15</th>\n      <td>Mongolia</td>\n      <td>3</td>\n      <td>3</td>\n      <td>0</td>\n      <td>3</td>\n    </tr>\n    <tr>\n      <th>16</th>\n      <td>Philippines</td>\n      <td>1</td>\n      <td>0</td>\n      <td>0</td>\n      <td>1</td>\n    </tr>\n    <tr>\n      <th>17</th>\n      <td>Republic of Ireland</td>\n      <td>1</td>\n      <td>0</td>\n      <td>0</td>\n      <td>1</td>\n    </tr>\n    <tr>\n      <th>18</th>\n      <td>Romania</td>\n      <td>1</td>\n      <td>0</td>\n      <td>0</td>\n      <td>1</td>\n    </tr>\n    <tr>\n      <th>19</th>\n      <td>Singapore</td>\n      <td>167</td>\n      <td>5</td>\n      <td>15</td>\n      <td>91</td>\n    </tr>\n    <tr>\n      <th>20</th>\n      <td>South Africa</td>\n      <td>1</td>\n      <td>0</td>\n      <td>0</td>\n      <td>0</td>\n    </tr>\n    <tr>\n      <th>21</th>\n      <td>Spain</td>\n      <td>1</td>\n      <td>0</td>\n      <td>0</td>\n      <td>0</td>\n    </tr>\n    <tr>\n      <th>22</th>\n      <td>Sweden</td>\n      <td>1</td>\n      <td>0</td>\n      <td>0</td>\n      <td>0</td>\n    </tr>\n    <tr>\n      <th>23</th>\n      <td>Switzerland</td>\n      <td>1</td>\n      <td>0</td>\n      <td>0</td>\n      <td>1</td>\n    </tr>\n    <tr>\n      <th>24</th>\n      <td>Thailand</td>\n      <td>8</td>\n      <td>0</td>\n      <td>2</td>\n      <td>5</td>\n    </tr>\n    <tr>\n      <th>25</th>\n      <td>United Kingdom</td>\n      <td>6</td>\n      <td>0</td>\n      <td>0</td>\n      <td>3</td>\n    </tr>\n    <tr>\n      <th>26</th>\n      <td>United States</td>\n      <td>199</td>\n      <td>6</td>\n      <td>0</td>\n      <td>not available</td>\n    </tr>\n    <tr>\n      <th>27</th>\n      <td>Viet Nam</td>\n      <td>63</td>\n      <td>0</td>\n      <td>5</td>\n      <td>46</td>\n    </tr>\n    <tr>\n      <th>28</th>\n      <td>Total</td>\n      <td>3389</td>\n      <td>96</td>\n      <td>165</td>\n      <td>1597</td>\n    </tr>\n    <tr>\n      <th>0</th>\n      <td>Number of deaths</td>\n      <td>Number recovered3</td>\n      <td>None</td>\n      <td>None</td>\n      <td>None</td>\n    </tr>\n    <tr>\n      <th>1</th>\n      <td>Australia</td>\n      <td>3</td>\n      <td>0</td>\n      <td>0</td>\n      <td>3</td>\n    </tr>\n    <tr>\n      <th>2</th>\n      <td>Brazil</td>\n      <td>2</td>\n      <td>0</td>\n      <td>0</td>\n      <td>0</td>\n    </tr>\n    <tr>\n      <th>3</th>\n      <td>Canada</td>\n      <td>132</td>\n      <td>6</td>\n      <td>12</td>\n      <td>54</td>\n    </tr>\n    <tr>\n      <th>4</th>\n      <td>China</td>\n      <td>1512</td>\n      <td>30</td>\n      <td>65</td>\n      <td>1140</td>\n    </tr>\n    <tr>\n      <th>5</th>\n      <td>China, Hong Kong Special Administrative Region 5</td>\n      <td>1358</td>\n      <td>31</td>\n      <td>81</td>\n      <td>363</td>\n    </tr>\n    <tr>\n      <th>6</th>\n      <td>China, Taiwan</td>\n      <td>29</td>\n      <td>0</td>\n      <td>0</td>\n      <td>17</td>\n    </tr>\n    <tr>\n      <th>7</th>\n      <td>France</td>\n      <td>5</td>\n      <td>0</td>\n      <td>0</td>\n      <td>1</td>\n    </tr>\n    <tr>\n      <th>8</th>\n      <td>Germany</td>\n      <td>6</td>\n      <td>0</td>\n      <td>0</td>\n      <td>4</td>\n    </tr>\n    <tr>\n      <th>9</th>\n      <td>India</td>\n      <td>1</td>\n      <td>0</td>\n      <td>0</td>\n      <td>1</td>\n    </tr>\n    <tr>\n      <th>10</th>\n      <td>Indonesia</td>\n      <td>1</td>\n      <td>0</td>\n      <td>0</td>\n      <td>0</td>\n    </tr>\n    <tr>\n      <th>11</th>\n      <td>Italy</td>\n      <td>3</td>\n      <td>0</td>\n      <td>0</td>\n      <td>2</td>\n    </tr>\n    <tr>\n      <th>12</th>\n      <td>Japan</td>\n      <td>4</td>\n      <td>0</td>\n      <td>0</td>\n      <td>0</td>\n    </tr>\n    <tr>\n      <th>13</th>\n      <td>Kuwait</td>\n      <td>1</td>\n      <td>0</td>\n      <td>0</td>\n      <td>0</td>\n    </tr>\n    <tr>\n      <th>14</th>\n      <td>Malaysia</td>\n      <td>5</td>\n      <td>0</td>\n      <td>1</td>\n      <td>0</td>\n    </tr>\n    <tr>\n      <th>15</th>\n      <td>Mongolia</td>\n      <td>3</td>\n      <td>0</td>\n      <td>0</td>\n      <td>3</td>\n    </tr>\n    <tr>\n      <th>16</th>\n      <td>Philippines</td>\n      <td>1</td>\n      <td>0</td>\n      <td>0</td>\n      <td>1</td>\n    </tr>\n    <tr>\n      <th>17</th>\n      <td>Republic of Ireland</td>\n      <td>1</td>\n      <td>0</td>\n      <td>0</td>\n      <td>1</td>\n    </tr>\n    <tr>\n      <th>18</th>\n      <td>Romania</td>\n      <td>1</td>\n      <td>0</td>\n      <td>0</td>\n      <td>1</td>\n    </tr>\n    <tr>\n      <th>19</th>\n      <td>Singapore</td>\n      <td>177</td>\n      <td>5</td>\n      <td>16</td>\n      <td>100</td>\n    </tr>\n    <tr>\n      <th>20</th>\n      <td>South Africa</td>\n      <td>1</td>\n      <td>0</td>\n      <td>0</td>\n      <td>0</td>\n    </tr>\n    <tr>\n      <th>21</th>\n      <td>Spain</td>\n      <td>1</td>\n      <td>0</td>\n      <td>0</td>\n      <td>0</td>\n    </tr>\n    <tr>\n      <th>22</th>\n      <td>Sweden</td>\n      <td>3</td>\n      <td>2</td>\n      <td>0</td>\n      <td>0</td>\n    </tr>\n    <tr>\n      <th>23</th>\n      <td>Switzerland</td>\n      <td>1</td>\n      <td>0</td>\n      <td>0</td>\n      <td>1</td>\n    </tr>\n    <tr>\n      <th>24</th>\n      <td>Thailand</td>\n      <td>7</td>\n      <td>0</td>\n      <td>2</td>\n      <td>6</td>\n    </tr>\n    <tr>\n      <th>25</th>\n      <td>United Kingdom</td>\n      <td>6</td>\n      <td>0</td>\n      <td>0</td>\n      <td>5</td>\n    </tr>\n    <tr>\n      <th>26</th>\n      <td>United States</td>\n      <td>220</td>\n      <td>12</td>\n      <td>0</td>\n      <td>not available</td>\n    </tr>\n    <tr>\n      <th>27</th>\n      <td>Viet Nam</td>\n      <td>63</td>\n      <td>0</td>\n      <td>5</td>\n      <td>46</td>\n    </tr>\n    <tr>\n      <th>28</th>\n      <td>Total</td>\n      <td>3547</td>\n      <td>86</td>\n      <td>182</td>\n      <td>1749</td>\n    </tr>\n    <tr>\n      <th>0</th>\n      <td>Number of deaths</td>\n      <td>Number recovered3</td>\n      <td>None</td>\n      <td>None</td>\n      <td>None</td>\n    </tr>\n    <tr>\n      <th>1</th>\n      <td>Australia</td>\n      <td>3</td>\n      <td>0</td>\n      <td>0</td>\n      <td>3</td>\n    </tr>\n    <tr>\n      <th>2</th>\n      <td>Brazil</td>\n      <td>2</td>\n      <td>0</td>\n      <td>0</td>\n      <td>0</td>\n    </tr>\n    <tr>\n      <th>3</th>\n      <td>Canada</td>\n      <td>132</td>\n      <td>6</td>\n      <td>12</td>\n      <td>54</td>\n    </tr>\n    <tr>\n      <th>4</th>\n      <td>China</td>\n      <td>1512</td>\n      <td>30</td>\n      <td>65</td>\n      <td>1140</td>\n    </tr>\n    <tr>\n      <th>5</th>\n      <td>China, Hong Kong Special Administrative Region 5</td>\n      <td>1358</td>\n      <td>31</td>\n      <td>81</td>\n      <td>363</td>\n    </tr>\n    <tr>\n      <th>6</th>\n      <td>China, Taiwan</td>\n      <td>29</td>\n      <td>0</td>\n      <td>0</td>\n      <td>17</td>\n    </tr>\n    <tr>\n      <th>7</th>\n      <td>France</td>\n      <td>5</td>\n      <td>0</td>\n      <td>0</td>\n      <td>1</td>\n    </tr>\n    <tr>\n      <th>8</th>\n      <td>Germany</td>\n      <td>6</td>\n      <td>0</td>\n      <td>0</td>\n      <td>4</td>\n    </tr>\n    <tr>\n      <th>9</th>\n      <td>India</td>\n      <td>1</td>\n      <td>0</td>\n      <td>0</td>\n      <td>1</td>\n    </tr>\n    <tr>\n      <th>10</th>\n      <td>Indonesia</td>\n      <td>1</td>\n      <td>0</td>\n      <td>0</td>\n      <td>0</td>\n    </tr>\n    <tr>\n      <th>11</th>\n      <td>Italy</td>\n      <td>3</td>\n      <td>0</td>\n      <td>0</td>\n      <td>2</td>\n    </tr>\n    <tr>\n      <th>12</th>\n      <td>Japan</td>\n      <td>4</td>\n      <td>0</td>\n      <td>0</td>\n      <td>0</td>\n    </tr>\n    <tr>\n      <th>13</th>\n      <td>Kuwait</td>\n      <td>1</td>\n      <td>0</td>\n      <td>0</td>\n      <td>0</td>\n    </tr>\n    <tr>\n      <th>14</th>\n      <td>Malaysia</td>\n      <td>5</td>\n      <td>0</td>\n      <td>1</td>\n      <td>0</td>\n    </tr>\n    <tr>\n      <th>15</th>\n      <td>Mongolia</td>\n      <td>3</td>\n      <td>0</td>\n      <td>0</td>\n      <td>3</td>\n    </tr>\n    <tr>\n      <th>16</th>\n      <td>Philippines</td>\n      <td>1</td>\n      <td>0</td>\n      <td>0</td>\n      <td>1</td>\n    </tr>\n    <tr>\n      <th>17</th>\n      <td>Republic of Ireland</td>\n      <td>1</td>\n      <td>0</td>\n      <td>0</td>\n      <td>1</td>\n    </tr>\n    <tr>\n      <th>18</th>\n      <td>Romania</td>\n      <td>1</td>\n      <td>0</td>\n      <td>0</td>\n      <td>1</td>\n    </tr>\n    <tr>\n      <th>19</th>\n      <td>Singapore</td>\n      <td>177</td>\n      <td>5</td>\n      <td>16</td>\n      <td>100</td>\n    </tr>\n    <tr>\n      <th>20</th>\n      <td>South Africa</td>\n      <td>1</td>\n      <td>0</td>\n      <td>0</td>\n      <td>0</td>\n    </tr>\n    <tr>\n      <th>21</th>\n      <td>Spain</td>\n      <td>1</td>\n      <td>0</td>\n      <td>0</td>\n      <td>0</td>\n    </tr>\n    <tr>\n      <th>22</th>\n      <td>Sweden</td>\n      <td>3</td>\n      <td>2</td>\n      <td>0</td>\n      <td>0</td>\n    </tr>\n    <tr>\n      <th>23</th>\n      <td>Switzerland</td>\n      <td>1</td>\n      <td>0</td>\n      <td>0</td>\n      <td>1</td>\n    </tr>\n    <tr>\n      <th>24</th>\n      <td>Thailand</td>\n      <td>7</td>\n      <td>0</td>\n      <td>2</td>\n      <td>6</td>\n    </tr>\n    <tr>\n      <th>25</th>\n      <td>United Kingdom</td>\n      <td>6</td>\n      <td>0</td>\n      <td>0</td>\n      <td>5</td>\n    </tr>\n    <tr>\n      <th>26</th>\n      <td>United States</td>\n      <td>220</td>\n      <td>12</td>\n      <td>0</td>\n      <td>not available</td>\n    </tr>\n    <tr>\n      <th>27</th>\n      <td>Viet Nam</td>\n      <td>63</td>\n      <td>0</td>\n      <td>5</td>\n      <td>46</td>\n    </tr>\n    <tr>\n      <th>28</th>\n      <td>Total</td>\n      <td>3547</td>\n      <td>86</td>\n      <td>182</td>\n      <td>1749</td>\n    </tr>\n    <tr>\n      <th>0</th>\n      <td>Number of deaths</td>\n      <td>Number recovered\\n2</td>\n      <td>None</td>\n      <td>None</td>\n      <td>None</td>\n    </tr>\n    <tr>\n      <th>1</th>\n      <td>Australia</td>\n      <td>3</td>\n      <td>0</td>\n      <td>0</td>\n      <td>3</td>\n    </tr>\n    <tr>\n      <th>2</th>\n      <td>Brazil</td>\n      <td>2</td>\n      <td>0</td>\n      <td>0</td>\n      <td>0</td>\n    </tr>\n    <tr>\n      <th>3</th>\n      <td>Canada</td>\n      <td>132</td>\n      <td>0</td>\n      <td>12</td>\n      <td>54</td>\n    </tr>\n    <tr>\n      <th>4</th>\n      <td>China</td>\n      <td>1959</td>\n      <td>447</td>\n      <td>86</td>\n      <td>1187</td>\n    </tr>\n    <tr>\n      <th>5</th>\n      <td>China, Hong Kong Special Administrative Region4</td>\n      <td>1402</td>\n      <td>44</td>\n      <td>94</td>\n      <td>436</td>\n    </tr>\n    <tr>\n      <th>6</th>\n      <td>China, Taiwan</td>\n      <td>29</td>\n      <td>0</td>\n      <td>0</td>\n      <td>17</td>\n    </tr>\n    <tr>\n      <th>7</th>\n      <td>France</td>\n      <td>5</td>\n      <td>0</td>\n      <td>0</td>\n      <td>1</td>\n    </tr>\n    <tr>\n      <th>8</th>\n      <td>Germany</td>\n      <td>6</td>\n      <td>0</td>\n      <td>0</td>\n      <td>4</td>\n    </tr>\n    <tr>\n      <th>9</th>\n      <td>India</td>\n      <td>1</td>\n      <td>0</td>\n      <td>0</td>\n      <td>1</td>\n    </tr>\n    <tr>\n      <th>10</th>\n      <td>Indonesia</td>\n      <td>1</td>\n      <td>0</td>\n      <td>0</td>\n      <td>0</td>\n    </tr>\n    <tr>\n      <th>11</th>\n      <td>Italy</td>\n      <td>3</td>\n      <td>0</td>\n      <td>0</td>\n      <td>2</td>\n    </tr>\n    <tr>\n      <th>12</th>\n      <td>Japan</td>\n      <td>5</td>\n      <td>1</td>\n      <td>0</td>\n      <td>0</td>\n    </tr>\n    <tr>\n      <th>13</th>\n      <td>Kuwait</td>\n      <td>1</td>\n      <td>0</td>\n      <td>0</td>\n      <td>1</td>\n    </tr>\n    <tr>\n      <th>14</th>\n      <td>Malaysia</td>\n      <td>6</td>\n      <td>1</td>\n      <td>1</td>\n      <td>0</td>\n    </tr>\n    <tr>\n      <th>15</th>\n      <td>Mongolia</td>\n      <td>3</td>\n      <td>0</td>\n      <td>0</td>\n      <td>3</td>\n    </tr>\n    <tr>\n      <th>16</th>\n      <td>Philippines</td>\n      <td>2</td>\n      <td>1</td>\n      <td>1</td>\n      <td>1</td>\n    </tr>\n    <tr>\n      <th>17</th>\n      <td>Republic of Ireland</td>\n      <td>1</td>\n      <td>0</td>\n      <td>0</td>\n      <td>1</td>\n    </tr>\n    <tr>\n      <th>18</th>\n      <td>Romania</td>\n      <td>1</td>\n      <td>0</td>\n      <td>0</td>\n      <td>1</td>\n    </tr>\n    <tr>\n      <th>19</th>\n      <td>Singapore</td>\n      <td>178</td>\n      <td>1</td>\n      <td>16</td>\n      <td>104</td>\n    </tr>\n    <tr>\n      <th>20</th>\n      <td>South Africa</td>\n      <td>1</td>\n      <td>0</td>\n      <td>0</td>\n      <td>0</td>\n    </tr>\n    <tr>\n      <th>21</th>\n      <td>Spain</td>\n      <td>1</td>\n      <td>0</td>\n      <td>0</td>\n      <td>0</td>\n    </tr>\n    <tr>\n      <th>22</th>\n      <td>Sweden</td>\n      <td>3</td>\n      <td>0</td>\n      <td>0</td>\n      <td>0</td>\n    </tr>\n    <tr>\n      <th>23</th>\n      <td>Switzerland</td>\n      <td>1</td>\n      <td>0</td>\n      <td>0</td>\n      <td>1</td>\n    </tr>\n    <tr>\n      <th>24</th>\n      <td>Thailand</td>\n      <td>7</td>\n      <td>0</td>\n      <td>2</td>\n      <td>5</td>\n    </tr>\n    <tr>\n      <th>25</th>\n      <td>United Kingdom</td>\n      <td>6</td>\n      <td>0</td>\n      <td>0</td>\n      <td>5</td>\n    </tr>\n    <tr>\n      <th>26</th>\n      <td>United States5</td>\n      <td>39</td>\n      <td>not applicable</td>\n      <td>0</td>\n      <td>not available</td>\n    </tr>\n    <tr>\n      <th>27</th>\n      <td>Viet Nam</td>\n      <td>63</td>\n      <td>0</td>\n      <td>5</td>\n      <td>46</td>\n    </tr>\n    <tr>\n      <th>28</th>\n      <td>Total</td>\n      <td>3861</td>\n      <td>495</td>\n      <td>217</td>\n      <td>1873</td>\n    </tr>\n    <tr>\n      <th>0</th>\n      <td>Number of deaths</td>\n      <td>Number recovered 2</td>\n      <td>None</td>\n      <td>None</td>\n      <td>None</td>\n    </tr>\n    <tr>\n      <th>1</th>\n      <td>Australia</td>\n      <td>3</td>\n      <td>0</td>\n      <td>0</td>\n      <td>3</td>\n    </tr>\n    <tr>\n      <th>2</th>\n      <td>Brazil</td>\n      <td>2</td>\n      <td>0</td>\n      <td>0</td>\n      <td>0</td>\n    </tr>\n    <tr>\n      <th>3</th>\n      <td>Canada</td>\n      <td>139</td>\n      <td>7</td>\n      <td>13</td>\n      <td>65</td>\n    </tr>\n    <tr>\n      <th>4</th>\n      <td>China</td>\n      <td>2001</td>\n      <td>42</td>\n      <td>92</td>\n      <td>1201</td>\n    </tr>\n    <tr>\n      <th>5</th>\n      <td>China, Hong Kong Special Administrative Region4</td>\n      <td>1434</td>\n      <td>32</td>\n      <td>99</td>\n      <td>461</td>\n    </tr>\n    <tr>\n      <th>6</th>\n      <td>China, Taiwan</td>\n      <td>29</td>\n      <td>0</td>\n      <td>0</td>\n      <td>21</td>\n    </tr>\n    <tr>\n      <th>7</th>\n      <td>France</td>\n      <td>5</td>\n      <td>0</td>\n      <td>0</td>\n      <td>1</td>\n    </tr>\n    <tr>\n      <th>8</th>\n      <td>Germany</td>\n      <td>7</td>\n      <td>1</td>\n      <td>0</td>\n      <td>6</td>\n    </tr>\n    <tr>\n      <th>9</th>\n      <td>India</td>\n      <td>1</td>\n      <td>0</td>\n      <td>0</td>\n      <td>1</td>\n    </tr>\n    <tr>\n      <th>10</th>\n      <td>Indonesia</td>\n      <td>1</td>\n      <td>0</td>\n      <td>0</td>\n      <td>0</td>\n    </tr>\n    <tr>\n      <th>11</th>\n      <td>Italy</td>\n      <td>3</td>\n      <td>0</td>\n      <td>0</td>\n      <td>2</td>\n    </tr>\n    <tr>\n      <th>12</th>\n      <td>Japan</td>\n      <td>2</td>\n      <td>-3</td>\n      <td>0</td>\n      <td>0</td>\n    </tr>\n    <tr>\n      <th>13</th>\n      <td>Kuwait</td>\n      <td>1</td>\n      <td>0</td>\n      <td>0</td>\n      <td>1</td>\n    </tr>\n    <tr>\n      <th>14</th>\n      <td>Malaysia</td>\n      <td>6</td>\n      <td>0</td>\n      <td>1</td>\n      <td>0</td>\n    </tr>\n    <tr>\n      <th>15</th>\n      <td>Mongolia</td>\n      <td>3</td>\n      <td>0</td>\n      <td>0</td>\n      <td>3</td>\n    </tr>\n    <tr>\n      <th>16</th>\n      <td>Philippines</td>\n      <td>2</td>\n      <td>0</td>\n      <td>1</td>\n      <td>1</td>\n    </tr>\n    <tr>\n      <th>17</th>\n      <td>Republic of Ireland</td>\n      <td>1</td>\n      <td>0</td>\n      <td>0</td>\n      <td>1</td>\n    </tr>\n    <tr>\n      <th>18</th>\n      <td>Romania</td>\n      <td>1</td>\n      <td>0</td>\n      <td>0</td>\n      <td>1</td>\n    </tr>\n    <tr>\n      <th>19</th>\n      <td>Singapore</td>\n      <td>186</td>\n      <td>2</td>\n      <td>16</td>\n      <td>110</td>\n    </tr>\n    <tr>\n      <th>20</th>\n      <td>South Africa</td>\n      <td>1</td>\n      <td>0</td>\n      <td>0</td>\n      <td>0</td>\n    </tr>\n    <tr>\n      <th>21</th>\n      <td>Spain</td>\n      <td>1</td>\n      <td>0</td>\n      <td>0</td>\n      <td>0</td>\n    </tr>\n    <tr>\n      <th>22</th>\n      <td>Sweden</td>\n      <td>3</td>\n      <td>0</td>\n      <td>0</td>\n      <td>0</td>\n    </tr>\n    <tr>\n      <th>23</th>\n      <td>Switzerland</td>\n      <td>1</td>\n      <td>0</td>\n      <td>0</td>\n      <td>1</td>\n    </tr>\n    <tr>\n      <th>24</th>\n      <td>Thailand</td>\n      <td>7</td>\n      <td>0</td>\n      <td>2</td>\n      <td>5</td>\n    </tr>\n    <tr>\n      <th>25</th>\n      <td>United Kingdom</td>\n      <td>6</td>\n      <td>0</td>\n      <td>0</td>\n      <td>5</td>\n    </tr>\n    <tr>\n      <th>26</th>\n      <td>United States</td>\n      <td>38</td>\n      <td>-1</td>\n      <td>0</td>\n      <td>not available</td>\n    </tr>\n    <tr>\n      <th>27</th>\n      <td>Viet Nam</td>\n      <td>63</td>\n      <td>0</td>\n      <td>5</td>\n      <td>46</td>\n    </tr>\n    <tr>\n      <th>28</th>\n      <td>Total</td>\n      <td>3947</td>\n      <td>80</td>\n      <td>229</td>\n      <td>1935</td>\n    </tr>\n    <tr>\n      <th>0</th>\n      <td>Number of deaths</td>\n      <td>Number recovered 2</td>\n      <td>None</td>\n      <td>None</td>\n      <td>None</td>\n    </tr>\n    <tr>\n      <th>1</th>\n      <td>Australia</td>\n      <td>4</td>\n      <td>1</td>\n      <td>0</td>\n      <td>3</td>\n    </tr>\n    <tr>\n      <th>2</th>\n      <td>Brazil</td>\n      <td>2</td>\n      <td>0</td>\n      <td>0</td>\n      <td>0</td>\n    </tr>\n    <tr>\n      <th>3</th>\n      <td>Canada</td>\n      <td>140</td>\n      <td>1</td>\n      <td>13</td>\n      <td>65</td>\n    </tr>\n    <tr>\n      <th>4</th>\n      <td>China</td>\n      <td>2305</td>\n      <td>\\n  304</td>\n      <td>106</td>\n      <td>1231</td>\n    </tr>\n    <tr>\n      <th>5</th>\n      <td>China, Hong Kong Special Administrative Region4</td>\n      <td>1458</td>\n      <td>24</td>\n      <td>105</td>\n      <td>522</td>\n    </tr>\n    <tr>\n      <th>6</th>\n      <td>China, Taiwan</td>\n      <td>37</td>\n      <td>8</td>\n      <td>0</td>\n      <td>21</td>\n    </tr>\n    <tr>\n      <th>7</th>\n      <td>France</td>\n      <td>5</td>\n      <td>0</td>\n      <td>0</td>\n      <td>1</td>\n    </tr>\n    <tr>\n      <th>8</th>\n      <td>Germany</td>\n      <td>7</td>\n      <td>0</td>\n      <td>0</td>\n      <td>6</td>\n    </tr>\n    <tr>\n      <th>9</th>\n      <td>India</td>\n      <td>1</td>\n      <td>0</td>\n      <td>0</td>\n      <td>1</td>\n    </tr>\n    <tr>\n      <th>10</th>\n      <td>Indonesia</td>\n      <td>1</td>\n      <td>0</td>\n      <td>0</td>\n      <td>0</td>\n    </tr>\n    <tr>\n      <th>11</th>\n      <td>Italy</td>\n      <td>3</td>\n      <td>0</td>\n      <td>0</td>\n      <td>2</td>\n    </tr>\n    <tr>\n      <th>12</th>\n      <td>Japan</td>\n      <td>2</td>\n      <td>0</td>\n      <td>0</td>\n      <td>0</td>\n    </tr>\n    <tr>\n      <th>13</th>\n      <td>Kuwait</td>\n      <td>1</td>\n      <td>0</td>\n      <td>0</td>\n      <td>1</td>\n    </tr>\n    <tr>\n      <th>14</th>\n      <td>Malaysia</td>\n      <td>5</td>\n      <td>-1</td>\n      <td>2</td>\n      <td>2</td>\n    </tr>\n    <tr>\n      <th>15</th>\n      <td>Mongolia</td>\n      <td>3</td>\n      <td>0</td>\n      <td>0</td>\n      <td>3</td>\n    </tr>\n    <tr>\n      <th>16</th>\n      <td>Philippines</td>\n      <td>2</td>\n      <td>0</td>\n      <td>1</td>\n      <td>1</td>\n    </tr>\n    <tr>\n      <th>17</th>\n      <td>Republic of Ireland</td>\n      <td>1</td>\n      <td>0</td>\n      <td>0</td>\n      <td>1</td>\n    </tr>\n    <tr>\n      <th>18</th>\n      <td>Romania</td>\n      <td>1</td>\n      <td>0</td>\n      <td>0</td>\n      <td>1</td>\n    </tr>\n    <tr>\n      <th>19</th>\n      <td>Singapore</td>\n      <td>189</td>\n      <td>3</td>\n      <td>17</td>\n      <td>114</td>\n    </tr>\n    <tr>\n      <th>20</th>\n      <td>South Africa</td>\n      <td>1</td>\n      <td>0</td>\n      <td>0</td>\n      <td>0</td>\n    </tr>\n    <tr>\n      <th>21</th>\n      <td>Spain</td>\n      <td>1</td>\n      <td>0</td>\n      <td>0</td>\n      <td>0</td>\n    </tr>\n    <tr>\n      <th>22</th>\n      <td>Sweden</td>\n      <td>3</td>\n      <td>0</td>\n      <td>0</td>\n      <td>0</td>\n    </tr>\n    <tr>\n      <th>23</th>\n      <td>Switzerland</td>\n      <td>1</td>\n      <td>0</td>\n      <td>0</td>\n      <td>1</td>\n    </tr>\n    <tr>\n      <th>24</th>\n      <td>Thailand</td>\n      <td>7</td>\n      <td>0</td>\n      <td>2</td>\n      <td>5</td>\n    </tr>\n    <tr>\n      <th>25</th>\n      <td>United Kingdom</td>\n      <td>6</td>\n      <td>0</td>\n      <td>0</td>\n      <td>5</td>\n    </tr>\n    <tr>\n      <th>26</th>\n      <td>United States</td>\n      <td>39</td>\n      <td>1</td>\n      <td>0</td>\n      <td>not available</td>\n    </tr>\n    <tr>\n      <th>27</th>\n      <td>Viet Nam</td>\n      <td>63</td>\n      <td>0</td>\n      <td>5</td>\n      <td>46</td>\n    </tr>\n    <tr>\n      <th>28</th>\n      <td>Total</td>\n      <td>4288</td>\n      <td>\\n  341</td>\n      <td>251</td>\n      <td>2032</td>\n    </tr>\n    <tr>\n      <th>0</th>\n      <td>Areas</td>\n      <td>Female</td>\n      <td>Male</td>\n      <td>Total</td>\n      <td>Median age (range)</td>\n    </tr>\n    <tr>\n      <th>1</th>\n      <td>Australia</td>\n      <td>4</td>\n      <td>2</td>\n      <td>6</td>\n      <td>15 (1-45)</td>\n    </tr>\n    <tr>\n      <th>2</th>\n      <td>Canada</td>\n      <td>151</td>\n      <td>100</td>\n      <td>251</td>\n      <td>49 (1-98)</td>\n    </tr>\n    <tr>\n      <th>3</th>\n      <td>China</td>\n      <td>2674</td>\n      <td>2607</td>\n      <td>5327^b</td>\n      <td>Pending</td>\n    </tr>\n    <tr>\n      <th>4</th>\n      <td>China, Hong Kong Special Administrative Region</td>\n      <td>977</td>\n      <td>778</td>\n      <td>1755</td>\n      <td>40 (0-100)</td>\n    </tr>\n    <tr>\n      <th>5</th>\n      <td>China, Macao Special Administrative Region</td>\n      <td>0</td>\n      <td>1</td>\n      <td>1</td>\n      <td>28</td>\n    </tr>\n    <tr>\n      <th>6</th>\n      <td>China, Taiwan</td>\n      <td>218</td>\n      <td>128</td>\n      <td>346</td>\n      <td>42 (0-93)</td>\n    </tr>\n    <tr>\n      <th>7</th>\n      <td>France</td>\n      <td>1</td>\n      <td>6</td>\n      <td>7</td>\n      <td>49 (26 - 56)</td>\n    </tr>\n    <tr>\n      <th>8</th>\n      <td>Germany</td>\n      <td>4</td>\n      <td>5</td>\n      <td>9</td>\n      <td>44 (4-73)</td>\n    </tr>\n    <tr>\n      <th>9</th>\n      <td>India</td>\n      <td>0</td>\n      <td>3</td>\n      <td>3</td>\n      <td>25 (25-30)</td>\n    </tr>\n    <tr>\n      <th>10</th>\n      <td>Indonesia</td>\n      <td>0</td>\n      <td>2</td>\n      <td>2</td>\n      <td>56 (47-65)</td>\n    </tr>\n    <tr>\n      <th>11</th>\n      <td>Italy</td>\n      <td>1</td>\n      <td>3</td>\n      <td>4</td>\n      <td>30.5 (25-54)</td>\n    </tr>\n    <tr>\n      <th>12</th>\n      <td>Kuwait</td>\n      <td>1</td>\n      <td>0</td>\n      <td>1</td>\n      <td>50</td>\n    </tr>\n    <tr>\n      <th>13</th>\n      <td>Malaysia</td>\n      <td>1</td>\n      <td>4</td>\n      <td>5</td>\n      <td>30 (26-84)</td>\n    </tr>\n    <tr>\n      <th>14</th>\n      <td>Mongolia</td>\n      <td>8</td>\n      <td>1</td>\n      <td>9</td>\n      <td>32 (17-63)</td>\n    </tr>\n    <tr>\n      <th>15</th>\n      <td>New Zealand</td>\n      <td>1</td>\n      <td>0</td>\n      <td>1</td>\n      <td>67</td>\n    </tr>\n    <tr>\n      <th>16</th>\n      <td>Philippines</td>\n      <td>8</td>\n      <td>6</td>\n      <td>14</td>\n      <td>41 (29-73)</td>\n    </tr>\n    <tr>\n      <th>17</th>\n      <td>Republic of Ireland</td>\n      <td>0</td>\n      <td>1</td>\n      <td>1</td>\n      <td>56</td>\n    </tr>\n    <tr>\n      <th>18</th>\n      <td>Republic of Korea</td>\n      <td>0</td>\n      <td>3</td>\n      <td>3</td>\n      <td>40 (20-80)</td>\n    </tr>\n    <tr>\n      <th>19</th>\n      <td>Romania</td>\n      <td>0</td>\n      <td>1</td>\n      <td>1</td>\n      <td>52</td>\n    </tr>\n    <tr>\n      <th>20</th>\n      <td>Russian Federation</td>\n      <td>0</td>\n      <td>1</td>\n      <td>1</td>\n      <td>25</td>\n    </tr>\n    <tr>\n      <th>21</th>\n      <td>Singapore</td>\n      <td>161</td>\n      <td>77</td>\n      <td>238</td>\n      <td>35 (1-90)</td>\n    </tr>\n    <tr>\n      <th>22</th>\n      <td>South Africa</td>\n      <td>0</td>\n      <td>1</td>\n      <td>1</td>\n      <td>62</td>\n    </tr>\n    <tr>\n      <th>23</th>\n      <td>Spain</td>\n      <td>0</td>\n      <td>1</td>\n      <td>1</td>\n      <td>33</td>\n    </tr>\n    <tr>\n      <th>24</th>\n      <td>Sweden</td>\n      <td>3</td>\n      <td>2</td>\n      <td>5</td>\n      <td>43 (33-55)</td>\n    </tr>\n    <tr>\n      <th>25</th>\n      <td>Switzerland</td>\n      <td>0</td>\n      <td>1</td>\n      <td>1</td>\n      <td>35</td>\n    </tr>\n    <tr>\n      <th>26</th>\n      <td>Thailand</td>\n      <td>5</td>\n      <td>4</td>\n      <td>9</td>\n      <td>42 (2-79)</td>\n    </tr>\n    <tr>\n      <th>27</th>\n      <td>United Kingdom</td>\n      <td>2</td>\n      <td>2</td>\n      <td>4</td>\n      <td>59 (28-74)</td>\n    </tr>\n    <tr>\n      <th>28</th>\n      <td>United States</td>\n      <td>14</td>\n      <td>15</td>\n      <td>29</td>\n      <td>33 (0-83)</td>\n    </tr>\n    <tr>\n      <th>29</th>\n      <td>Viet Nam</td>\n      <td>39</td>\n      <td>24</td>\n      <td>63</td>\n      <td>43 (20-76)</td>\n    </tr>\n    <tr>\n      <th>30</th>\n      <td></td>\n      <td></td>\n      <td></td>\n      <td></td>\n      <td></td>\n    </tr>\n    <tr>\n      <th>31</th>\n      <td>Total</td>\n      <td></td>\n      <td></td>\n      <td>8098</td>\n      <td></td>\n    </tr>\n    <tr>\n      <th>0</th>\n      <td>Areas</td>\n      <td>Female</td>\n      <td>Male</td>\n      <td>Total</td>\n      <td>Median age (range)</td>\n    </tr>\n    <tr>\n      <th>1</th>\n      <td>Australia</td>\n      <td>4</td>\n      <td>2</td>\n      <td>6</td>\n      <td>15 (1-45)</td>\n    </tr>\n    <tr>\n      <th>2</th>\n      <td>Canada</td>\n      <td>151</td>\n      <td>100</td>\n      <td>251</td>\n      <td>49 (1-98)</td>\n    </tr>\n    <tr>\n      <th>3</th>\n      <td>China</td>\n      <td>2674</td>\n      <td>2607</td>\n      <td>5327^b</td>\n      <td>Not available</td>\n    </tr>\n    <tr>\n      <th>4</th>\n      <td>China, Hong Kong Special Administrative Region</td>\n      <td>977</td>\n      <td>778</td>\n      <td>1755</td>\n      <td>40 (0-100)</td>\n    </tr>\n    <tr>\n      <th>5</th>\n      <td>China, Macao Special Administrative Region</td>\n      <td>0</td>\n      <td>1</td>\n      <td>1</td>\n      <td>28</td>\n    </tr>\n    <tr>\n      <th>6</th>\n      <td>China, Taiwan</td>\n      <td>218</td>\n      <td>128</td>\n      <td>346^c</td>\n      <td>42 (0-93)</td>\n    </tr>\n    <tr>\n      <th>7</th>\n      <td>France</td>\n      <td>1</td>\n      <td>6</td>\n      <td>7</td>\n      <td>49 (26 - 61)</td>\n    </tr>\n    <tr>\n      <th>8</th>\n      <td>Germany</td>\n      <td>4</td>\n      <td>5</td>\n      <td>9</td>\n      <td>44 (4-73)</td>\n    </tr>\n    <tr>\n      <th>9</th>\n      <td>India</td>\n      <td>0</td>\n      <td>3</td>\n      <td>3</td>\n      <td>25 (25-30)</td>\n    </tr>\n    <tr>\n      <th>10</th>\n      <td>Indonesia</td>\n      <td>0</td>\n      <td>2</td>\n      <td>2</td>\n      <td>56 (47-65)</td>\n    </tr>\n    <tr>\n      <th>11</th>\n      <td>Italy</td>\n      <td>1</td>\n      <td>3</td>\n      <td>4</td>\n      <td>30.5 (25-54)</td>\n    </tr>\n    <tr>\n      <th>12</th>\n      <td>Kuwait</td>\n      <td>1</td>\n      <td>0</td>\n      <td>1</td>\n      <td>50</td>\n    </tr>\n    <tr>\n      <th>13</th>\n      <td>Malaysia</td>\n      <td>1</td>\n      <td>4</td>\n      <td>5</td>\n      <td>30 (26-84)</td>\n    </tr>\n    <tr>\n      <th>14</th>\n      <td>Mongolia</td>\n      <td>8</td>\n      <td>1</td>\n      <td>9</td>\n      <td>32 (17-63)</td>\n    </tr>\n    <tr>\n      <th>15</th>\n      <td>New Zealand</td>\n      <td>1</td>\n      <td>0</td>\n      <td>1</td>\n      <td>67</td>\n    </tr>\n    <tr>\n      <th>16</th>\n      <td>Philippines</td>\n      <td>8</td>\n      <td>6</td>\n      <td>14</td>\n      <td>41 (29-73)</td>\n    </tr>\n    <tr>\n      <th>17</th>\n      <td>Republic of Ireland</td>\n      <td>0</td>\n      <td>1</td>\n      <td>1</td>\n      <td>56</td>\n    </tr>\n    <tr>\n      <th>18</th>\n      <td>Republic of Korea</td>\n      <td>0</td>\n      <td>3</td>\n      <td>3</td>\n      <td>40 (20-80)</td>\n    </tr>\n    <tr>\n      <th>19</th>\n      <td>Romania</td>\n      <td>0</td>\n      <td>1</td>\n      <td>1</td>\n      <td>52</td>\n    </tr>\n    <tr>\n      <th>20</th>\n      <td>Russian Federation</td>\n      <td>0</td>\n      <td>1</td>\n      <td>1</td>\n      <td>25</td>\n    </tr>\n    <tr>\n      <th>21</th>\n      <td>Singapore</td>\n      <td>161</td>\n      <td>77</td>\n      <td>238</td>\n      <td>35 (1-90)</td>\n    </tr>\n    <tr>\n      <th>22</th>\n      <td>South Africa</td>\n      <td>0</td>\n      <td>1</td>\n      <td>1</td>\n      <td>62</td>\n    </tr>\n    <tr>\n      <th>23</th>\n      <td>Spain</td>\n      <td>0</td>\n      <td>1</td>\n      <td>1</td>\n      <td>33</td>\n    </tr>\n    <tr>\n      <th>24</th>\n      <td>Sweden</td>\n      <td>3</td>\n      <td>2</td>\n      <td>5</td>\n      <td>43 (33-55)</td>\n    </tr>\n    <tr>\n      <th>25</th>\n      <td>Switzerland</td>\n      <td>0</td>\n      <td>1</td>\n      <td>1</td>\n      <td>35</td>\n    </tr>\n    <tr>\n      <th>26</th>\n      <td>Thailand</td>\n      <td>5</td>\n      <td>4</td>\n      <td>9</td>\n      <td>42 (2-79)</td>\n    </tr>\n    <tr>\n      <th>27</th>\n      <td>United Kingdom</td>\n      <td>2</td>\n      <td>2</td>\n      <td>4</td>\n      <td>59 (28-74)</td>\n    </tr>\n    <tr>\n      <th>28</th>\n      <td>United States</td>\n      <td>13</td>\n      <td>14</td>\n      <td>27</td>\n      <td>36 (0-83)</td>\n    </tr>\n    <tr>\n      <th>29</th>\n      <td>Viet Nam</td>\n      <td>39</td>\n      <td>24</td>\n      <td>63</td>\n      <td>43 (20-76)</td>\n    </tr>\n    <tr>\n      <th>30</th>\n      <td></td>\n      <td></td>\n      <td></td>\n      <td></td>\n      <td></td>\n    </tr>\n    <tr>\n      <th>31</th>\n      <td>Total</td>\n      <td></td>\n      <td></td>\n      <td>8096</td>\n      <td></td>\n    </tr>\n  </tbody>\n</table>\n</div>",
      "text/plain": "    0         not available  \n21               0                   4                    46  \n22              70                 119                 1425   \n0             None                None                  None  \n1                0                   0                     0  \n2               -1                  13                    27  \n3              109                  64                  1088  \n4               82                  47                   229  \n5                0                   0                     7  \n6                0                   0                     1  \n7                0                   0                     4  \n8                1                   0                     0  \n9                0                   0                     2  \n10               0                   0                     0  \n11               0                   1                     0  \n12               1                   0                     1  \n13               0                   0                     1  \n14               0                   0         not available  \n15              11                  12                    84  \n16               0                   0                     0  \n17               0                   0                     0  \n18               1                   0                     0  \n19               0                   0                     1  \n20               0                   2                     5  \n21               0                   0                     3  \n22               8                   0         not available  \n23               1                   5                    46  \n24             213                 144                 1499   \n0             None                None                  None  \n1                0                   0                     0  \n2                0                  13                    27  \n3                0                  64                  1088  \n4               42                  56                   243  \n5                0                   0                     7  \n6                0                   0                     1  \n7                0                   0                     4  \n8                0                   0                     0  \n9                0                   0                     2  \n10               1                   0                     0  \n11               0                   0                     0  \n12               0                   1                     0  \n13               0                   0                     1  \n14               0                   0                     1  \n15               0                   0                     1  \n16               4                  13                    85  \n17               0                   0                     0  \n18               0                   0                     0  \n19               0                   0                     0  \n20               0                   0                     1  \n21               0                   2                     5  \n22               0                   0                     3  \n23              19                   0         not available  \n24               0                   5                    46  \n25              66                 154                  1515  \n0             None                None                  None  \n1                0                   0                     0  \n2                3                  13                    37  \n3               14                  64                  1094  \n4               36                  61                   257  \n5                4                   0                    10  \n6                0                   0                     1  \n7                0                   0                     4  \n8                0                   0                     0  \n9                0                   0                     2  \n10               0                   0                     0  \n11               0                   0                     0  \n12               1                   1                     0  \n13               0                   0                     1  \n14               0                   0                     1  \n15               0                   0                     1  \n16               0                  13                    85  \n17               0                   0                     0  \n18               0                   0                     0  \n19               0                   0                     0  \n20               0                   0                     1  \n21               0                   2                     5  \n22               0                   0                     3  \n23               0                   0         not available  \n24               0                   5                    46  \n25              58                 159                  1548  \n0             None                None                  None  \n1                3                   0                     3  \n2                0                   0                     0  \n3               23                  12                    46  \n4               25                  65                  1107  \n5               29                  65                   272  \n6                0                   0                    10  \n7                0                   0                     1  \n8                0                   0                     4  \n9                1                   0                     0  \n10               0                   0                     0  \n11               0                   0                     2  \n12               1                   0                     0  \n13               0                   0                     0  \n14               0                   1                     0  \n15               3                   0                     3  \n16               0                   0                     1  \n17               0                   0                     1  \n18               0                   0                     1  \n19               5                  15                    91  \n20               0                   0                     0  \n21               0                   0                     0  \n22               0                   0                     0  \n23               0                   0                     1  \n24               0                   2                     5  \n25               0                   0                     3  \n26               6                   0         not available  \n27               0                   5                    46  \n28              96                 165                  1597  \n0             None                None                  None  \n1                0                   0                     3  \n2                0                   0                     0  \n3                6                  12                    54  \n4               30                  65                  1140  \n5               31                  81                   363  \n6                0                   0                    17  \n7                0                   0                     1  \n8                0                   0                     4  \n9                0                   0                     1  \n10               0                   0                     0  \n11               0                   0                     2  \n12               0                   0                     0  \n13               0                   0                     0  \n14               0                   1                     0  \n15               0                   0                     3  \n16               0                   0                     1  \n17               0                   0                     1  \n18               0                   0                     1  \n19               5                  16                   100  \n20               0                   0                     0  \n21               0                   0                     0  \n22               2                   0                     0  \n23               0                   0                     1  \n24               0                   2                     6  \n25               0                   0                     5  \n26              12                   0         not available  \n27               0                   5                    46  \n28              86                 182                  1749  \n0             None                None                  None  \n1                0                   0                     3  \n2                0                   0                     0  \n3                6                  12                    54  \n4               30                  65                  1140  \n5               31                  81                   363  \n6                0                   0                    17  \n7                0                   0                     1  \n8                0                   0                     4  \n9                0                   0                     1  \n10               0                   0                     0  \n11               0                   0                     2  \n12               0                   0                     0  \n13               0                   0                     0  \n14               0                   1                     0  \n15               0                   0                     3  \n16               0                   0                     1  \n17               0                   0                     1  \n18               0                   0                     1  \n19               5                  16                   100  \n20               0                   0                     0  \n21               0                   0                     0  \n22               2                   0                     0  \n23               0                   0                     1  \n24               0                   2                     6  \n25               0                   0                     5  \n26              12                   0         not available  \n27               0                   5                    46  \n28              86                 182                  1749  \n0             None                None                  None  \n1                0                   0                     3  \n2                0                   0                     0  \n3                0                  12                    54  \n4              447                  86                  1187  \n5               44                  94                   436  \n6                0                   0                    17  \n7                0                   0                     1  \n8                0                   0                     4  \n9                0                   0                     1  \n10               0                   0                     0  \n11               0                   0                     2  \n12               1                   0                     0  \n13               0                   0                     1  \n14               1                   1                     0  \n15               0                   0                     3  \n16               1                   1                     1  \n17               0                   0                     1  \n18               0                   0                     1  \n19               1                  16                   104  \n20               0                   0                     0  \n21               0                   0                     0  \n22               0                   0                     0  \n23               0                   0                     1  \n24               0                   2                     5  \n25               0                   0                     5  \n26  not applicable                   0         not available  \n27               0                   5                    46  \n28             495                 217                  1873  \n0             None                None                  None  \n1                0                   0                     3  \n2                0                   0                     0  \n3                7                  13                    65  \n4               42                  92                  1201  \n5               32                  99                   461  \n6                0                   0                    21  \n7                0                   0                     1  \n8                1                   0                     6  \n9                0                   0                     1  \n10               0                   0                     0  \n11               0                   0                     2  \n12              -3                   0                     0  \n13               0                   0                     1  \n14               0                   1                     0  \n15               0                   0                     3  \n16               0                   1                     1  \n17               0                   0                     1  \n18               0                   0                     1  \n19               2                  16                   110  \n20               0                   0                     0  \n21               0                   0                     0  \n22               0                   0                     0  \n23               0                   0                     1  \n24               0                   2                     5  \n25               0                   0                     5  \n26              -1                   0         not available  \n27               0                   5                    46  \n28              80                 229                  1935  \n0             None                None                  None  \n1                1                   0                     3  \n2                0                   0                     0  \n3                1                  13                    65  \n4          \\n  304                 106                  1231  \n5               24                 105                   522  \n6                8                   0                    21  \n7                0                   0                     1  \n8                0                   0                     6  \n9                0                   0                     1  \n10               0                   0                     0  \n11               0                   0                     2  \n12               0                   0                     0  \n13               0                   0                     1  \n14              -1                   2                     2  \n15               0                   0                     3  \n16               0                   1                     1  \n17               0                   0                     1  \n18               0                   0                     1  \n19               3                  17                   114  \n20               0                   0                     0  \n21               0                   0                     0  \n22               0                   0                     0  \n23               0                   0                     1  \n24               0                   2                     5  \n25               0                   0                     5  \n26               1                   0         not available  \n27               0                   5                    46  \n28         \\n  341                 251                  2032  \n0             Male               Total    Median age (range)  \n1                2                   6             15 (1-45)  \n2              100                 251             49 (1-98)  \n3             2607              5327^b               Pending  \n4              778                1755            40 (0-100)  \n5                1                   1                    28  \n6              128                 346             42 (0-93)  \n7                6                   7          49 (26 - 56)  \n8                5                   9             44 (4-73)  \n9                3                   3            25 (25-30)  \n10               2                   2            56 (47-65)  \n11               3                   4          30.5 (25-54)  \n12               0                   1                    50  \n13               4                   5            30 (26-84)  \n14               1                   9            32 (17-63)  \n15               0                   1                    67  \n16               6                  14            41 (29-73)  \n17               1                   1                    56  \n18               3                   3            40 (20-80)  \n19               1                   1                    52  \n20               1                   1                    25  \n21              77                 238             35 (1-90)  \n22               1                   1                    62  \n23               1                   1                    33  \n24               2                   5            43 (33-55)  \n25               1                   1                    35  \n26               4                   9             42 (2-79)  \n27               2                   4            59 (28-74)  \n28              15                  29             33 (0-83)  \n29              24                  63            43 (20-76)  \n30                                                            \n31                                8098                        \n0             Male               Total    Median age (range)  \n1                2                   6             15 (1-45)  \n2              100                 251             49 (1-98)  \n3             2607              5327^b         Not available  \n4              778                1755            40 (0-100)  \n5                1                   1                    28  \n6              128              346^c              42 (0-93)  \n7                6                   7          49 (26 - 61)  \n8                5                   9             44 (4-73)  \n9                3                   3            25 (25-30)  \n10               2                   2            56 (47-65)  \n11               3                   4          30.5 (25-54)  \n12               0                   1                    50  \n13               4                   5            30 (26-84)  \n14               1                   9            32 (17-63)  \n15               0                   1                    67  \n16               6                  14            41 (29-73)  \n17               1                   1                    56  \n18               3                   3            40 (20-80)  \n19               1                   1                    52  \n20               1                   1                    25  \n21              77                 238             35 (1-90)  \n22               1                   1                    62  \n23               1                   1                    33  \n24               2                   5            43 (33-55)  \n25               1                   1                    35  \n26               4                   9             42 (2-79)  \n27               2                   4            59 (28-74)  \n28              14                  27             36 (0-83)  \n29              24                  63            43 (20-76)  \n30                                                            \n31                                8096                        "
     },
     "execution_count": 785,
     "metadata": {},
     "output_type": "execute_result"
    }
   ],
   "source": [
    "df2a.rename(columns=)"
   ]
  },
  {
   "cell_type": "code",
   "execution_count": 784,
   "metadata": {},
   "outputs": [
    {
     "ename": "KeyError",
     "evalue": "'Cumulative_Number_Of_Case(s)'",
     "output_type": "error",
     "traceback": [
      "\u001b[1;31m---------------------------------------------------------------------------\u001b[0m",
      "\u001b[1;31mKeyError\u001b[0m                                  Traceback (most recent call last)",
      "\u001b[1;32m~\\AppData\\Roaming\\Python\\Python38\\site-packages\\pandas\\core\\indexes\\base.py\u001b[0m in \u001b[0;36mget_loc\u001b[1;34m(self, key, method, tolerance)\u001b[0m\n\u001b[0;32m   2645\u001b[0m             \u001b[1;32mtry\u001b[0m\u001b[1;33m:\u001b[0m\u001b[1;33m\u001b[0m\u001b[1;33m\u001b[0m\u001b[0m\n\u001b[1;32m-> 2646\u001b[1;33m                 \u001b[1;32mreturn\u001b[0m \u001b[0mself\u001b[0m\u001b[1;33m.\u001b[0m\u001b[0m_engine\u001b[0m\u001b[1;33m.\u001b[0m\u001b[0mget_loc\u001b[0m\u001b[1;33m(\u001b[0m\u001b[0mkey\u001b[0m\u001b[1;33m)\u001b[0m\u001b[1;33m\u001b[0m\u001b[1;33m\u001b[0m\u001b[0m\n\u001b[0m\u001b[0;32m   2647\u001b[0m             \u001b[1;32mexcept\u001b[0m \u001b[0mKeyError\u001b[0m\u001b[1;33m:\u001b[0m\u001b[1;33m\u001b[0m\u001b[1;33m\u001b[0m\u001b[0m\n",
      "\u001b[1;32mpandas\\_libs\\index.pyx\u001b[0m in \u001b[0;36mpandas._libs.index.IndexEngine.get_loc\u001b[1;34m()\u001b[0m\n",
      "\u001b[1;32mpandas\\_libs\\index.pyx\u001b[0m in \u001b[0;36mpandas._libs.index.IndexEngine.get_loc\u001b[1;34m()\u001b[0m\n",
      "\u001b[1;32mpandas\\_libs\\index_class_helper.pxi\u001b[0m in \u001b[0;36mpandas._libs.index.Int64Engine._check_type\u001b[1;34m()\u001b[0m\n",
      "\u001b[1;31mKeyError\u001b[0m: 'Cumulative_Number_Of_Case(s)'",
      "\nDuring handling of the above exception, another exception occurred:\n",
      "\u001b[1;31mKeyError\u001b[0m                                  Traceback (most recent call last)",
      "\u001b[1;32m<ipython-input-784-96460910f83f>\u001b[0m in \u001b[0;36m<module>\u001b[1;34m\u001b[0m\n\u001b[1;32m----> 1\u001b[1;33m \u001b[0mdf2a\u001b[0m\u001b[1;33m[\u001b[0m\u001b[1;34m'Cumulative_Number_Of_Case(s)'\u001b[0m\u001b[1;33m]\u001b[0m \u001b[1;33m=\u001b[0m \u001b[0mlist\u001b[0m\u001b[1;33m(\u001b[0m\u001b[0mmap\u001b[0m\u001b[1;33m(\u001b[0m\u001b[0mcln_num_col\u001b[0m\u001b[1;33m,\u001b[0m\u001b[0mdf2a\u001b[0m\u001b[1;33m[\u001b[0m\u001b[1;34m'Cumulative_Number_Of_Case(s)'\u001b[0m\u001b[1;33m]\u001b[0m\u001b[1;33m)\u001b[0m\u001b[1;33m)\u001b[0m\u001b[1;33m\u001b[0m\u001b[1;33m\u001b[0m\u001b[0m\n\u001b[0m\u001b[0;32m      2\u001b[0m \u001b[0mdf2a\u001b[0m\u001b[1;33m[\u001b[0m\u001b[1;34m'Number_Of_Deaths'\u001b[0m\u001b[1;33m]\u001b[0m \u001b[1;33m=\u001b[0m \u001b[0mlist\u001b[0m\u001b[1;33m(\u001b[0m\u001b[0mmap\u001b[0m\u001b[1;33m(\u001b[0m\u001b[0mcln_num_col\u001b[0m\u001b[1;33m,\u001b[0m\u001b[0mdf2a\u001b[0m\u001b[1;33m[\u001b[0m\u001b[1;34m'Number_Of_Deaths'\u001b[0m\u001b[1;33m]\u001b[0m\u001b[1;33m)\u001b[0m\u001b[1;33m)\u001b[0m\u001b[1;33m\u001b[0m\u001b[1;33m\u001b[0m\u001b[0m\n\u001b[0;32m      3\u001b[0m \u001b[0mdf2a\u001b[0m\u001b[1;33m[\u001b[0m\u001b[1;34m'Local_Chain(s)_of_Transmission'\u001b[0m\u001b[1;33m]\u001b[0m \u001b[1;33m=\u001b[0m \u001b[0mlist\u001b[0m\u001b[1;33m(\u001b[0m\u001b[0mmap\u001b[0m\u001b[1;33m(\u001b[0m\u001b[0mcln_trans\u001b[0m\u001b[1;33m,\u001b[0m\u001b[0mdf2a\u001b[0m\u001b[1;33m[\u001b[0m\u001b[1;34m'Local_Chain(s)_of_Transmission'\u001b[0m\u001b[1;33m]\u001b[0m\u001b[1;33m)\u001b[0m\u001b[1;33m)\u001b[0m\u001b[1;33m\u001b[0m\u001b[1;33m\u001b[0m\u001b[0m\n\u001b[0;32m      4\u001b[0m \u001b[0mdf2a\u001b[0m\u001b[1;33m[\u001b[0m\u001b[1;34m'Cumulative_Number_Of_Case(s)'\u001b[0m\u001b[1;33m]\u001b[0m\u001b[1;33m=\u001b[0m\u001b[0mdf2a\u001b[0m\u001b[1;33m[\u001b[0m\u001b[1;34m'Cumulative_Number_Of_Case(s)'\u001b[0m\u001b[1;33m]\u001b[0m\u001b[1;33m.\u001b[0m\u001b[0mastype\u001b[0m\u001b[1;33m(\u001b[0m\u001b[0mint\u001b[0m\u001b[1;33m)\u001b[0m\u001b[1;33m\u001b[0m\u001b[1;33m\u001b[0m\u001b[0m\n\u001b[0;32m      5\u001b[0m \u001b[0mdf2a\u001b[0m\u001b[1;33m[\u001b[0m\u001b[1;34m'Number_Of_Deaths'\u001b[0m\u001b[1;33m]\u001b[0m\u001b[1;33m=\u001b[0m\u001b[0mpd\u001b[0m\u001b[1;33m.\u001b[0m\u001b[0mSeries\u001b[0m\u001b[1;33m(\u001b[0m\u001b[0mlist\u001b[0m\u001b[1;33m(\u001b[0m\u001b[0mmap\u001b[0m\u001b[1;33m(\u001b[0m\u001b[1;32mlambda\u001b[0m \u001b[0mx\u001b[0m\u001b[1;33m:\u001b[0m \u001b[1;34m'0'\u001b[0m \u001b[1;32mif\u001b[0m \u001b[0mx\u001b[0m \u001b[1;33m==\u001b[0m\u001b[1;34m'nan'\u001b[0m \u001b[1;32melse\u001b[0m \u001b[0mx\u001b[0m\u001b[1;33m,\u001b[0m \u001b[0mdf2a\u001b[0m\u001b[1;33m[\u001b[0m\u001b[1;34m'Number_Of_Deaths'\u001b[0m\u001b[1;33m]\u001b[0m\u001b[1;33m)\u001b[0m\u001b[1;33m)\u001b[0m\u001b[1;33m)\u001b[0m\u001b[1;33m.\u001b[0m\u001b[0mastype\u001b[0m\u001b[1;33m(\u001b[0m\u001b[0mint\u001b[0m\u001b[1;33m)\u001b[0m\u001b[1;33m\u001b[0m\u001b[1;33m\u001b[0m\u001b[0m\n",
      "\u001b[1;32m~\\AppData\\Roaming\\Python\\Python38\\site-packages\\pandas\\core\\frame.py\u001b[0m in \u001b[0;36m__getitem__\u001b[1;34m(self, key)\u001b[0m\n\u001b[0;32m   2798\u001b[0m             \u001b[1;32mif\u001b[0m \u001b[0mself\u001b[0m\u001b[1;33m.\u001b[0m\u001b[0mcolumns\u001b[0m\u001b[1;33m.\u001b[0m\u001b[0mnlevels\u001b[0m \u001b[1;33m>\u001b[0m \u001b[1;36m1\u001b[0m\u001b[1;33m:\u001b[0m\u001b[1;33m\u001b[0m\u001b[1;33m\u001b[0m\u001b[0m\n\u001b[0;32m   2799\u001b[0m                 \u001b[1;32mreturn\u001b[0m \u001b[0mself\u001b[0m\u001b[1;33m.\u001b[0m\u001b[0m_getitem_multilevel\u001b[0m\u001b[1;33m(\u001b[0m\u001b[0mkey\u001b[0m\u001b[1;33m)\u001b[0m\u001b[1;33m\u001b[0m\u001b[1;33m\u001b[0m\u001b[0m\n\u001b[1;32m-> 2800\u001b[1;33m             \u001b[0mindexer\u001b[0m \u001b[1;33m=\u001b[0m \u001b[0mself\u001b[0m\u001b[1;33m.\u001b[0m\u001b[0mcolumns\u001b[0m\u001b[1;33m.\u001b[0m\u001b[0mget_loc\u001b[0m\u001b[1;33m(\u001b[0m\u001b[0mkey\u001b[0m\u001b[1;33m)\u001b[0m\u001b[1;33m\u001b[0m\u001b[1;33m\u001b[0m\u001b[0m\n\u001b[0m\u001b[0;32m   2801\u001b[0m             \u001b[1;32mif\u001b[0m \u001b[0mis_integer\u001b[0m\u001b[1;33m(\u001b[0m\u001b[0mindexer\u001b[0m\u001b[1;33m)\u001b[0m\u001b[1;33m:\u001b[0m\u001b[1;33m\u001b[0m\u001b[1;33m\u001b[0m\u001b[0m\n\u001b[0;32m   2802\u001b[0m                 \u001b[0mindexer\u001b[0m \u001b[1;33m=\u001b[0m \u001b[1;33m[\u001b[0m\u001b[0mindexer\u001b[0m\u001b[1;33m]\u001b[0m\u001b[1;33m\u001b[0m\u001b[1;33m\u001b[0m\u001b[0m\n",
      "\u001b[1;32m~\\AppData\\Roaming\\Python\\Python38\\site-packages\\pandas\\core\\indexes\\base.py\u001b[0m in \u001b[0;36mget_loc\u001b[1;34m(self, key, method, tolerance)\u001b[0m\n\u001b[0;32m   2646\u001b[0m                 \u001b[1;32mreturn\u001b[0m \u001b[0mself\u001b[0m\u001b[1;33m.\u001b[0m\u001b[0m_engine\u001b[0m\u001b[1;33m.\u001b[0m\u001b[0mget_loc\u001b[0m\u001b[1;33m(\u001b[0m\u001b[0mkey\u001b[0m\u001b[1;33m)\u001b[0m\u001b[1;33m\u001b[0m\u001b[1;33m\u001b[0m\u001b[0m\n\u001b[0;32m   2647\u001b[0m             \u001b[1;32mexcept\u001b[0m \u001b[0mKeyError\u001b[0m\u001b[1;33m:\u001b[0m\u001b[1;33m\u001b[0m\u001b[1;33m\u001b[0m\u001b[0m\n\u001b[1;32m-> 2648\u001b[1;33m                 \u001b[1;32mreturn\u001b[0m \u001b[0mself\u001b[0m\u001b[1;33m.\u001b[0m\u001b[0m_engine\u001b[0m\u001b[1;33m.\u001b[0m\u001b[0mget_loc\u001b[0m\u001b[1;33m(\u001b[0m\u001b[0mself\u001b[0m\u001b[1;33m.\u001b[0m\u001b[0m_maybe_cast_indexer\u001b[0m\u001b[1;33m(\u001b[0m\u001b[0mkey\u001b[0m\u001b[1;33m)\u001b[0m\u001b[1;33m)\u001b[0m\u001b[1;33m\u001b[0m\u001b[1;33m\u001b[0m\u001b[0m\n\u001b[0m\u001b[0;32m   2649\u001b[0m         \u001b[0mindexer\u001b[0m \u001b[1;33m=\u001b[0m \u001b[0mself\u001b[0m\u001b[1;33m.\u001b[0m\u001b[0mget_indexer\u001b[0m\u001b[1;33m(\u001b[0m\u001b[1;33m[\u001b[0m\u001b[0mkey\u001b[0m\u001b[1;33m]\u001b[0m\u001b[1;33m,\u001b[0m \u001b[0mmethod\u001b[0m\u001b[1;33m=\u001b[0m\u001b[0mmethod\u001b[0m\u001b[1;33m,\u001b[0m \u001b[0mtolerance\u001b[0m\u001b[1;33m=\u001b[0m\u001b[0mtolerance\u001b[0m\u001b[1;33m)\u001b[0m\u001b[1;33m\u001b[0m\u001b[1;33m\u001b[0m\u001b[0m\n\u001b[0;32m   2650\u001b[0m         \u001b[1;32mif\u001b[0m \u001b[0mindexer\u001b[0m\u001b[1;33m.\u001b[0m\u001b[0mndim\u001b[0m \u001b[1;33m>\u001b[0m \u001b[1;36m1\u001b[0m \u001b[1;32mor\u001b[0m \u001b[0mindexer\u001b[0m\u001b[1;33m.\u001b[0m\u001b[0msize\u001b[0m \u001b[1;33m>\u001b[0m \u001b[1;36m1\u001b[0m\u001b[1;33m:\u001b[0m\u001b[1;33m\u001b[0m\u001b[1;33m\u001b[0m\u001b[0m\n",
      "\u001b[1;32mpandas\\_libs\\index.pyx\u001b[0m in \u001b[0;36mpandas._libs.index.IndexEngine.get_loc\u001b[1;34m()\u001b[0m\n",
      "\u001b[1;32mpandas\\_libs\\index.pyx\u001b[0m in \u001b[0;36mpandas._libs.index.IndexEngine.get_loc\u001b[1;34m()\u001b[0m\n",
      "\u001b[1;32mpandas\\_libs\\index_class_helper.pxi\u001b[0m in \u001b[0;36mpandas._libs.index.Int64Engine._check_type\u001b[1;34m()\u001b[0m\n",
      "\u001b[1;31mKeyError\u001b[0m: 'Cumulative_Number_Of_Case(s)'"
     ]
    }
   ],
   "source": [
    "df2a['Cumulative_Number_Of_Case(s)'] = list(map(cln_num_col,df2a['Cumulative_Number_Of_Case(s)']))\n",
    "df2a['Number_Of_Deaths'] = list(map(cln_num_col,df2a['Number_Of_Deaths']))\n",
    "df2a['Local_Chain(s)_of_Transmission'] = list(map(cln_trans,df2a['Local_Chain(s)_of_Transmission']))\n",
    "df2a['Cumulative_Number_Of_Case(s)']=df2a['Cumulative_Number_Of_Case(s)'].astype(int)\n",
    "df2a['Number_Of_Deaths']=pd.Series(list(map(lambda x: '0' if x =='nan' else x, df2a['Number_Of_Deaths']))).astype(int)\n",
    "df2a['Country'] = list(map(cln_Country,df2a['Country']))\n",
    "df2a['Country'] = list(map(lambda x: 'China' if 'China' in x else x, df2a['Country']))\n",
    "# df2a.reset_index(inplace=True)\n",
    "# df2a.drop(columns='index',inplace=True)\n",
    "# df2a.drop(df2a.index[[1585,1586]],inplace=True)"
   ]
  },
  {
   "cell_type": "code",
   "execution_count": 515,
   "metadata": {},
   "outputs": [
    {
     "data": {
      "text/plain": "['http://www.who.int/csr/sars/country/table/en/',\n 'http://www.who.int/csr/sars/country/2003_04_10/en',\n 'http://www.who.int/csr/sars/country/2003_04_11/en',\n 'http://www.who.int/csr/sars/country/2003_04_12/en',\n 'http://www.who.int/csr/sars/country/2003_04_14/en',\n 'http://www.who.int/csr/sars/country/2003_04_15/en',\n 'http://www.who.int/csr/sars/country/2003_04_16/en',\n 'http://www.who.int/csr/sars/country/2003_04_17/en',\n 'http://www.who.int/csr/sars/country/2003_04_18/en',\n 'http://www.who.int/csr/sars/country/2003_04_19/en',\n 'http://www.who.int/csr/sars/country/2003_04_21/en',\n 'http://www.who.int/csr/sars/country/2003_04_22/en',\n 'http://www.who.int/csr/sars/country/2003_04_23/en',\n 'http://www.who.int/csr/sars/country/table2003_09_23/en',\n 'http://www.who.int/csr/sars/country/table2004_04_21/en/']"
     },
     "execution_count": 515,
     "metadata": {},
     "output_type": "execute_result"
    }
   ],
   "source": [
    "url_lst_structure2"
   ]
  },
  {
   "cell_type": "code",
   "execution_count": null,
   "metadata": {},
   "outputs": [],
   "source": []
  }
 ]
}