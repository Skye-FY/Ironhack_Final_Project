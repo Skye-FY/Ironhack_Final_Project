{
 "nbformat": 4,
 "nbformat_minor": 2,
 "metadata": {
  "language_info": {
   "name": "python",
   "codemirror_mode": {
    "name": "ipython",
    "version": 3
   },
   "version": "3.8.2-final"
  },
  "orig_nbformat": 2,
  "file_extension": ".py",
  "mimetype": "text/x-python",
  "name": "python",
  "npconvert_exporter": "python",
  "pygments_lexer": "ipython3",
  "version": 3,
  "kernelspec": {
   "name": "python38264bit6d4e81537cef469fb146b8ff1dba8dc1",
   "display_name": "Python 3.8.2 64-bit"
  }
 },
 "cells": [
  {
   "cell_type": "code",
   "execution_count": 1,
   "metadata": {},
   "outputs": [],
   "source": [
    "# import liabries\n",
    "import requests\n",
    "from bs4 import BeautifulSoup as bs\n",
    "import re\n",
    "import pandas as pd\n",
    "pd.set_option('display.max_columns',None)\n",
    "pd.set_option('display.max_rows',None)"
   ]
  },
  {
   "cell_type": "code",
   "execution_count": 2,
   "metadata": {},
   "outputs": [],
   "source": [
    "#  src url and initial soup\n",
    "# get url list for data scraping\n",
    "url = 'https://www.who.int/csr/sars/country/en/'\n",
    "bs0 = bs(requests.get(url).content,'html')\n",
    "bs1 = bs0.find_all('a')\n",
    "lst = list(map(lambda x: x if '/csr/sars/country/' in str(x) else 0, bs1))\n",
    "who_main = 'http://www.who.int'\n",
    "url_lst = list(map(lambda x: who_main+x,[lst[i]['href'] for i in range(len(lst)) if lst[i]!=0] ))\n",
    "\n",
    "# url list to use for scraping\n",
    "url_use = [i for i in url_lst if len(bs(requests.get(i).content,'html').find_all('tr'))!=0]"
   ]
  },
  {
   "cell_type": "code",
   "execution_count": 3,
   "metadata": {},
   "outputs": [],
   "source": [
    "# normalize and retrieve list of date for df date column \n",
    "data_date = list(map(lambda x:re.findall('\\d+_\\d+_\\d+',x)[0],url_use[3:]))\n",
    "date_lst = ['2003_03_17','2003_03_18','2003_03_19']\n",
    "\n",
    "#df date col data\n",
    "data_date = date_lst+data_date\n"
   ]
  },
  {
   "cell_type": "code",
   "execution_count": 4,
   "metadata": {},
   "outputs": [],
   "source": [
    "# define function to scrap data using url\n",
    "\n",
    "def get_data(url,date):\n",
    "    try:\n",
    "        soup_table = bs(requests.get(url).content,'html').find_all('tr')\n",
    "        rows = []\n",
    "        for i in range(len(soup_table)):\n",
    "            if '/b' in str(soup_table[i]):\n",
    "                rows.append([j.text.replace(u'\\xa0',u' ').strip('\\n') for j in soup_table[i].find_all('b')])\n",
    "            elif '/p' in str(soup_table[i]):\n",
    "                rows.append([j.text.replace(u'\\xa0',u' ').strip('\\n') for j in soup_table[i].find_all('p')])\n",
    "            elif '/td' in str(soup_table[i]):\n",
    "                rows.append([j.text.replace(u'\\xa0',u' ').strip('\\n') for j in soup_table[i].find_all('td')]) \n",
    "        \n",
    "        df = pd.DataFrame(data = rows[1:], columns=rows[0])\n",
    "        df['Date'] = date\n",
    "        result = [rows, df['Date']]\n",
    "        return result\n",
    "                # df.to_csv('/c/Users/sfy/Documents/Ironhack/Personal_Projects/data/%s')\n",
    "    except:\n",
    "        print('ValueError! Check source.',url)\n",
    "        # raise ValueError('Check Column List Length')\n",
    "        \n"
   ]
  },
  {
   "cell_type": "code",
   "execution_count": 132,
   "metadata": {},
   "outputs": [],
   "source": [
    "# define function to clean data\n",
    "def clean_col(x):\n",
    "    cln_lst = x\n",
    "    if type(cln_lst) == list:\n",
    "        if len(cln_lst) != 0:\n",
    "            for i in range(len(cln_lst[0])):\n",
    "                if 'transmission' in cln_lst[0][i]:\n",
    "                    cln_lst[0][i] = 'Local_Chain(s)_of_Transmission'\n",
    "                elif 'Country' in cln_lst[0][i]:\n",
    "                    cln_lst[0][i] = 'Country'\n",
    "                elif ('Cumulative number' in cln_lst[0][i]) & ('Date for which cumulative number of cases is current' not in cln_lst[0][i]) == True:\n",
    "                    cln_lst[0][i] = 'Cumulative_Number_Of_Case(s)'\n",
    "                elif ('Number of deaths' in cln_lst[0][i]) & ('Final Status/ Number of deaths' not in cln_lst[0][i]) == True:\n",
    "                    cln_lst[0][i] = 'Number_Of_Deaths'\n",
    "                elif ('Number recovered' in cln_lst[0][i]) & ('Final Status/ Number recovered' not in cln_lst[0][i]) == True:\n",
    "                    cln_lst[0][i] = 'Number_Recovered'\n",
    "\n",
    "    return cln_lst\n",
    "\n",
    "def cln_trans(x):\n",
    "    if 'None' in str(x):\n",
    "        x = 'N'\n",
    "    elif 'Yes' in str(x):\n",
    "        x = 'Y'\n",
    "    else:\n",
    "        x = 'To be determined'\n",
    "    return x\n",
    "\n",
    "def cln_num_col(x):\n",
    "    x = str(x).replace(' ','').replace('§','').replace('*','')\n",
    "    if x == '':\n",
    "        x = '0'\n",
    "    return x\n",
    "\n",
    "def cln_Country(x):\n",
    "    x = x.lstrip().rstrip().split('^')[0]\n",
    "    return x\n",
    "\n",
    "# # define function to get df\n",
    "def get_df(data,date):\n",
    "    df = pd.DataFrame(data=data[1:],columns=data[0])\n",
    "    df['Date'] = date\n",
    "    return df\n",
    "\n"
   ]
  },
  {
   "cell_type": "code",
   "execution_count": 6,
   "metadata": {},
   "outputs": [
    {
     "name": "stdout",
     "output_type": "stream",
     "text": "ValueError! Check source. http://www.who.int/csr/sars/country/table/en/\nValueError! Check source. http://www.who.int/csr/sars/country/2003_04_10/en/\nValueError! Check source. http://www.who.int/csr/sars/country/2003_04_11/en/\nValueError! Check source. http://www.who.int/csr/sars/country/2003_04_12/en/\nValueError! Check source. http://www.who.int/csr/sars/country/2003_04_14/en/\nValueError! Check source. http://www.who.int/csr/sars/country/2003_04_15/en/\nValueError! Check source. http://www.who.int/csr/sars/country/2003_04_16/en/\nValueError! Check source. http://www.who.int/csr/sars/country/2003_04_17/en/\nValueError! Check source. http://www.who.int/csr/sars/country/2003_04_18/en/\nValueError! Check source. http://www.who.int/csr/sars/country/2003_04_19/en/\nValueError! Check source. http://www.who.int/csr/sars/country/2003_04_21/en/\nValueError! Check source. http://www.who.int/csr/sars/country/2003_04_22/en/\nValueError! Check source. http://www.who.int/csr/sars/country/2003_04_23/en/\nValueError! Check source. http://www.who.int/csr/sars/country/table2003_09_23/en/\nValueError! Check source. http://www.who.int/csr/sars/country/table2004_04_21/en/\n"
    }
   ],
   "source": [
    "origin = list(map(get_data,url_use,data_date))"
   ]
  },
  {
   "cell_type": "code",
   "execution_count": 7,
   "metadata": {},
   "outputs": [],
   "source": [
    "data_origin = [origin[i][0] for i in range(len(origin)) if type(origin[i])==list]\n",
    "data_df = list(map(clean_col,data_origin))"
   ]
  },
  {
   "cell_type": "code",
   "execution_count": 221,
   "metadata": {},
   "outputs": [],
   "source": [
    "date_df = [origin[i][1] for i in range(len(origin)) if type(origin[i])==list]\n",
    "lista = list(map(get_df, data_df, date_df))"
   ]
  },
  {
   "cell_type": "code",
   "execution_count": 357,
   "metadata": {},
   "outputs": [],
   "source": [
    "dfa = pd.concat(lista)\n",
    "dfb = dfa[dfa.columns[:5]]\n",
    "dfb['Cumulative_Number_Of_Case(s)'] = list(map(cln_num_col,dfb['Cumulative_Number_Of_Case(s)']))\n",
    "dfb['Number_Of_Deaths'] = list(map(cln_num_col,dfb['Number_Of_Deaths']))\n",
    "dfb['Local_Chain(s)_of_Transmission'] = list(map(cln_trans,dfb['Local_Chain(s)_of_Transmission']))\n",
    "dfb['Cumulative_Number_Of_Case(s)']=dfb['Cumulative_Number_Of_Case(s)'].astype(int)\n",
    "dfb['Number_Of_Deaths']=pd.Series(list(map(lambda x: '0' if x =='nan' else x, dfb['Number_Of_Deaths']))).astype(int)\n",
    "dfb['Country'] = list(map(cln_Country,dfb['Country']))\n",
    "dfb['Country'] = list(map(lambda x: 'China' if 'China' in x else x, dfb['Country']))\n",
    "dfb.reset_index(inplace=True)\n",
    "dfb.drop(columns='index',inplace=True)\n",
    "dfb.drop(dfb.index[[1585,1586]],inplace=True)\n",
    "# dfb"
   ]
  },
  {
   "cell_type": "code",
   "execution_count": 356,
   "metadata": {},
   "outputs": [],
   "source": [
    "dfc=dfb\n",
    "totalindex = dfc[dfc.Country=='Total'].index\n",
    "dfc.drop(totalindex , inplace=True)\n",
    "# dfc # without total num\n",
    "# totalindex = dfb[dfb.Country=='Total'].index\n",
    "# totalindex"
   ]
  },
  {
   "cell_type": "code",
   "execution_count": 355,
   "metadata": {},
   "outputs": [],
   "source": [
    "# dfc['Local_Chain(s)_of_Transmission'].value_counts() # column to be dropped"
   ]
  },
  {
   "cell_type": "code",
   "execution_count": 354,
   "metadata": {},
   "outputs": [],
   "source": [
    "ts = dfc.groupby(['Date','Country']).agg('sum')\n",
    "# ts"
   ]
  },
  {
   "cell_type": "code",
   "execution_count": 351,
   "metadata": {},
   "outputs": [],
   "source": [
    "date = []\n",
    "country = []\n",
    "positive = []\n",
    "death = []\n",
    "for i in range(len(ts.index)):\n",
    "    date.append(ts.index[i][0])\n",
    "    country.append(ts.index[i][1])\n",
    "    positive.append(ts.values[i][0])\n",
    "    death.append(ts.values[i][1])\n",
    "data = [date,country,positive,death]"
   ]
  },
  {
   "cell_type": "code",
   "execution_count": 353,
   "metadata": {},
   "outputs": [],
   "source": [
    "new_df = pd.DataFrame(data=data,index=['Date','Country', 'Cumulative_Number_Of_Case(s)', 'Number_Of_Deaths']).T\n",
    "# new_df.groupby('Date').agg('sum')"
   ]
  },
  {
   "cell_type": "code",
   "execution_count": 358,
   "metadata": {},
   "outputs": [
    {
     "data": {
      "text/plain": "Index(['Date', 'Country', 'Cumulative_Number_Of_Case(s)', 'Number_Of_Deaths'], dtype='object')"
     },
     "execution_count": 358,
     "metadata": {},
     "output_type": "execute_result"
    }
   ],
   "source": [
    "new_df.columns"
   ]
  },
  {
   "cell_type": "code",
   "execution_count": null,
   "metadata": {},
   "outputs": [],
   "source": []
  }
 ]
}