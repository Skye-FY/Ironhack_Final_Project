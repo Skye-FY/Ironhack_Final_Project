{
 "nbformat": 4,
 "nbformat_minor": 2,
 "metadata": {
  "language_info": {
   "name": "python",
   "codemirror_mode": {
    "name": "ipython",
    "version": 3
   },
   "version": "3.7.4-final"
  },
  "orig_nbformat": 2,
  "file_extension": ".py",
  "mimetype": "text/x-python",
  "name": "python",
  "npconvert_exporter": "python",
  "pygments_lexer": "ipython3",
  "version": 3,
  "kernelspec": {
   "name": "python37464bitbaseconda0c233075484a40799281f2bc71354035",
   "display_name": "Python 3.7.4 64-bit ('base': conda)"
  }
 },
 "cells": [
  {
   "cell_type": "code",
   "execution_count": 5,
   "metadata": {},
   "outputs": [
    {
     "ename": "SyntaxError",
     "evalue": "invalid syntax (<ipython-input-5-130092de8165>, line 2)",
     "output_type": "error",
     "traceback": [
      "\u001b[1;36m  File \u001b[1;32m\"<ipython-input-5-130092de8165>\"\u001b[1;36m, line \u001b[1;32m2\u001b[0m\n\u001b[1;33m    python -m pip --version\u001b[0m\n\u001b[1;37m                ^\u001b[0m\n\u001b[1;31mSyntaxError\u001b[0m\u001b[1;31m:\u001b[0m invalid syntax\n"
     ]
    }
   ],
   "source": [
    "# import torch\n",
    "python -m pip --version"
   ]
  },
  {
   "cell_type": "code",
   "execution_count": 1,
   "metadata": {},
   "outputs": [],
   "source": [
    "import pandas as pd\n",
    "import numpy as np \n",
    "import matplotlib.pyplot as plt  \n",
    "import seaborn as sns  \n",
    "%matplotlib inline"
   ]
  },
  {
   "cell_type": "code",
   "execution_count": 44,
   "metadata": {},
   "outputs": [],
   "source": [
    "c19 = pd.read_csv('../data/time_series_19-covid-Confirmed.csv')\n",
    "confirmed = c19.iloc[:,4:].sum()\n",
    "c19a = pd.DataFrame(confirmed).rename(columns={0:'Confirmed'})\n",
    "c19a.index = pd.to_datetime(c19a.index)\n",
    "# c19a = c19a.reset_index().rename(columns={'index':'Date'})\n",
    "# training_data = c19a.values\n"
   ]
  },
  {
   "cell_type": "code",
   "execution_count": 45,
   "metadata": {},
   "outputs": [
    {
     "data": {
      "text/html": "<div>\n<style scoped>\n    .dataframe tbody tr th:only-of-type {\n        vertical-align: middle;\n    }\n\n    .dataframe tbody tr th {\n        vertical-align: top;\n    }\n\n    .dataframe thead th {\n        text-align: right;\n    }\n</style>\n<table border=\"1\" class=\"dataframe\">\n  <thead>\n    <tr style=\"text-align: right;\">\n      <th></th>\n      <th>Confirmed</th>\n    </tr>\n  </thead>\n  <tbody>\n    <tr>\n      <td>2020-01-22</td>\n      <td>555</td>\n    </tr>\n    <tr>\n      <td>2020-01-23</td>\n      <td>653</td>\n    </tr>\n    <tr>\n      <td>2020-01-24</td>\n      <td>941</td>\n    </tr>\n    <tr>\n      <td>2020-01-25</td>\n      <td>1434</td>\n    </tr>\n    <tr>\n      <td>2020-01-26</td>\n      <td>2118</td>\n    </tr>\n    <tr>\n      <td>2020-01-27</td>\n      <td>2927</td>\n    </tr>\n    <tr>\n      <td>2020-01-28</td>\n      <td>5578</td>\n    </tr>\n    <tr>\n      <td>2020-01-29</td>\n      <td>6166</td>\n    </tr>\n    <tr>\n      <td>2020-01-30</td>\n      <td>8234</td>\n    </tr>\n    <tr>\n      <td>2020-01-31</td>\n      <td>9927</td>\n    </tr>\n    <tr>\n      <td>2020-02-01</td>\n      <td>12038</td>\n    </tr>\n    <tr>\n      <td>2020-02-02</td>\n      <td>16787</td>\n    </tr>\n    <tr>\n      <td>2020-02-03</td>\n      <td>19881</td>\n    </tr>\n    <tr>\n      <td>2020-02-04</td>\n      <td>23892</td>\n    </tr>\n    <tr>\n      <td>2020-02-05</td>\n      <td>27635</td>\n    </tr>\n    <tr>\n      <td>2020-02-06</td>\n      <td>30817</td>\n    </tr>\n    <tr>\n      <td>2020-02-07</td>\n      <td>34391</td>\n    </tr>\n    <tr>\n      <td>2020-02-08</td>\n      <td>37120</td>\n    </tr>\n    <tr>\n      <td>2020-02-09</td>\n      <td>40150</td>\n    </tr>\n    <tr>\n      <td>2020-02-10</td>\n      <td>42762</td>\n    </tr>\n    <tr>\n      <td>2020-02-11</td>\n      <td>44802</td>\n    </tr>\n    <tr>\n      <td>2020-02-12</td>\n      <td>45221</td>\n    </tr>\n    <tr>\n      <td>2020-02-13</td>\n      <td>60368</td>\n    </tr>\n    <tr>\n      <td>2020-02-14</td>\n      <td>66885</td>\n    </tr>\n    <tr>\n      <td>2020-02-15</td>\n      <td>69030</td>\n    </tr>\n    <tr>\n      <td>2020-02-16</td>\n      <td>71224</td>\n    </tr>\n    <tr>\n      <td>2020-02-17</td>\n      <td>73258</td>\n    </tr>\n    <tr>\n      <td>2020-02-18</td>\n      <td>75136</td>\n    </tr>\n    <tr>\n      <td>2020-02-19</td>\n      <td>75639</td>\n    </tr>\n    <tr>\n      <td>2020-02-20</td>\n      <td>76197</td>\n    </tr>\n    <tr>\n      <td>2020-02-21</td>\n      <td>76823</td>\n    </tr>\n    <tr>\n      <td>2020-02-22</td>\n      <td>78579</td>\n    </tr>\n    <tr>\n      <td>2020-02-23</td>\n      <td>78965</td>\n    </tr>\n    <tr>\n      <td>2020-02-24</td>\n      <td>79568</td>\n    </tr>\n    <tr>\n      <td>2020-02-25</td>\n      <td>80413</td>\n    </tr>\n    <tr>\n      <td>2020-02-26</td>\n      <td>81395</td>\n    </tr>\n    <tr>\n      <td>2020-02-27</td>\n      <td>82754</td>\n    </tr>\n    <tr>\n      <td>2020-02-28</td>\n      <td>84120</td>\n    </tr>\n    <tr>\n      <td>2020-02-29</td>\n      <td>86011</td>\n    </tr>\n    <tr>\n      <td>2020-03-01</td>\n      <td>88369</td>\n    </tr>\n    <tr>\n      <td>2020-03-02</td>\n      <td>90306</td>\n    </tr>\n    <tr>\n      <td>2020-03-03</td>\n      <td>92840</td>\n    </tr>\n    <tr>\n      <td>2020-03-04</td>\n      <td>95120</td>\n    </tr>\n    <tr>\n      <td>2020-03-05</td>\n      <td>97882</td>\n    </tr>\n    <tr>\n      <td>2020-03-06</td>\n      <td>101784</td>\n    </tr>\n    <tr>\n      <td>2020-03-07</td>\n      <td>105821</td>\n    </tr>\n    <tr>\n      <td>2020-03-08</td>\n      <td>109795</td>\n    </tr>\n    <tr>\n      <td>2020-03-09</td>\n      <td>113561</td>\n    </tr>\n    <tr>\n      <td>2020-03-10</td>\n      <td>118592</td>\n    </tr>\n    <tr>\n      <td>2020-03-11</td>\n      <td>125865</td>\n    </tr>\n    <tr>\n      <td>2020-03-12</td>\n      <td>128343</td>\n    </tr>\n    <tr>\n      <td>2020-03-13</td>\n      <td>145193</td>\n    </tr>\n    <tr>\n      <td>2020-03-14</td>\n      <td>156097</td>\n    </tr>\n    <tr>\n      <td>2020-03-15</td>\n      <td>167449</td>\n    </tr>\n    <tr>\n      <td>2020-03-16</td>\n      <td>181546</td>\n    </tr>\n  </tbody>\n</table>\n</div>",
      "text/plain": "            Confirmed\n2020-01-22        555\n2020-01-23        653\n2020-01-24        941\n2020-01-25       1434\n2020-01-26       2118\n2020-01-27       2927\n2020-01-28       5578\n2020-01-29       6166\n2020-01-30       8234\n2020-01-31       9927\n2020-02-01      12038\n2020-02-02      16787\n2020-02-03      19881\n2020-02-04      23892\n2020-02-05      27635\n2020-02-06      30817\n2020-02-07      34391\n2020-02-08      37120\n2020-02-09      40150\n2020-02-10      42762\n2020-02-11      44802\n2020-02-12      45221\n2020-02-13      60368\n2020-02-14      66885\n2020-02-15      69030\n2020-02-16      71224\n2020-02-17      73258\n2020-02-18      75136\n2020-02-19      75639\n2020-02-20      76197\n2020-02-21      76823\n2020-02-22      78579\n2020-02-23      78965\n2020-02-24      79568\n2020-02-25      80413\n2020-02-26      81395\n2020-02-27      82754\n2020-02-28      84120\n2020-02-29      86011\n2020-03-01      88369\n2020-03-02      90306\n2020-03-03      92840\n2020-03-04      95120\n2020-03-05      97882\n2020-03-06     101784\n2020-03-07     105821\n2020-03-08     109795\n2020-03-09     113561\n2020-03-10     118592\n2020-03-11     125865\n2020-03-12     128343\n2020-03-13     145193\n2020-03-14     156097\n2020-03-15     167449\n2020-03-16     181546"
     },
     "execution_count": 45,
     "metadata": {},
     "output_type": "execute_result"
    }
   ],
   "source": [
    "c19a"
   ]
  },
  {
   "cell_type": "code",
   "execution_count": 31,
   "metadata": {},
   "outputs": [],
   "source": [
    "# from sklearn.preprocessing import MinMaxScaler\n",
    "# scaler = MinMaxScaler(feature_range = (0, 1))\n",
    "# training_data_scaled = scaler.fit_transform(training_data)"
   ]
  },
  {
   "cell_type": "code",
   "execution_count": 50,
   "metadata": {},
   "outputs": [],
   "source": [
    "from sklearn.preprocessing import MinMaxScaler\n",
    "# X = np.array(c19a[['Date']])\n",
    "# y = np.array(c19a['Confirmed'])\n",
    "# train_data = X[:12]\n",
    "# test_data = X[12:]\n",
    "scaler = MinMaxScaler().fit(c19a[['Confirmed']])\n",
    "scaled_y = scaler.transform(c19a[['Confirmed']])\n",
    "\n",
    "# scaled_test_data = scaler.transform(test_data)\n",
    "c19b = c19a\n",
    "c19b['Confirmed'] = scaled_y"
   ]
  },
  {
   "cell_type": "code",
   "execution_count": null,
   "metadata": {},
   "outputs": [],
   "source": [
    "#First we’ll scale our train and test data with MinMaxScaler\n",
    "\n",
    "# from sklearn.preprocessing import MinMaxScaler\n",
    "# scaler = MinMaxScaler().fit(train_data)\n",
    "# scaled_train_data = scaler.transform(train_data)\n",
    "# scaled_test_data = scaler.transform(test_data)"
   ]
  },
  {
   "cell_type": "code",
   "execution_count": 146,
   "metadata": {},
   "outputs": [],
   "source": [
    "#Before creating LSTM model we should create a Time Series Generator object.\n",
    "from keras.preprocessing.sequence import TimeseriesGenerator\n",
    "# test_size = 11\n",
    "timesteps = 20\n",
    "n_features= 1\n",
    "# train, test = c19b[:len(c19b)-test_size], c19b[len(c19b)-test_size:]\n",
    "train, test = c19b[:-timesteps], c19b[-timesteps:]\n",
    "generator = TimeseriesGenerator(np.array(train), np.array(train), length=timesteps,batch_size=1)\n",
    "# len(generator)\n",
    "# X_train, y_train = generator\n"
   ]
  },
  {
   "cell_type": "code",
   "execution_count": 90,
   "metadata": {},
   "outputs": [
    {
     "data": {
      "text/plain": "11"
     },
     "execution_count": 90,
     "metadata": {},
     "output_type": "execute_result"
    }
   ],
   "source": [
    "len(test)"
   ]
  },
  {
   "cell_type": "code",
   "execution_count": 153,
   "metadata": {},
   "outputs": [],
   "source": [
    "from keras.models import Sequential\n",
    "from keras.layers import Dense\n",
    "from keras.layers import LSTM\n",
    "from keras.layers import Dropout\n",
    "\n",
    "model = Sequential()\n",
    "model.add(LSTM(50,activation='relu',return_sequences=True,input_shape=(timesteps,1)))\n",
    "# model.add(Dropout(0.1))\n",
    "model.add(LSTM(50,activation='relu',return_sequences=True))\n",
    "# model.add(Dropout(0.1))\n",
    "model.add(LSTM(50,activation='relu',return_sequences=True))\n",
    "# model.add(Dropout(0.1))\n",
    "model.add(LSTM(50,activation='relu',return_sequences=True))\n",
    "# model.add(Dropout(0.1))\n",
    "model.add(LSTM(50,activation='relu',return_sequences=False))\n",
    "# model.add(Dropout(0.1))\n",
    "model.add(Dense(1))\n",
    "model.compile(optimizer='adam',loss='mse',metrics=['mae','acc'])"
   ]
  },
  {
   "cell_type": "code",
   "execution_count": 157,
   "metadata": {},
   "outputs": [],
   "source": [
    "pip install --user torch"
   ]
  },
  {
   "cell_type": "code",
   "execution_count": 154,
   "metadata": {},
   "outputs": [
    {
     "name": "stdout",
     "output_type": "stream",
     "text": "Epoch 1/100\n15/15 [==============================] - 3s 174ms/step - loss: 0.1122 - mae: 0.3239 - acc: 0.0000e+00\nEpoch 2/100\n15/15 [==============================] - 1s 39ms/step - loss: 0.0061 - mae: 0.0611 - acc: 0.0000e+00\nEpoch 3/100\n15/15 [==============================] - 1s 42ms/step - loss: 0.0022 - mae: 0.0350 - acc: 0.0000e+00\nEpoch 4/100\n15/15 [==============================] - 1s 52ms/step - loss: 0.0029 - mae: 0.0365 - acc: 0.0000e+00\nEpoch 5/100\n15/15 [==============================] - 1s 57ms/step - loss: 0.0021 - mae: 0.0316 - acc: 0.0000e+00\nEpoch 6/100\n15/15 [==============================] - 1s 67ms/step - loss: 0.0019 - mae: 0.0358 - acc: 0.0000e+00\nEpoch 7/100\n15/15 [==============================] - 1s 68ms/step - loss: 0.0026 - mae: 0.0396 - acc: 0.0000e+00\nEpoch 8/100\n15/15 [==============================] - 1s 68ms/step - loss: 0.0020 - mae: 0.0360 - acc: 0.0000e+00\nEpoch 9/100\n15/15 [==============================] - 1s 54ms/step - loss: 0.0018 - mae: 0.0342 - acc: 0.0000e+00\nEpoch 10/100\n15/15 [==============================] - 1s 70ms/step - loss: 0.0021 - mae: 0.0378 - acc: 0.0000e+00\nEpoch 11/100\n15/15 [==============================] - 1s 67ms/step - loss: 0.0023 - mae: 0.0409 - acc: 0.0000e+00\nEpoch 12/100\n15/15 [==============================] - 1s 67ms/step - loss: 0.0018 - mae: 0.0279 - acc: 0.0000e+00\nEpoch 13/100\n15/15 [==============================] - 1s 66ms/step - loss: 0.0021 - mae: 0.0378 - acc: 0.0000e+00\nEpoch 14/100\n15/15 [==============================] - 1s 65ms/step - loss: 0.0022 - mae: 0.0419 - acc: 0.0000e+00\nEpoch 15/100\n15/15 [==============================] - 1s 66ms/step - loss: 0.0023 - mae: 0.0369 - acc: 0.0000e+00\nEpoch 16/100\n15/15 [==============================] - 1s 67ms/step - loss: 0.0014 - mae: 0.0272 - acc: 0.0000e+00\nEpoch 17/100\n15/15 [==============================] - 1s 67ms/step - loss: 0.0016 - mae: 0.0312 - acc: 0.0000e+00\nEpoch 18/100\n15/15 [==============================] - 1s 69ms/step - loss: 0.0015 - mae: 0.0317 - acc: 0.0000e+00\nEpoch 19/100\n15/15 [==============================] - 1s 67ms/step - loss: 0.0016 - mae: 0.0312 - acc: 0.0000e+00\nEpoch 20/100\n15/15 [==============================] - 1s 70ms/step - loss: 0.0022 - mae: 0.0390 - acc: 0.0000e+00\nEpoch 21/100\n15/15 [==============================] - 1s 67ms/step - loss: 0.0016 - mae: 0.0309 - acc: 0.0000e+00\nEpoch 22/100\n15/15 [==============================] - 1s 67ms/step - loss: 0.0017 - mae: 0.0335 - acc: 0.0000e+00\nEpoch 23/100\n15/15 [==============================] - 1s 69ms/step - loss: 0.0018 - mae: 0.0347 - acc: 0.0000e+00\nEpoch 24/100\n15/15 [==============================] - 1s 67ms/step - loss: 0.0018 - mae: 0.0348 - acc: 0.0000e+00\nEpoch 25/100\n15/15 [==============================] - 1s 67ms/step - loss: 0.0022 - mae: 0.0413 - acc: 0.0000e+00\nEpoch 26/100\n15/15 [==============================] - 1s 67ms/step - loss: 0.0031 - mae: 0.0427 - acc: 0.0000e+00\nEpoch 27/100\n15/15 [==============================] - 1s 66ms/step - loss: 0.0024 - mae: 0.0391 - acc: 0.0000e+00\nEpoch 28/100\n15/15 [==============================] - 1s 66ms/step - loss: 0.0023 - mae: 0.0380 - acc: 0.0000e+00\nEpoch 29/100\n15/15 [==============================] - 1s 69ms/step - loss: 0.0020 - mae: 0.0390 - acc: 0.0000e+00\nEpoch 30/100\n15/15 [==============================] - 1s 68ms/step - loss: 0.0025 - mae: 0.0405 - acc: 0.0000e+00\nEpoch 31/100\n15/15 [==============================] - 1s 70ms/step - loss: 0.0015 - mae: 0.0313 - acc: 0.0000e+00\nEpoch 32/100\n15/15 [==============================] - 1s 68ms/step - loss: 0.0014 - mae: 0.0311 - acc: 0.0000e+00\nEpoch 33/100\n15/15 [==============================] - 1s 70ms/step - loss: 0.0014 - mae: 0.0305 - acc: 0.0000e+00\nEpoch 34/100\n15/15 [==============================] - 1s 69ms/step - loss: 0.0022 - mae: 0.0381 - acc: 0.0000e+00\nEpoch 35/100\n15/15 [==============================] - 1s 68ms/step - loss: 0.0030 - mae: 0.0468 - acc: 0.0000e+00\nEpoch 36/100\n15/15 [==============================] - 1s 67ms/step - loss: 9.5540e-04 - mae: 0.0221 - acc: 0.0000e+00\nEpoch 37/100\n15/15 [==============================] - 1s 69ms/step - loss: 0.0014 - mae: 0.0322 - acc: 0.0000e+00\nEpoch 38/100\n15/15 [==============================] - 1s 67ms/step - loss: 0.0017 - mae: 0.0340 - acc: 0.0000e+00\nEpoch 39/100\n15/15 [==============================] - 1s 45ms/step - loss: 0.0013 - mae: 0.0302 - acc: 0.0000e+00\nEpoch 40/100\n15/15 [==============================] - 1s 41ms/step - loss: 0.0012 - mae: 0.0290 - acc: 0.0000e+00\nEpoch 41/100\n15/15 [==============================] - 1s 53ms/step - loss: 0.0011 - mae: 0.0251 - acc: 0.0000e+00\nEpoch 42/100\n15/15 [==============================] - 1s 54ms/step - loss: 0.0011 - mae: 0.0251 - acc: 0.0000e+00\nEpoch 43/100\n15/15 [==============================] - 1s 58ms/step - loss: 0.0010 - mae: 0.0267 - acc: 0.0000e+00\nEpoch 44/100\n15/15 [==============================] - 1s 78ms/step - loss: 0.0013 - mae: 0.0310 - acc: 0.0000e+00\nEpoch 45/100\n15/15 [==============================] - 1s 66ms/step - loss: 0.0013 - mae: 0.0275 - acc: 0.0000e+00\nEpoch 46/100\n15/15 [==============================] - 1s 59ms/step - loss: 0.0011 - mae: 0.0272 - acc: 0.0000e+00\nEpoch 47/100\n15/15 [==============================] - 1s 55ms/step - loss: 0.0016 - mae: 0.0353 - acc: 0.0000e+00\nEpoch 48/100\n15/15 [==============================] - 1s 41ms/step - loss: 9.4152e-04 - mae: 0.0252 - acc: 0.0000e+00\nEpoch 49/100\n15/15 [==============================] - 1s 36ms/step - loss: 9.6160e-04 - mae: 0.0241 - acc: 0.0000e+00\nEpoch 50/100\n15/15 [==============================] - 1s 36ms/step - loss: 0.0013 - mae: 0.0301 - acc: 0.0000e+00\nEpoch 51/100\n15/15 [==============================] - 1s 36ms/step - loss: 0.0019 - mae: 0.0422 - acc: 0.0000e+00\nEpoch 52/100\n15/15 [==============================] - 1s 35ms/step - loss: 0.0018 - mae: 0.0329 - acc: 0.0000e+00\nEpoch 53/100\n15/15 [==============================] - 1s 37ms/step - loss: 0.0013 - mae: 0.0283 - acc: 0.0000e+00\nEpoch 54/100\n15/15 [==============================] - 1s 42ms/step - loss: 0.0018 - mae: 0.0361 - acc: 0.0000e+00\nEpoch 55/100\n15/15 [==============================] - 1s 55ms/step - loss: 0.0010 - mae: 0.0275 - acc: 0.0000e+00\nEpoch 56/100\n15/15 [==============================] - 1s 66ms/step - loss: 0.0013 - mae: 0.0324 - acc: 0.0000e+00\nEpoch 57/100\n15/15 [==============================] - 1s 65ms/step - loss: 8.1081e-04 - mae: 0.0173 - acc: 0.0000e+00\nEpoch 58/100\n15/15 [==============================] - 1s 65ms/step - loss: 5.7576e-04 - mae: 0.0163 - acc: 0.0000e+00\nEpoch 59/100\n15/15 [==============================] - 1s 66ms/step - loss: 5.9176e-04 - mae: 0.0199 - acc: 0.0000e+00\nEpoch 60/100\n15/15 [==============================] - 1s 67ms/step - loss: 5.8277e-04 - mae: 0.0186 - acc: 0.0000e+00\nEpoch 61/100\n15/15 [==============================] - 1s 66ms/step - loss: 5.8446e-04 - mae: 0.0175 - acc: 0.0000e+00\nEpoch 62/100\n15/15 [==============================] - 1s 68ms/step - loss: 4.5209e-04 - mae: 0.0183 - acc: 0.0000e+00\nEpoch 63/100\n15/15 [==============================] - 1s 65ms/step - loss: 5.7050e-04 - mae: 0.0198 - acc: 0.0000e+00\nEpoch 64/100\n15/15 [==============================] - 1s 67ms/step - loss: 8.5972e-04 - mae: 0.0242 - acc: 0.0000e+00\nEpoch 65/100\n15/15 [==============================] - 1s 67ms/step - loss: 9.1128e-04 - mae: 0.0260 - acc: 0.0000e+00\nEpoch 66/100\n15/15 [==============================] - 1s 65ms/step - loss: 9.3817e-04 - mae: 0.0246 - acc: 0.0000e+00\nEpoch 67/100\n15/15 [==============================] - 1s 67ms/step - loss: 0.0011 - mae: 0.0212 - acc: 0.0000e+00\nEpoch 68/100\n15/15 [==============================] - 1s 66ms/step - loss: 5.4618e-04 - mae: 0.0184 - acc: 0.0000e+00\nEpoch 69/100\n15/15 [==============================] - 1s 66ms/step - loss: 4.2398e-04 - mae: 0.0161 - acc: 0.0000e+00\nEpoch 70/100\n15/15 [==============================] - 1s 69ms/step - loss: 4.7100e-04 - mae: 0.0161 - acc: 0.0000e+00\nEpoch 71/100\n15/15 [==============================] - 1s 65ms/step - loss: 8.3005e-04 - mae: 0.0210 - acc: 0.0000e+00\nEpoch 72/100\n15/15 [==============================] - 1s 66ms/step - loss: 8.3557e-04 - mae: 0.0197 - acc: 0.0000e+00\nEpoch 73/100\n15/15 [==============================] - 1s 66ms/step - loss: 3.2385e-04 - mae: 0.0138 - acc: 0.0000e+00\nEpoch 74/100\n15/15 [==============================] - 1s 66ms/step - loss: 3.4804e-04 - mae: 0.0126 - acc: 0.0000e+00\nEpoch 75/100\n15/15 [==============================] - 1s 66ms/step - loss: 2.7298e-04 - mae: 0.0126 - acc: 0.0000e+00\nEpoch 76/100\n15/15 [==============================] - 1s 66ms/step - loss: 5.9658e-04 - mae: 0.0203 - acc: 0.0000e+00\nEpoch 77/100\n15/15 [==============================] - 1s 66ms/step - loss: 3.4432e-04 - mae: 0.0160 - acc: 0.0000e+00\nEpoch 78/100\n15/15 [==============================] - 1s 66ms/step - loss: 6.9873e-04 - mae: 0.0208 - acc: 0.0000e+00\nEpoch 79/100\n15/15 [==============================] - 1s 66ms/step - loss: 5.4309e-04 - mae: 0.0171 - acc: 0.0000e+00\nEpoch 80/100\n15/15 [==============================] - 1s 67ms/step - loss: 0.0010 - mae: 0.0268 - acc: 0.0000e+00\nEpoch 81/100\n15/15 [==============================] - 1s 67ms/step - loss: 7.7559e-04 - mae: 0.0164 - acc: 0.0000e+00\nEpoch 82/100\n15/15 [==============================] - 1s 66ms/step - loss: 4.7069e-04 - mae: 0.0181 - acc: 0.0000e+00\nEpoch 83/100\n15/15 [==============================] - 1s 70ms/step - loss: 3.4920e-04 - mae: 0.0152 - acc: 0.0000e+00\nEpoch 84/100\n15/15 [==============================] - 1s 68ms/step - loss: 2.6669e-04 - mae: 0.0138 - acc: 0.0000e+00\nEpoch 85/100\n15/15 [==============================] - 1s 65ms/step - loss: 2.3731e-04 - mae: 0.0093 - acc: 0.0000e+00\nEpoch 86/100\n15/15 [==============================] - 1s 66ms/step - loss: 4.6787e-04 - mae: 0.0152 - acc: 0.0000e+00\nEpoch 87/100\n15/15 [==============================] - 1s 66ms/step - loss: 4.3603e-04 - mae: 0.0146 - acc: 0.0000e+00\nEpoch 88/100\n15/15 [==============================] - 1s 67ms/step - loss: 1.8166e-04 - mae: 0.0110 - acc: 0.0000e+00\nEpoch 89/100\n15/15 [==============================] - 1s 67ms/step - loss: 2.4777e-04 - mae: 0.0112 - acc: 0.0000e+00\nEpoch 90/100\n15/15 [==============================] - 1s 67ms/step - loss: 3.5751e-04 - mae: 0.0125 - acc: 0.0000e+00\nEpoch 91/100\n15/15 [==============================] - 1s 67ms/step - loss: 8.1968e-04 - mae: 0.0213 - acc: 0.0000e+00\nEpoch 92/100\n15/15 [==============================] - 1s 67ms/step - loss: 3.8939e-04 - mae: 0.0118 - acc: 0.0000e+00\nEpoch 93/100\n15/15 [==============================] - 1s 66ms/step - loss: 1.2032e-04 - mae: 0.0080 - acc: 0.0000e+00\nEpoch 94/100\n15/15 [==============================] - 1s 66ms/step - loss: 3.4966e-04 - mae: 0.0147 - acc: 0.0000e+00\nEpoch 95/100\n15/15 [==============================] - 1s 66ms/step - loss: 6.0474e-04 - mae: 0.0175 - acc: 0.0000e+00\nEpoch 96/100\n15/15 [==============================] - 1s 67ms/step - loss: 6.7770e-04 - mae: 0.0218 - acc: 0.0000e+00\nEpoch 97/100\n15/15 [==============================] - 1s 67ms/step - loss: 6.4793e-04 - mae: 0.0217 - acc: 0.0000e+00\nEpoch 98/100\n15/15 [==============================] - 1s 69ms/step - loss: 3.3032e-04 - mae: 0.0129 - acc: 0.0000e+00\nEpoch 99/100\n15/15 [==============================] - 1s 68ms/step - loss: 2.6861e-04 - mae: 0.0125 - acc: 0.0000e+00\nEpoch 100/100\n15/15 [==============================] - 1s 67ms/step - loss: 2.5084e-04 - mae: 0.0108 - acc: 0.0000e+00\n"
    },
    {
     "data": {
      "text/plain": "<keras.callbacks.callbacks.History at 0x1958034ad88>"
     },
     "execution_count": 154,
     "metadata": {},
     "output_type": "execute_result"
    }
   ],
   "source": [
    "model.fit_generator(generator,epochs=100)"
   ]
  },
  {
   "cell_type": "code",
   "execution_count": 149,
   "metadata": {},
   "outputs": [],
   "source": [
    "test_val = np.array(train[-timesteps:]).reshape((1,timesteps,1))\n",
    "for i in range(timesteps):\n",
    "    pred = model.predict(test_val)\n",
    "    np.append(test_val[0],pred)\n",
    "    np.delete(test_val[0],0)"
   ]
  },
  {
   "cell_type": "code",
   "execution_count": 108,
   "metadata": {},
   "outputs": [
    {
     "data": {
      "text/plain": "array([[[0.46170804],\n        [0.47215607],\n        [0.48518435],\n        [0.49588654],\n        [0.50988723],\n        [0.52248454],\n        [0.53774497]]])"
     },
     "execution_count": 108,
     "metadata": {},
     "output_type": "execute_result"
    }
   ],
   "source": [
    "test_val"
   ]
  },
  {
   "cell_type": "code",
   "execution_count": 150,
   "metadata": {},
   "outputs": [
    {
     "data": {
      "text/plain": "0.23638118285807952"
     },
     "execution_count": 150,
     "metadata": {},
     "output_type": "execute_result"
    }
   ],
   "source": [
    "np.mean(list(map(lambda x,y: abs(x-y), testa.Confirmed[-timesteps:].fillna(0), testa.pred[-timesteps:].fillna(0))))"
   ]
  },
  {
   "cell_type": "code",
   "execution_count": 151,
   "metadata": {},
   "outputs": [],
   "source": [
    "testa = test\n",
    "testa['pred'] = pd.Series()\n",
    "testa['pred'][-timesteps:] = test_val.reshape((1,timesteps))[0]"
   ]
  },
  {
   "cell_type": "code",
   "execution_count": 124,
   "metadata": {},
   "outputs": [
    {
     "data": {
      "text/plain": "DatetimeIndex(['2020-03-10', '2020-03-11', '2020-03-12', '2020-03-13',\n               '2020-03-14', '2020-03-15', '2020-03-16'],\n              dtype='datetime64[ns]', freq=None)"
     },
     "execution_count": 124,
     "metadata": {},
     "output_type": "execute_result"
    }
   ],
   "source": [
    "testa[-7:].index"
   ]
  },
  {
   "cell_type": "code",
   "execution_count": 143,
   "metadata": {},
   "outputs": [
    {
     "ename": "ValueError",
     "evalue": "cannot reshape array of size 14 into shape (1,7,1)",
     "output_type": "error",
     "traceback": [
      "\u001b[1;31m---------------------------------------------------------------------------\u001b[0m",
      "\u001b[1;31mValueError\u001b[0m                                Traceback (most recent call last)",
      "\u001b[1;32m<ipython-input-143-1b00ffbe1670>\u001b[0m in \u001b[0;36m<module>\u001b[1;34m\u001b[0m\n\u001b[1;32m----> 1\u001b[1;33m \u001b[0mmodel\u001b[0m\u001b[1;33m.\u001b[0m\u001b[0mevaluate\u001b[0m\u001b[1;33m(\u001b[0m\u001b[0mnp\u001b[0m\u001b[1;33m.\u001b[0m\u001b[0marray\u001b[0m\u001b[1;33m(\u001b[0m\u001b[0mtesta\u001b[0m\u001b[1;33m[\u001b[0m\u001b[1;33m-\u001b[0m\u001b[1;36m7\u001b[0m\u001b[1;33m:\u001b[0m\u001b[1;33m]\u001b[0m\u001b[1;33m)\u001b[0m\u001b[1;33m.\u001b[0m\u001b[0mreshape\u001b[0m\u001b[1;33m(\u001b[0m\u001b[1;33m(\u001b[0m\u001b[1;36m1\u001b[0m\u001b[1;33m,\u001b[0m\u001b[1;36m7\u001b[0m\u001b[1;33m,\u001b[0m\u001b[1;36m1\u001b[0m\u001b[1;33m)\u001b[0m\u001b[1;33m)\u001b[0m\u001b[1;33m,\u001b[0m\u001b[0mnp\u001b[0m\u001b[1;33m.\u001b[0m\u001b[0marray\u001b[0m\u001b[1;33m(\u001b[0m\u001b[0mtesta\u001b[0m\u001b[1;33m[\u001b[0m\u001b[1;34m'pred'\u001b[0m\u001b[1;33m]\u001b[0m\u001b[1;33m[\u001b[0m\u001b[1;33m-\u001b[0m\u001b[1;36m7\u001b[0m\u001b[1;33m:\u001b[0m\u001b[1;33m]\u001b[0m\u001b[1;33m)\u001b[0m\u001b[1;33m.\u001b[0m\u001b[0mreshape\u001b[0m\u001b[1;33m(\u001b[0m\u001b[1;33m(\u001b[0m\u001b[1;36m1\u001b[0m\u001b[1;33m,\u001b[0m\u001b[1;36m7\u001b[0m\u001b[1;33m,\u001b[0m\u001b[1;36m1\u001b[0m\u001b[1;33m)\u001b[0m\u001b[1;33m)\u001b[0m\u001b[1;33m)\u001b[0m\u001b[1;33m\u001b[0m\u001b[1;33m\u001b[0m\u001b[0m\n\u001b[0m",
      "\u001b[1;31mValueError\u001b[0m: cannot reshape array of size 14 into shape (1,7,1)"
     ]
    }
   ],
   "source": [
    "model.evaluate(np.array(testa[-7:]).reshape((1,7,1)),np.array(testa['pred'][-7:]).reshape((1,7,1)))"
   ]
  },
  {
   "cell_type": "code",
   "execution_count": 152,
   "metadata": {},
   "outputs": [
    {
     "data": {
      "text/plain": "[<matplotlib.lines.Line2D at 0x1958037c288>,\n <matplotlib.lines.Line2D at 0x19580387288>]"
     },
     "execution_count": 152,
     "metadata": {},
     "output_type": "execute_result"
    },
    {
     "data": {
      "image/png": "[encoded data removed]",
      "image/svg+xml": "<?xml version=\"1.0\" encoding=\"utf-8\" standalone=\"no\"?>\r\n<!DOCTYPE svg PUBLIC \"-//W3C//DTD SVG 1.1//EN\"\r\n  \"http://www.w3.org/Graphics/SVG/1.1/DTD/svg11.dtd\">\r\n<!-- Created with matplotlib (https://matplotlib.org/) -->\r\n<svg height=\"248.518125pt\" version=\"1.1\" viewBox=\"0 0 372.103125 248.518125\" width=\"372.103125pt\" xmlns=\"http://www.w3.org/2000/svg\" xmlns:xlink=\"http://www.w3.org/1999/xlink\">\r\n <defs>\r\n  <style type=\"text/css\">\r\n*{stroke-linecap:butt;stroke-linejoin:round;}\r\n  </style>\r\n </defs>\r\n <g id=\"figure_1\">\r\n  <g id=\"patch_1\">\r\n   <path d=\"M 0 248.518125 \r\nL 372.103125 248.518125 \r\nL 372.103125 0 \r\nL 0 0 \r\nz\r\n\" style=\"fill:none;\"/>\r\n  </g>\r\n  <g id=\"axes_1\">\r\n   <g id=\"patch_2\">\r\n    <path d=\"M 30.103125 224.64 \r\nL 364.903125 224.64 \r\nL 364.903125 7.2 \r\nL 30.103125 7.2 \r\nz\r\n\" style=\"fill:#ffffff;\"/>\r\n   </g>\r\n   <g id=\"matplotlib.axis_1\">\r\n    <g id=\"xtick_1\">\r\n     <g id=\"line2d_1\">\r\n      <defs>\r\n       <path d=\"M 0 0 \r\nL 0 3.5 \r\n\" id=\"m00593498fb\" style=\"stroke:#000000;stroke-width:0.8;\"/>\r\n      </defs>\r\n      <g>\r\n       <use style=\"stroke:#000000;stroke-width:0.8;\" x=\"61.340446\" xlink:href=\"#m00593498fb\" y=\"224.64\"/>\r\n      </g>\r\n     </g>\r\n     <g id=\"text_1\">\r\n      <!-- 2020-02-27 -->\r\n      <defs>\r\n       <path d=\"M 19.1875 8.296875 \r\nL 53.609375 8.296875 \r\nL 53.609375 0 \r\nL 7.328125 0 \r\nL 7.328125 8.296875 \r\nQ 12.9375 14.109375 22.625 23.890625 \r\nQ 32.328125 33.6875 34.8125 36.53125 \r\nQ 39.546875 41.84375 41.421875 45.53125 \r\nQ 43.3125 49.21875 43.3125 52.78125 \r\nQ 43.3125 58.59375 39.234375 62.25 \r\nQ 35.15625 65.921875 28.609375 65.921875 \r\nQ 23.96875 65.921875 18.8125 64.3125 \r\nQ 13.671875 62.703125 7.8125 59.421875 \r\nL 7.8125 69.390625 \r\nQ 13.765625 71.78125 18.9375 73 \r\nQ 24.125 74.21875 28.421875 74.21875 \r\nQ 39.75 74.21875 46.484375 68.546875 \r\nQ 53.21875 62.890625 53.21875 53.421875 \r\nQ 53.21875 48.921875 51.53125 44.890625 \r\nQ 49.859375 40.875 45.40625 35.40625 \r\nQ 44.1875 33.984375 37.640625 27.21875 \r\nQ 31.109375 20.453125 19.1875 8.296875 \r\nz\r\n\" id=\"DejaVuSans-50\"/>\r\n       <path d=\"M 31.78125 66.40625 \r\nQ 24.171875 66.40625 20.328125 58.90625 \r\nQ 16.5 51.421875 16.5 36.375 \r\nQ 16.5 21.390625 20.328125 13.890625 \r\nQ 24.171875 6.390625 31.78125 6.390625 \r\nQ 39.453125 6.390625 43.28125 13.890625 \r\nQ 47.125 21.390625 47.125 36.375 \r\nQ 47.125 51.421875 43.28125 58.90625 \r\nQ 39.453125 66.40625 31.78125 66.40625 \r\nz\r\nM 31.78125 74.21875 \r\nQ 44.046875 74.21875 50.515625 64.515625 \r\nQ 56.984375 54.828125 56.984375 36.375 \r\nQ 56.984375 17.96875 50.515625 8.265625 \r\nQ 44.046875 -1.421875 31.78125 -1.421875 \r\nQ 19.53125 -1.421875 13.0625 8.265625 \r\nQ 6.59375 17.96875 6.59375 36.375 \r\nQ 6.59375 54.828125 13.0625 64.515625 \r\nQ 19.53125 74.21875 31.78125 74.21875 \r\nz\r\n\" id=\"DejaVuSans-48\"/>\r\n       <path d=\"M 4.890625 31.390625 \r\nL 31.203125 31.390625 \r\nL 31.203125 23.390625 \r\nL 4.890625 23.390625 \r\nz\r\n\" id=\"DejaVuSans-45\"/>\r\n       <path d=\"M 8.203125 72.90625 \r\nL 55.078125 72.90625 \r\nL 55.078125 68.703125 \r\nL 28.609375 0 \r\nL 18.3125 0 \r\nL 43.21875 64.59375 \r\nL 8.203125 64.59375 \r\nz\r\n\" id=\"DejaVuSans-55\"/>\r\n      </defs>\r\n      <g transform=\"translate(32.282633 239.238437)scale(0.1 -0.1)\">\r\n       <use xlink:href=\"#DejaVuSans-50\"/>\r\n       <use x=\"63.623047\" xlink:href=\"#DejaVuSans-48\"/>\r\n       <use x=\"127.246094\" xlink:href=\"#DejaVuSans-50\"/>\r\n       <use x=\"190.869141\" xlink:href=\"#DejaVuSans-48\"/>\r\n       <use x=\"254.492188\" xlink:href=\"#DejaVuSans-45\"/>\r\n       <use x=\"290.576172\" xlink:href=\"#DejaVuSans-48\"/>\r\n       <use x=\"354.199219\" xlink:href=\"#DejaVuSans-50\"/>\r\n       <use x=\"417.822266\" xlink:href=\"#DejaVuSans-45\"/>\r\n       <use x=\"453.90625\" xlink:href=\"#DejaVuSans-50\"/>\r\n       <use x=\"517.529297\" xlink:href=\"#DejaVuSans-55\"/>\r\n      </g>\r\n     </g>\r\n    </g>\r\n    <g id=\"xtick_2\">\r\n     <g id=\"line2d_2\">\r\n      <g>\r\n       <use style=\"stroke:#000000;stroke-width:0.8;\" x=\"93.378723\" xlink:href=\"#m00593498fb\" y=\"224.64\"/>\r\n      </g>\r\n     </g>\r\n     <g id=\"text_2\">\r\n      <!-- 2020-02-29 -->\r\n      <defs>\r\n       <path d=\"M 10.984375 1.515625 \r\nL 10.984375 10.5 \r\nQ 14.703125 8.734375 18.5 7.8125 \r\nQ 22.3125 6.890625 25.984375 6.890625 \r\nQ 35.75 6.890625 40.890625 13.453125 \r\nQ 46.046875 20.015625 46.78125 33.40625 \r\nQ 43.953125 29.203125 39.59375 26.953125 \r\nQ 35.25 24.703125 29.984375 24.703125 \r\nQ 19.046875 24.703125 12.671875 31.3125 \r\nQ 6.296875 37.9375 6.296875 49.421875 \r\nQ 6.296875 60.640625 12.9375 67.421875 \r\nQ 19.578125 74.21875 30.609375 74.21875 \r\nQ 43.265625 74.21875 49.921875 64.515625 \r\nQ 56.59375 54.828125 56.59375 36.375 \r\nQ 56.59375 19.140625 48.40625 8.859375 \r\nQ 40.234375 -1.421875 26.421875 -1.421875 \r\nQ 22.703125 -1.421875 18.890625 -0.6875 \r\nQ 15.09375 0.046875 10.984375 1.515625 \r\nz\r\nM 30.609375 32.421875 \r\nQ 37.25 32.421875 41.125 36.953125 \r\nQ 45.015625 41.5 45.015625 49.421875 \r\nQ 45.015625 57.28125 41.125 61.84375 \r\nQ 37.25 66.40625 30.609375 66.40625 \r\nQ 23.96875 66.40625 20.09375 61.84375 \r\nQ 16.21875 57.28125 16.21875 49.421875 \r\nQ 16.21875 41.5 20.09375 36.953125 \r\nQ 23.96875 32.421875 30.609375 32.421875 \r\nz\r\n\" id=\"DejaVuSans-57\"/>\r\n      </defs>\r\n      <g transform=\"translate(64.320911 239.238437)scale(0.1 -0.1)\">\r\n       <use xlink:href=\"#DejaVuSans-50\"/>\r\n       <use x=\"63.623047\" xlink:href=\"#DejaVuSans-48\"/>\r\n       <use x=\"127.246094\" xlink:href=\"#DejaVuSans-50\"/>\r\n       <use x=\"190.869141\" xlink:href=\"#DejaVuSans-48\"/>\r\n       <use x=\"254.492188\" xlink:href=\"#DejaVuSans-45\"/>\r\n       <use x=\"290.576172\" xlink:href=\"#DejaVuSans-48\"/>\r\n       <use x=\"354.199219\" xlink:href=\"#DejaVuSans-50\"/>\r\n       <use x=\"417.822266\" xlink:href=\"#DejaVuSans-45\"/>\r\n       <use x=\"453.90625\" xlink:href=\"#DejaVuSans-50\"/>\r\n       <use x=\"517.529297\" xlink:href=\"#DejaVuSans-57\"/>\r\n      </g>\r\n     </g>\r\n    </g>\r\n    <g id=\"xtick_3\">\r\n     <g id=\"line2d_3\">\r\n      <g>\r\n       <use style=\"stroke:#000000;stroke-width:0.8;\" x=\"109.397862\" xlink:href=\"#m00593498fb\" y=\"224.64\"/>\r\n      </g>\r\n     </g>\r\n     <g id=\"text_3\">\r\n      <!-- 2020-03-01 -->\r\n      <defs>\r\n       <path d=\"M 40.578125 39.3125 \r\nQ 47.65625 37.796875 51.625 33 \r\nQ 55.609375 28.21875 55.609375 21.1875 \r\nQ 55.609375 10.40625 48.1875 4.484375 \r\nQ 40.765625 -1.421875 27.09375 -1.421875 \r\nQ 22.515625 -1.421875 17.65625 -0.515625 \r\nQ 12.796875 0.390625 7.625 2.203125 \r\nL 7.625 11.71875 \r\nQ 11.71875 9.328125 16.59375 8.109375 \r\nQ 21.484375 6.890625 26.8125 6.890625 \r\nQ 36.078125 6.890625 40.9375 10.546875 \r\nQ 45.796875 14.203125 45.796875 21.1875 \r\nQ 45.796875 27.640625 41.28125 31.265625 \r\nQ 36.765625 34.90625 28.71875 34.90625 \r\nL 20.21875 34.90625 \r\nL 20.21875 43.015625 \r\nL 29.109375 43.015625 \r\nQ 36.375 43.015625 40.234375 45.921875 \r\nQ 44.09375 48.828125 44.09375 54.296875 \r\nQ 44.09375 59.90625 40.109375 62.90625 \r\nQ 36.140625 65.921875 28.71875 65.921875 \r\nQ 24.65625 65.921875 20.015625 65.03125 \r\nQ 15.375 64.15625 9.8125 62.3125 \r\nL 9.8125 71.09375 \r\nQ 15.4375 72.65625 20.34375 73.4375 \r\nQ 25.25 74.21875 29.59375 74.21875 \r\nQ 40.828125 74.21875 47.359375 69.109375 \r\nQ 53.90625 64.015625 53.90625 55.328125 \r\nQ 53.90625 49.265625 50.4375 45.09375 \r\nQ 46.96875 40.921875 40.578125 39.3125 \r\nz\r\n\" id=\"DejaVuSans-51\"/>\r\n       <path d=\"M 12.40625 8.296875 \r\nL 28.515625 8.296875 \r\nL 28.515625 63.921875 \r\nL 10.984375 60.40625 \r\nL 10.984375 69.390625 \r\nL 28.421875 72.90625 \r\nL 38.28125 72.90625 \r\nL 38.28125 8.296875 \r\nL 54.390625 8.296875 \r\nL 54.390625 0 \r\nL 12.40625 0 \r\nz\r\n\" id=\"DejaVuSans-49\"/>\r\n      </defs>\r\n      <g transform=\"translate(80.340049 239.238437)scale(0.1 -0.1)\">\r\n       <use xlink:href=\"#DejaVuSans-50\"/>\r\n       <use x=\"63.623047\" xlink:href=\"#DejaVuSans-48\"/>\r\n       <use x=\"127.246094\" xlink:href=\"#DejaVuSans-50\"/>\r\n       <use x=\"190.869141\" xlink:href=\"#DejaVuSans-48\"/>\r\n       <use x=\"254.492188\" xlink:href=\"#DejaVuSans-45\"/>\r\n       <use x=\"290.576172\" xlink:href=\"#DejaVuSans-48\"/>\r\n       <use x=\"354.199219\" xlink:href=\"#DejaVuSans-51\"/>\r\n       <use x=\"417.822266\" xlink:href=\"#DejaVuSans-45\"/>\r\n       <use x=\"453.90625\" xlink:href=\"#DejaVuSans-48\"/>\r\n       <use x=\"517.529297\" xlink:href=\"#DejaVuSans-49\"/>\r\n      </g>\r\n     </g>\r\n    </g>\r\n    <g id=\"xtick_4\">\r\n     <g id=\"line2d_4\">\r\n      <g>\r\n       <use style=\"stroke:#000000;stroke-width:0.8;\" x=\"141.436139\" xlink:href=\"#m00593498fb\" y=\"224.64\"/>\r\n      </g>\r\n     </g>\r\n     <g id=\"text_4\">\r\n      <!-- 2020-03-03 -->\r\n      <g transform=\"translate(112.378327 239.238437)scale(0.1 -0.1)\">\r\n       <use xlink:href=\"#DejaVuSans-50\"/>\r\n       <use x=\"63.623047\" xlink:href=\"#DejaVuSans-48\"/>\r\n       <use x=\"127.246094\" xlink:href=\"#DejaVuSans-50\"/>\r\n       <use x=\"190.869141\" xlink:href=\"#DejaVuSans-48\"/>\r\n       <use x=\"254.492188\" xlink:href=\"#DejaVuSans-45\"/>\r\n       <use x=\"290.576172\" xlink:href=\"#DejaVuSans-48\"/>\r\n       <use x=\"354.199219\" xlink:href=\"#DejaVuSans-51\"/>\r\n       <use x=\"417.822266\" xlink:href=\"#DejaVuSans-45\"/>\r\n       <use x=\"453.90625\" xlink:href=\"#DejaVuSans-48\"/>\r\n       <use x=\"517.529297\" xlink:href=\"#DejaVuSans-51\"/>\r\n      </g>\r\n     </g>\r\n    </g>\r\n    <g id=\"xtick_5\">\r\n     <g id=\"line2d_5\">\r\n      <g>\r\n       <use style=\"stroke:#000000;stroke-width:0.8;\" x=\"173.474417\" xlink:href=\"#m00593498fb\" y=\"224.64\"/>\r\n      </g>\r\n     </g>\r\n     <g id=\"text_5\">\r\n      <!-- 2020-03-05 -->\r\n      <defs>\r\n       <path d=\"M 10.796875 72.90625 \r\nL 49.515625 72.90625 \r\nL 49.515625 64.59375 \r\nL 19.828125 64.59375 \r\nL 19.828125 46.734375 \r\nQ 21.96875 47.46875 24.109375 47.828125 \r\nQ 26.265625 48.1875 28.421875 48.1875 \r\nQ 40.625 48.1875 47.75 41.5 \r\nQ 54.890625 34.8125 54.890625 23.390625 \r\nQ 54.890625 11.625 47.5625 5.09375 \r\nQ 40.234375 -1.421875 26.90625 -1.421875 \r\nQ 22.3125 -1.421875 17.546875 -0.640625 \r\nQ 12.796875 0.140625 7.71875 1.703125 \r\nL 7.71875 11.625 \r\nQ 12.109375 9.234375 16.796875 8.0625 \r\nQ 21.484375 6.890625 26.703125 6.890625 \r\nQ 35.15625 6.890625 40.078125 11.328125 \r\nQ 45.015625 15.765625 45.015625 23.390625 \r\nQ 45.015625 31 40.078125 35.4375 \r\nQ 35.15625 39.890625 26.703125 39.890625 \r\nQ 22.75 39.890625 18.8125 39.015625 \r\nQ 14.890625 38.140625 10.796875 36.28125 \r\nz\r\n\" id=\"DejaVuSans-53\"/>\r\n      </defs>\r\n      <g transform=\"translate(144.416604 239.238437)scale(0.1 -0.1)\">\r\n       <use xlink:href=\"#DejaVuSans-50\"/>\r\n       <use x=\"63.623047\" xlink:href=\"#DejaVuSans-48\"/>\r\n       <use x=\"127.246094\" xlink:href=\"#DejaVuSans-50\"/>\r\n       <use x=\"190.869141\" xlink:href=\"#DejaVuSans-48\"/>\r\n       <use x=\"254.492188\" xlink:href=\"#DejaVuSans-45\"/>\r\n       <use x=\"290.576172\" xlink:href=\"#DejaVuSans-48\"/>\r\n       <use x=\"354.199219\" xlink:href=\"#DejaVuSans-51\"/>\r\n       <use x=\"417.822266\" xlink:href=\"#DejaVuSans-45\"/>\r\n       <use x=\"453.90625\" xlink:href=\"#DejaVuSans-48\"/>\r\n       <use x=\"517.529297\" xlink:href=\"#DejaVuSans-53\"/>\r\n      </g>\r\n     </g>\r\n    </g>\r\n    <g id=\"xtick_6\">\r\n     <g id=\"line2d_6\">\r\n      <g>\r\n       <use style=\"stroke:#000000;stroke-width:0.8;\" x=\"205.512694\" xlink:href=\"#m00593498fb\" y=\"224.64\"/>\r\n      </g>\r\n     </g>\r\n     <g id=\"text_6\">\r\n      <!-- 2020-03-07 -->\r\n      <g transform=\"translate(176.454882 239.238437)scale(0.1 -0.1)\">\r\n       <use xlink:href=\"#DejaVuSans-50\"/>\r\n       <use x=\"63.623047\" xlink:href=\"#DejaVuSans-48\"/>\r\n       <use x=\"127.246094\" xlink:href=\"#DejaVuSans-50\"/>\r\n       <use x=\"190.869141\" xlink:href=\"#DejaVuSans-48\"/>\r\n       <use x=\"254.492188\" xlink:href=\"#DejaVuSans-45\"/>\r\n       <use x=\"290.576172\" xlink:href=\"#DejaVuSans-48\"/>\r\n       <use x=\"354.199219\" xlink:href=\"#DejaVuSans-51\"/>\r\n       <use x=\"417.822266\" xlink:href=\"#DejaVuSans-45\"/>\r\n       <use x=\"453.90625\" xlink:href=\"#DejaVuSans-48\"/>\r\n       <use x=\"517.529297\" xlink:href=\"#DejaVuSans-55\"/>\r\n      </g>\r\n     </g>\r\n    </g>\r\n    <g id=\"xtick_7\">\r\n     <g id=\"line2d_7\">\r\n      <g>\r\n       <use style=\"stroke:#000000;stroke-width:0.8;\" x=\"237.550972\" xlink:href=\"#m00593498fb\" y=\"224.64\"/>\r\n      </g>\r\n     </g>\r\n     <g id=\"text_7\">\r\n      <!-- 2020-03-09 -->\r\n      <g transform=\"translate(208.493159 239.238437)scale(0.1 -0.1)\">\r\n       <use xlink:href=\"#DejaVuSans-50\"/>\r\n       <use x=\"63.623047\" xlink:href=\"#DejaVuSans-48\"/>\r\n       <use x=\"127.246094\" xlink:href=\"#DejaVuSans-50\"/>\r\n       <use x=\"190.869141\" xlink:href=\"#DejaVuSans-48\"/>\r\n       <use x=\"254.492188\" xlink:href=\"#DejaVuSans-45\"/>\r\n       <use x=\"290.576172\" xlink:href=\"#DejaVuSans-48\"/>\r\n       <use x=\"354.199219\" xlink:href=\"#DejaVuSans-51\"/>\r\n       <use x=\"417.822266\" xlink:href=\"#DejaVuSans-45\"/>\r\n       <use x=\"453.90625\" xlink:href=\"#DejaVuSans-48\"/>\r\n       <use x=\"517.529297\" xlink:href=\"#DejaVuSans-57\"/>\r\n      </g>\r\n     </g>\r\n    </g>\r\n    <g id=\"xtick_8\">\r\n     <g id=\"line2d_8\">\r\n      <g>\r\n       <use style=\"stroke:#000000;stroke-width:0.8;\" x=\"269.589249\" xlink:href=\"#m00593498fb\" y=\"224.64\"/>\r\n      </g>\r\n     </g>\r\n     <g id=\"text_8\">\r\n      <!-- 2020-03-11 -->\r\n      <g transform=\"translate(240.531437 239.238437)scale(0.1 -0.1)\">\r\n       <use xlink:href=\"#DejaVuSans-50\"/>\r\n       <use x=\"63.623047\" xlink:href=\"#DejaVuSans-48\"/>\r\n       <use x=\"127.246094\" xlink:href=\"#DejaVuSans-50\"/>\r\n       <use x=\"190.869141\" xlink:href=\"#DejaVuSans-48\"/>\r\n       <use x=\"254.492188\" xlink:href=\"#DejaVuSans-45\"/>\r\n       <use x=\"290.576172\" xlink:href=\"#DejaVuSans-48\"/>\r\n       <use x=\"354.199219\" xlink:href=\"#DejaVuSans-51\"/>\r\n       <use x=\"417.822266\" xlink:href=\"#DejaVuSans-45\"/>\r\n       <use x=\"453.90625\" xlink:href=\"#DejaVuSans-49\"/>\r\n       <use x=\"517.529297\" xlink:href=\"#DejaVuSans-49\"/>\r\n      </g>\r\n     </g>\r\n    </g>\r\n    <g id=\"xtick_9\">\r\n     <g id=\"line2d_9\">\r\n      <g>\r\n       <use style=\"stroke:#000000;stroke-width:0.8;\" x=\"301.627527\" xlink:href=\"#m00593498fb\" y=\"224.64\"/>\r\n      </g>\r\n     </g>\r\n     <g id=\"text_9\">\r\n      <!-- 2020-03-13 -->\r\n      <g transform=\"translate(272.569714 239.238437)scale(0.1 -0.1)\">\r\n       <use xlink:href=\"#DejaVuSans-50\"/>\r\n       <use x=\"63.623047\" xlink:href=\"#DejaVuSans-48\"/>\r\n       <use x=\"127.246094\" xlink:href=\"#DejaVuSans-50\"/>\r\n       <use x=\"190.869141\" xlink:href=\"#DejaVuSans-48\"/>\r\n       <use x=\"254.492188\" xlink:href=\"#DejaVuSans-45\"/>\r\n       <use x=\"290.576172\" xlink:href=\"#DejaVuSans-48\"/>\r\n       <use x=\"354.199219\" xlink:href=\"#DejaVuSans-51\"/>\r\n       <use x=\"417.822266\" xlink:href=\"#DejaVuSans-45\"/>\r\n       <use x=\"453.90625\" xlink:href=\"#DejaVuSans-49\"/>\r\n       <use x=\"517.529297\" xlink:href=\"#DejaVuSans-51\"/>\r\n      </g>\r\n     </g>\r\n    </g>\r\n    <g id=\"xtick_10\">\r\n     <g id=\"line2d_10\">\r\n      <g>\r\n       <use style=\"stroke:#000000;stroke-width:0.8;\" x=\"333.665804\" xlink:href=\"#m00593498fb\" y=\"224.64\"/>\r\n      </g>\r\n     </g>\r\n     <g id=\"text_10\">\r\n      <!-- 2020-03-15 -->\r\n      <g transform=\"translate(304.607992 239.238437)scale(0.1 -0.1)\">\r\n       <use xlink:href=\"#DejaVuSans-50\"/>\r\n       <use x=\"63.623047\" xlink:href=\"#DejaVuSans-48\"/>\r\n       <use x=\"127.246094\" xlink:href=\"#DejaVuSans-50\"/>\r\n       <use x=\"190.869141\" xlink:href=\"#DejaVuSans-48\"/>\r\n       <use x=\"254.492188\" xlink:href=\"#DejaVuSans-45\"/>\r\n       <use x=\"290.576172\" xlink:href=\"#DejaVuSans-48\"/>\r\n       <use x=\"354.199219\" xlink:href=\"#DejaVuSans-51\"/>\r\n       <use x=\"417.822266\" xlink:href=\"#DejaVuSans-45\"/>\r\n       <use x=\"453.90625\" xlink:href=\"#DejaVuSans-49\"/>\r\n       <use x=\"517.529297\" xlink:href=\"#DejaVuSans-53\"/>\r\n      </g>\r\n     </g>\r\n    </g>\r\n   </g>\r\n   <g id=\"matplotlib.axis_2\">\r\n    <g id=\"ytick_1\">\r\n     <g id=\"line2d_11\">\r\n      <defs>\r\n       <path d=\"M 0 0 \r\nL -3.5 0 \r\n\" id=\"md1b6bc6035\" style=\"stroke:#000000;stroke-width:0.8;\"/>\r\n      </defs>\r\n      <g>\r\n       <use style=\"stroke:#000000;stroke-width:0.8;\" x=\"30.103125\" xlink:href=\"#md1b6bc6035\" y=\"206.971366\"/>\r\n      </g>\r\n     </g>\r\n     <g id=\"text_11\">\r\n      <!-- 0.2 -->\r\n      <defs>\r\n       <path d=\"M 10.6875 12.40625 \r\nL 21 12.40625 \r\nL 21 0 \r\nL 10.6875 0 \r\nz\r\n\" id=\"DejaVuSans-46\"/>\r\n      </defs>\r\n      <g transform=\"translate(7.2 210.770585)scale(0.1 -0.1)\">\r\n       <use xlink:href=\"#DejaVuSans-48\"/>\r\n       <use x=\"63.623047\" xlink:href=\"#DejaVuSans-46\"/>\r\n       <use x=\"95.410156\" xlink:href=\"#DejaVuSans-50\"/>\r\n      </g>\r\n     </g>\r\n    </g>\r\n    <g id=\"ytick_2\">\r\n     <g id=\"line2d_12\">\r\n      <g>\r\n       <use style=\"stroke:#000000;stroke-width:0.8;\" x=\"30.103125\" xlink:href=\"#md1b6bc6035\" y=\"159.499434\"/>\r\n      </g>\r\n     </g>\r\n     <g id=\"text_12\">\r\n      <!-- 0.4 -->\r\n      <defs>\r\n       <path d=\"M 37.796875 64.3125 \r\nL 12.890625 25.390625 \r\nL 37.796875 25.390625 \r\nz\r\nM 35.203125 72.90625 \r\nL 47.609375 72.90625 \r\nL 47.609375 25.390625 \r\nL 58.015625 25.390625 \r\nL 58.015625 17.1875 \r\nL 47.609375 17.1875 \r\nL 47.609375 0 \r\nL 37.796875 0 \r\nL 37.796875 17.1875 \r\nL 4.890625 17.1875 \r\nL 4.890625 26.703125 \r\nz\r\n\" id=\"DejaVuSans-52\"/>\r\n      </defs>\r\n      <g transform=\"translate(7.2 163.298653)scale(0.1 -0.1)\">\r\n       <use xlink:href=\"#DejaVuSans-48\"/>\r\n       <use x=\"63.623047\" xlink:href=\"#DejaVuSans-46\"/>\r\n       <use x=\"95.410156\" xlink:href=\"#DejaVuSans-52\"/>\r\n      </g>\r\n     </g>\r\n    </g>\r\n    <g id=\"ytick_3\">\r\n     <g id=\"line2d_13\">\r\n      <g>\r\n       <use style=\"stroke:#000000;stroke-width:0.8;\" x=\"30.103125\" xlink:href=\"#md1b6bc6035\" y=\"112.027501\"/>\r\n      </g>\r\n     </g>\r\n     <g id=\"text_13\">\r\n      <!-- 0.6 -->\r\n      <defs>\r\n       <path d=\"M 33.015625 40.375 \r\nQ 26.375 40.375 22.484375 35.828125 \r\nQ 18.609375 31.296875 18.609375 23.390625 \r\nQ 18.609375 15.53125 22.484375 10.953125 \r\nQ 26.375 6.390625 33.015625 6.390625 \r\nQ 39.65625 6.390625 43.53125 10.953125 \r\nQ 47.40625 15.53125 47.40625 23.390625 \r\nQ 47.40625 31.296875 43.53125 35.828125 \r\nQ 39.65625 40.375 33.015625 40.375 \r\nz\r\nM 52.59375 71.296875 \r\nL 52.59375 62.3125 \r\nQ 48.875 64.0625 45.09375 64.984375 \r\nQ 41.3125 65.921875 37.59375 65.921875 \r\nQ 27.828125 65.921875 22.671875 59.328125 \r\nQ 17.53125 52.734375 16.796875 39.40625 \r\nQ 19.671875 43.65625 24.015625 45.921875 \r\nQ 28.375 48.1875 33.59375 48.1875 \r\nQ 44.578125 48.1875 50.953125 41.515625 \r\nQ 57.328125 34.859375 57.328125 23.390625 \r\nQ 57.328125 12.15625 50.6875 5.359375 \r\nQ 44.046875 -1.421875 33.015625 -1.421875 \r\nQ 20.359375 -1.421875 13.671875 8.265625 \r\nQ 6.984375 17.96875 6.984375 36.375 \r\nQ 6.984375 53.65625 15.1875 63.9375 \r\nQ 23.390625 74.21875 37.203125 74.21875 \r\nQ 40.921875 74.21875 44.703125 73.484375 \r\nQ 48.484375 72.75 52.59375 71.296875 \r\nz\r\n\" id=\"DejaVuSans-54\"/>\r\n      </defs>\r\n      <g transform=\"translate(7.2 115.82672)scale(0.1 -0.1)\">\r\n       <use xlink:href=\"#DejaVuSans-48\"/>\r\n       <use x=\"63.623047\" xlink:href=\"#DejaVuSans-46\"/>\r\n       <use x=\"95.410156\" xlink:href=\"#DejaVuSans-54\"/>\r\n      </g>\r\n     </g>\r\n    </g>\r\n    <g id=\"ytick_4\">\r\n     <g id=\"line2d_14\">\r\n      <g>\r\n       <use style=\"stroke:#000000;stroke-width:0.8;\" x=\"30.103125\" xlink:href=\"#md1b6bc6035\" y=\"64.555569\"/>\r\n      </g>\r\n     </g>\r\n     <g id=\"text_14\">\r\n      <!-- 0.8 -->\r\n      <defs>\r\n       <path d=\"M 31.78125 34.625 \r\nQ 24.75 34.625 20.71875 30.859375 \r\nQ 16.703125 27.09375 16.703125 20.515625 \r\nQ 16.703125 13.921875 20.71875 10.15625 \r\nQ 24.75 6.390625 31.78125 6.390625 \r\nQ 38.8125 6.390625 42.859375 10.171875 \r\nQ 46.921875 13.96875 46.921875 20.515625 \r\nQ 46.921875 27.09375 42.890625 30.859375 \r\nQ 38.875 34.625 31.78125 34.625 \r\nz\r\nM 21.921875 38.8125 \r\nQ 15.578125 40.375 12.03125 44.71875 \r\nQ 8.5 49.078125 8.5 55.328125 \r\nQ 8.5 64.0625 14.71875 69.140625 \r\nQ 20.953125 74.21875 31.78125 74.21875 \r\nQ 42.671875 74.21875 48.875 69.140625 \r\nQ 55.078125 64.0625 55.078125 55.328125 \r\nQ 55.078125 49.078125 51.53125 44.71875 \r\nQ 48 40.375 41.703125 38.8125 \r\nQ 48.828125 37.15625 52.796875 32.3125 \r\nQ 56.78125 27.484375 56.78125 20.515625 \r\nQ 56.78125 9.90625 50.3125 4.234375 \r\nQ 43.84375 -1.421875 31.78125 -1.421875 \r\nQ 19.734375 -1.421875 13.25 4.234375 \r\nQ 6.78125 9.90625 6.78125 20.515625 \r\nQ 6.78125 27.484375 10.78125 32.3125 \r\nQ 14.796875 37.15625 21.921875 38.8125 \r\nz\r\nM 18.3125 54.390625 \r\nQ 18.3125 48.734375 21.84375 45.5625 \r\nQ 25.390625 42.390625 31.78125 42.390625 \r\nQ 38.140625 42.390625 41.71875 45.5625 \r\nQ 45.3125 48.734375 45.3125 54.390625 \r\nQ 45.3125 60.0625 41.71875 63.234375 \r\nQ 38.140625 66.40625 31.78125 66.40625 \r\nQ 25.390625 66.40625 21.84375 63.234375 \r\nQ 18.3125 60.0625 18.3125 54.390625 \r\nz\r\n\" id=\"DejaVuSans-56\"/>\r\n      </defs>\r\n      <g transform=\"translate(7.2 68.354788)scale(0.1 -0.1)\">\r\n       <use xlink:href=\"#DejaVuSans-48\"/>\r\n       <use x=\"63.623047\" xlink:href=\"#DejaVuSans-46\"/>\r\n       <use x=\"95.410156\" xlink:href=\"#DejaVuSans-56\"/>\r\n      </g>\r\n     </g>\r\n    </g>\r\n    <g id=\"ytick_5\">\r\n     <g id=\"line2d_15\">\r\n      <g>\r\n       <use style=\"stroke:#000000;stroke-width:0.8;\" x=\"30.103125\" xlink:href=\"#md1b6bc6035\" y=\"17.083636\"/>\r\n      </g>\r\n     </g>\r\n     <g id=\"text_15\">\r\n      <!-- 1.0 -->\r\n      <g transform=\"translate(7.2 20.882855)scale(0.1 -0.1)\">\r\n       <use xlink:href=\"#DejaVuSans-49\"/>\r\n       <use x=\"63.623047\" xlink:href=\"#DejaVuSans-46\"/>\r\n       <use x=\"95.410156\" xlink:href=\"#DejaVuSans-48\"/>\r\n      </g>\r\n     </g>\r\n    </g>\r\n   </g>\r\n   <g id=\"line2d_16\">\r\n    <path clip-path=\"url(#p0c7acbe55e)\" d=\"M 45.321307 148.426121 \r\nL 61.340446 146.643867 \r\nL 77.359584 144.852434 \r\nL 93.378723 142.372493 \r\nL 109.397862 139.280106 \r\nL 125.417001 136.739838 \r\nL 141.436139 133.416638 \r\nL 157.455278 130.426544 \r\nL 173.474417 126.804334 \r\nL 189.493556 121.687077 \r\nL 205.512694 116.392776 \r\nL 221.531833 111.181095 \r\nL 237.550972 106.242195 \r\nL 253.570111 99.644317 \r\nL 269.589249 90.106181 \r\nL 285.608388 86.856421 \r\nL 301.627527 64.75858 \r\nL 317.646666 50.458589 \r\nL 333.665804 35.57107 \r\nL 349.684943 17.083636 \r\n\" style=\"fill:none;stroke:#1f77b4;stroke-linecap:square;stroke-width:1.5;\"/>\r\n   </g>\r\n   <g id=\"line2d_17\">\r\n    <path clip-path=\"url(#p0c7acbe55e)\" d=\"M 45.321307 214.756364 \r\nL 61.340446 210.069261 \r\nL 77.359584 206.490329 \r\nL 93.378723 202.516652 \r\nL 109.397862 199.091158 \r\nL 125.417001 196.415811 \r\nL 141.436139 195.866316 \r\nL 157.455278 176.001865 \r\nL 173.474417 167.455181 \r\nL 189.493556 164.642133 \r\nL 205.512694 161.764823 \r\nL 221.531833 159.097345 \r\nL 237.550972 156.634452 \r\nL 253.570111 155.974796 \r\nL 269.589249 155.243009 \r\nL 285.608388 154.422045 \r\nL 301.627527 152.119149 \r\nL 317.646666 151.612931 \r\nL 333.665804 150.82213 \r\nL 349.684943 149.713959 \r\n\" style=\"fill:none;stroke:#ff7f0e;stroke-linecap:square;stroke-width:1.5;\"/>\r\n   </g>\r\n   <g id=\"patch_3\">\r\n    <path d=\"M 30.103125 224.64 \r\nL 30.103125 7.2 \r\n\" style=\"fill:none;stroke:#000000;stroke-linecap:square;stroke-linejoin:miter;stroke-width:0.8;\"/>\r\n   </g>\r\n   <g id=\"patch_4\">\r\n    <path d=\"M 364.903125 224.64 \r\nL 364.903125 7.2 \r\n\" style=\"fill:none;stroke:#000000;stroke-linecap:square;stroke-linejoin:miter;stroke-width:0.8;\"/>\r\n   </g>\r\n   <g id=\"patch_5\">\r\n    <path d=\"M 30.103125 224.64 \r\nL 364.903125 224.64 \r\n\" style=\"fill:none;stroke:#000000;stroke-linecap:square;stroke-linejoin:miter;stroke-width:0.8;\"/>\r\n   </g>\r\n   <g id=\"patch_6\">\r\n    <path d=\"M 30.103125 7.2 \r\nL 364.903125 7.2 \r\n\" style=\"fill:none;stroke:#000000;stroke-linecap:square;stroke-linejoin:miter;stroke-width:0.8;\"/>\r\n   </g>\r\n  </g>\r\n </g>\r\n <defs>\r\n  <clipPath id=\"p0c7acbe55e\">\r\n   <rect height=\"217.44\" width=\"334.8\" x=\"30.103125\" y=\"7.2\"/>\r\n  </clipPath>\r\n </defs>\r\n</svg>\r\n",
      "text/plain": "<Figure size 432x288 with 1 Axes>"
     },
     "metadata": {
      "needs_background": "light"
     },
     "output_type": "display_data"
    }
   ],
   "source": [
    "plt.plot(testa)"
   ]
  },
  {
   "cell_type": "code",
   "execution_count": 32,
   "metadata": {},
   "outputs": [],
   "source": [
    "X_train = []\n",
    "y_train = []\n",
    "for i in range(7):\n",
    "    X_train.append(training_data_scaled[i-7:i, 0])\n",
    "    y_train.append(training_data_scaled[i, 0])\n",
    "X_train, y_train = np.array(X_train), np.array(y_train)\n",
    "\n",
    "X_train = np.reshape(X_train, (X_train.shape[0], X_train.shape[1], 1))"
   ]
  },
  {
   "cell_type": "code",
   "execution_count": 35,
   "metadata": {},
   "outputs": [],
   "source": [
    "# regressor = Sequential()\n",
    "\n",
    "# regressor.add(LSTM(units = 50, return_sequences = True, input_shape = (X_train.shape[1], 1)))\n",
    "# regressor.add(Dropout(0.2))\n",
    "\n",
    "# regressor.add(LSTM(units = 50, return_sequences = True))\n",
    "# regressor.add(Dropout(0.2))\n",
    "\n",
    "# regressor.add(LSTM(units = 50, return_sequences = True))\n",
    "# regressor.add(Dropout(0.2))\n",
    "\n",
    "# regressor.add(LSTM(units = 50))\n",
    "# regressor.add(Dropout(0.2))\n",
    "\n",
    "# regressor.add(Dense(units = 1))\n",
    "\n",
    "# regressor.compile(optimizer = 'adam', loss = 'mean_squared_error',metrics=['mae','acc'])\n",
    "\n",
    "# regressor.fit(X_train, y_train, epochs = 100, batch_size = 32)\n"
   ]
  },
  {
   "cell_type": "code",
   "execution_count": null,
   "metadata": {},
   "outputs": [],
   "source": []
  }
 ]
}